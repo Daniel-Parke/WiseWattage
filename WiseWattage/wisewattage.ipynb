{
 "cells": [
  {
   "cell_type": "markdown",
   "metadata": {},
   "source": [
    "# ***MAIN FUNCTIONALITY***"
   ]
  },
  {
   "cell_type": "code",
   "execution_count": 1,
   "metadata": {},
   "outputs": [],
   "source": [
    "import plotly.express as px\n",
    "import seaborn as sns"
   ]
  },
  {
   "cell_type": "code",
   "execution_count": 1,
   "metadata": {},
   "outputs": [
    {
     "name": "stderr",
     "output_type": "stream",
     "text": [
      "2024-02-17 15:50:03,457 - INFO - Fetching TMY data for latitude: 54.60452, longitude: -5.9286\n",
      "2024-02-17 15:50:04,481 - INFO - HTTP Request: GET https://re.jrc.ec.europa.eu/api/tmy?lat=54.60452&lon=-5.9286&startyear=2005&endyear=2015&outputformat=json \"HTTP/1.1 200 OK\"\n",
      "2024-02-17 15:50:05,187 - INFO - TMY data obtained for: 54.60452, longitude: -5.9286\n",
      "2024-02-17 15:50:05,187 - INFO - *******************\n",
      "2024-02-17 15:50:05,188 - INFO - Solar PV array created: Size: 1kW, Pitch: 35deg, Azimuth: -90deg, Lifespan: 25yrs\n",
      "2024-02-17 15:50:05,189 - INFO - *******************\n",
      "2024-02-17 15:50:05,189 - INFO - Solar PV array created: Size: 1kW, Pitch: 35deg, Azimuth: -45deg, Lifespan: 25yrs\n",
      "2024-02-17 15:50:05,190 - INFO - *******************\n",
      "2024-02-17 15:50:05,190 - INFO - Solar PV array created: Size: 1kW, Pitch: 35deg, Azimuth: 0deg, Lifespan: 25yrs\n",
      "2024-02-17 15:50:05,190 - INFO - *******************\n",
      "2024-02-17 15:50:05,191 - INFO - Solar PV array created: Size: 1kW, Pitch: 35deg, Azimuth: 45deg, Lifespan: 25yrs\n",
      "2024-02-17 15:50:05,191 - INFO - *******************\n",
      "2024-02-17 15:50:05,192 - INFO - Solar PV array created: Size: 1kW, Pitch: 35deg, Azimuth: 90deg, Lifespan: 25yrs\n",
      "2024-02-17 15:50:05,192 - INFO - *******************\n",
      "2024-02-17 15:50:05,193 - INFO - *******************\n",
      "2024-02-17 15:50:05,194 - INFO - Starting Solar PV model simulations.\n",
      "2024-02-17 15:50:05,194 - INFO - *******************\n",
      "2024-02-17 15:50:05,195 - INFO - Simulating model - PV Size: 1kWp, Pitch: 35 degrees, Azimuth -90 degrees WoS\n",
      "2024-02-17 15:50:05,202 - INFO - Simulating model - PV Size: 1kWp, Pitch: 35 degrees, Azimuth -45 degrees WoS\n",
      "2024-02-17 15:50:05,208 - INFO - Simulating model - PV Size: 1kWp, Pitch: 35 degrees, Azimuth 0 degrees WoS\n",
      "2024-02-17 15:50:05,216 - INFO - Simulating model - PV Size: 1kWp, Pitch: 35 degrees, Azimuth 45 degrees WoS\n",
      "2024-02-17 15:50:05,224 - INFO - Simulating model - PV Size: 1kWp, Pitch: 35 degrees, Azimuth 90 degrees WoS\n",
      "2024-02-17 15:50:05,231 - INFO - *******************\n",
      "2024-02-17 15:50:05,231 - INFO - Solar PV model simulations completed.\n",
      "2024-02-17 15:50:05,257 - INFO - Solar PV model data aggregated.\n",
      "2024-02-17 15:50:05,265 - INFO - Solar PV model data summary complete.\n",
      "2024-02-17 15:50:05,265 - INFO - *******************\n",
      "2024-02-17 15:50:05,267 - INFO - Solar PV model statistical analysis completed.\n",
      "2024-02-17 15:50:05,282 - INFO - Solar PV model statistical grouping completed.\n",
      "2024-02-17 15:50:05,282 - INFO - *******************\n",
      "2024-02-17 15:50:05,299 - INFO - Model for  saved successfully to 'c:\\Users\\djp12\\Documents\\Coding\\Github_Repos\\WiseWattage\\WiseWattage\\saved_models\\Solar_Model_Results.wwm'\n",
      "2024-02-17 15:50:05,299 - INFO - *******************\n",
      "2024-02-17 15:50:05,305 - INFO - Model successfully loaded: saved_models/Solar_Model_Results.wwm\n",
      "2024-02-17 15:50:05,305 - INFO - *******************\n"
     ]
    }
   ],
   "source": [
    "from meteo.Site import Site\n",
    "from solar.SolarPVArray import SolarPVArray\n",
    "from solar.SolarPVModel import SolarPVModel\n",
    "\n",
    "from misc.log_config import configure_logging\n",
    "from misc.util import load_pv_model\n",
    "\n",
    "configure_logging()\n",
    "\n",
    "# Set up site location and get TMY data\n",
    "name = \"\"\n",
    "address = \"York St, Belfast, BT15 1ED\"\n",
    "client = \"Ulster University\"\n",
    "\n",
    "site = Site(name=name, \n",
    "            address=address, \n",
    "            client=client, \n",
    "            latitude=54.60452, \n",
    "            longitude=-5.92860, \n",
    "            size=100)\n",
    "\n",
    "# Set up PV arrays\n",
    "pv_kwp = 1\n",
    "surface_pitch = 35\n",
    "surface_azimuth = -90\n",
    "lifespan = 25\n",
    "pv_eol_derating = 0.88\n",
    "pv_cost = 1250\n",
    "efficiency = 0.21\n",
    "temp_coeff = -0.0035\n",
    "transmission_absorption = 0.9\n",
    "refraction_index = 0.1\n",
    "\n",
    "array_1 = SolarPVArray(pv_kwp, surface_pitch, surface_azimuth, lifespan, pv_eol_derating,\n",
    "                       pv_cost, efficiency, temp_coeff, transmission_absorption, refraction_index)\n",
    "\n",
    "array_2 = SolarPVArray(1, 35, -45, cost_per_kWp=pv_cost)\n",
    "array_3 = SolarPVArray(1, 35, 0, 25, 0.88)\n",
    "array_4 = SolarPVArray(1, 35, 45)\n",
    "array_5 = SolarPVArray(1, 35, 90)\n",
    "\n",
    "# Arrange all arrays into list for modelling\n",
    "arrays = [array_1, array_2, array_3, array_4, array_5]\n",
    "\n",
    "# Run SolarPV model\n",
    "pv_model = SolarPVModel(site, arrays)\n",
    "\n",
    "# Save model as .wmm file\n",
    "pv_model.save_model()\n",
    "\n",
    "# Load .wwm model from file\n",
    "pv_model = load_pv_model()\n"
   ]
  },
  {
   "cell_type": "code",
   "execution_count": 26,
   "metadata": {},
   "outputs": [
    {
     "data": {
      "application/vnd.plotly.v1+json": {
       "config": {
        "plotlyServerURL": "https://plot.ly"
       },
       "data": [
        {
         "alignmentgroup": "True",
         "hovertemplate": "variable=PV_Gen_kWh_Total<br>Day_of_Year=%{x}<br>value=%{y}<extra></extra>",
         "legendgroup": "PV_Gen_kWh_Total",
         "marker": {
          "color": "#636efa",
          "pattern": {
           "shape": ""
          }
         },
         "name": "PV_Gen_kWh_Total",
         "offsetgroup": "PV_Gen_kWh_Total",
         "orientation": "v",
         "showlegend": true,
         "textposition": "auto",
         "type": "bar",
         "x": [
          1,
          2,
          3,
          4,
          5,
          6,
          7,
          8,
          9,
          10,
          11,
          12,
          13,
          14,
          15,
          16,
          17,
          18,
          19,
          20,
          21,
          22,
          23,
          24,
          25,
          26,
          27,
          28,
          29,
          30,
          31,
          32,
          33,
          34,
          35,
          36,
          37,
          38,
          39,
          40,
          41,
          42,
          43,
          44,
          45,
          46,
          47,
          48,
          49,
          50,
          51,
          52,
          53,
          54,
          55,
          56,
          57,
          58,
          59,
          60,
          61,
          62,
          63,
          64,
          65,
          66,
          67,
          68,
          69,
          70,
          71,
          72,
          73,
          74,
          75,
          76,
          77,
          78,
          79,
          80,
          81,
          82,
          83,
          84,
          85,
          86,
          87,
          88,
          89,
          90,
          91,
          92,
          93,
          94,
          95,
          96,
          97,
          98,
          99,
          100,
          101,
          102,
          103,
          104,
          105,
          106,
          107,
          108,
          109,
          110,
          111,
          112,
          113,
          114,
          115,
          116,
          117,
          118,
          119,
          120,
          121,
          122,
          123,
          124,
          125,
          126,
          127,
          128,
          129,
          130,
          131,
          132,
          133,
          134,
          135,
          136,
          137,
          138,
          139,
          140,
          141,
          142,
          143,
          144,
          145,
          146,
          147,
          148,
          149,
          150,
          151,
          152,
          153,
          154,
          155,
          156,
          157,
          158,
          159,
          160,
          161,
          162,
          163,
          164,
          165,
          166,
          167,
          168,
          169,
          170,
          171,
          172,
          173,
          174,
          175,
          176,
          177,
          178,
          179,
          180,
          181,
          182,
          183,
          184,
          185,
          186,
          187,
          188,
          189,
          190,
          191,
          192,
          193,
          194,
          195,
          196,
          197,
          198,
          199,
          200,
          201,
          202,
          203,
          204,
          205,
          206,
          207,
          208,
          209,
          210,
          211,
          212,
          213,
          214,
          215,
          216,
          217,
          218,
          219,
          220,
          221,
          222,
          223,
          224,
          225,
          226,
          227,
          228,
          229,
          230,
          231,
          232,
          233,
          234,
          235,
          236,
          237,
          238,
          239,
          240,
          241,
          242,
          243,
          244,
          245,
          246,
          247,
          248,
          249,
          250,
          251,
          252,
          253,
          254,
          255,
          256,
          257,
          258,
          259,
          260,
          261,
          262,
          263,
          264,
          265,
          266,
          267,
          268,
          269,
          270,
          271,
          272,
          273,
          274,
          275,
          276,
          277,
          278,
          279,
          280,
          281,
          282,
          283,
          284,
          285,
          286,
          287,
          288,
          289,
          290,
          291,
          292,
          293,
          294,
          295,
          296,
          297,
          298,
          299,
          300,
          301,
          302,
          303,
          304,
          305,
          306,
          307,
          308,
          309,
          310,
          311,
          312,
          313,
          314,
          315,
          316,
          317,
          318,
          319,
          320,
          321,
          322,
          323,
          324,
          325,
          326,
          327,
          328,
          329,
          330,
          331,
          332,
          333,
          334,
          335,
          336,
          337,
          338,
          339,
          340,
          341,
          342,
          343,
          344,
          345,
          346,
          347,
          348,
          349,
          350,
          351,
          352,
          353,
          354,
          355,
          356,
          357,
          358,
          359,
          360,
          361,
          362,
          363,
          364,
          365
         ],
         "xaxis": "x",
         "y": [
          0.108,
          0.266,
          0.246,
          0.335,
          0.415,
          0.404,
          0.318,
          0.433,
          0.356,
          0.307,
          0.223,
          0.585,
          0.316,
          0.237,
          0.301,
          0.18,
          0.367,
          0.552,
          0.589,
          0.412,
          0.595,
          0.789,
          0.563,
          0.929,
          0.604,
          0.76,
          0.534,
          0.621,
          0.171,
          0.171,
          0.313,
          1.089,
          0.641,
          0.806,
          0.42,
          0.32,
          0.539,
          0.835,
          1.018,
          0.399,
          1.399,
          0.397,
          1.538,
          1.513,
          0.901,
          0.364,
          1.797,
          0.634,
          0.484,
          1.139,
          0.529,
          0.744,
          1.257,
          0.874,
          1.407,
          1.59,
          2.345,
          1.529,
          2.284,
          1.045,
          0.599,
          0.868,
          2.011,
          1.037,
          0.555,
          0.472,
          0.52,
          1.545,
          2.637,
          1.547,
          2.692,
          1.977,
          2.703,
          1.759,
          1.415,
          0.755,
          0.69,
          0.734,
          1.604,
          0.424,
          0.485,
          0.813,
          0.648,
          1.606,
          2.04,
          1.148,
          1.689,
          1.592,
          2.534,
          1.129,
          2.064,
          3.366,
          3.733,
          4.001,
          4.186,
          3.063,
          4.329,
          3.535,
          3.545,
          0.74,
          1.155,
          2.331,
          3.41,
          3.274,
          3.596,
          1.537,
          3.067,
          3.985,
          4.138,
          3.741,
          2.601,
          2.681,
          2.421,
          3.114,
          4.263,
          5.271,
          4.653,
          3.464,
          5.139,
          4.127,
          5.716,
          5.804,
          5.782,
          3.582,
          5.475,
          2.933,
          4.204,
          3.759,
          3.872,
          3.599,
          2.842,
          3.167,
          4.661,
          5.729,
          3.354,
          1.772,
          3.395,
          3.972,
          5.531,
          5.784,
          6.886,
          6.426,
          2.591,
          2.495,
          5.764,
          5.302,
          4.385,
          6.611,
          6.298,
          6.88,
          3.647,
          6.955,
          6.428,
          5.652,
          6.078,
          4.752,
          3.605,
          4.435,
          6.174,
          3.396,
          5.223,
          5.022,
          3.015,
          4.384,
          3.907,
          3.945,
          3.366,
          4.584,
          2.862,
          4.031,
          5.083,
          6.109,
          2.454,
          3.62,
          5.098,
          2.345,
          3.834,
          4.496,
          2.126,
          3.629,
          4.154,
          2.663,
          3.464,
          3.02,
          3.758,
          2.555,
          4.271,
          5.151,
          5.137,
          3.185,
          2.522,
          5.168,
          2.314,
          1.438,
          4.695,
          5.385,
          2.675,
          5.094,
          4.15,
          3.838,
          2.306,
          3.126,
          5.354,
          4.94,
          3.9,
          5.402,
          2.914,
          4.851,
          5.121,
          5.193,
          4.883,
          6.363,
          3.127,
          4.221,
          2.665,
          4.067,
          3.779,
          2.865,
          3.221,
          4.413,
          4.05,
          3.299,
          2.63,
          2.466,
          5.382,
          5.094,
          5.825,
          2.097,
          3.506,
          2.934,
          3.843,
          3.638,
          4.237,
          3.899,
          2.309,
          3.803,
          3.926,
          4.542,
          3.294,
          3.629,
          4.199,
          4.679,
          5.109,
          2.718,
          2.958,
          4.162,
          2.979,
          1.34,
          2.75,
          0.961,
          4.136,
          4.317,
          3.719,
          4.038,
          4.105,
          1.538,
          2.37,
          2.902,
          3.362,
          1.126,
          1.501,
          3.397,
          0.789,
          1.995,
          2.341,
          1.948,
          2.183,
          2.207,
          2.321,
          0.903,
          0.773,
          1.494,
          2.738,
          1.867,
          2.018,
          1.211,
          1.548,
          1.908,
          1.862,
          2.568,
          2.243,
          1.851,
          2.033,
          1.194,
          0.376,
          2.407,
          2.346,
          0.732,
          2.066,
          1.828,
          1.228,
          0.842,
          0.857,
          1.496,
          1.439,
          0.366,
          0.836,
          0.519,
          1.368,
          0.478,
          1.615,
          0.565,
          0.895,
          0.443,
          1.39,
          0.743,
          0.887,
          0.815,
          0.508,
          0.172,
          0.516,
          0.484,
          0.447,
          0.739,
          1.164,
          0.69,
          0.76,
          0.171,
          0.421,
          0.557,
          0.707,
          0.2,
          0.488,
          0.336,
          0.373,
          0.471,
          0.57,
          0.211,
          0.491,
          0.482,
          0.288,
          0.395,
          0.371,
          0.331,
          0.216,
          0.314,
          0.675,
          0.525,
          0.314,
          0.148,
          0.189,
          0.481,
          0.406,
          0.31,
          0.292,
          0.302,
          0.124,
          0.45,
          0.477,
          0.418,
          0.299,
          0.391,
          0.236,
          0.229,
          0.351,
          0.179,
          0.291,
          0.574,
          0.394,
          0.13,
          0.478,
          0.436,
          0.228,
          0.485,
          0.109
         ],
         "yaxis": "y"
        }
       ],
       "layout": {
        "barmode": "relative",
        "legend": {
         "title": {
          "text": "variable"
         },
         "tracegroupgap": 0
        },
        "margin": {
         "t": 60
        },
        "template": {
         "data": {
          "bar": [
           {
            "error_x": {
             "color": "#2a3f5f"
            },
            "error_y": {
             "color": "#2a3f5f"
            },
            "marker": {
             "line": {
              "color": "#E5ECF6",
              "width": 0.5
             },
             "pattern": {
              "fillmode": "overlay",
              "size": 10,
              "solidity": 0.2
             }
            },
            "type": "bar"
           }
          ],
          "barpolar": [
           {
            "marker": {
             "line": {
              "color": "#E5ECF6",
              "width": 0.5
             },
             "pattern": {
              "fillmode": "overlay",
              "size": 10,
              "solidity": 0.2
             }
            },
            "type": "barpolar"
           }
          ],
          "carpet": [
           {
            "aaxis": {
             "endlinecolor": "#2a3f5f",
             "gridcolor": "white",
             "linecolor": "white",
             "minorgridcolor": "white",
             "startlinecolor": "#2a3f5f"
            },
            "baxis": {
             "endlinecolor": "#2a3f5f",
             "gridcolor": "white",
             "linecolor": "white",
             "minorgridcolor": "white",
             "startlinecolor": "#2a3f5f"
            },
            "type": "carpet"
           }
          ],
          "choropleth": [
           {
            "colorbar": {
             "outlinewidth": 0,
             "ticks": ""
            },
            "type": "choropleth"
           }
          ],
          "contour": [
           {
            "colorbar": {
             "outlinewidth": 0,
             "ticks": ""
            },
            "colorscale": [
             [
              0,
              "#0d0887"
             ],
             [
              0.1111111111111111,
              "#46039f"
             ],
             [
              0.2222222222222222,
              "#7201a8"
             ],
             [
              0.3333333333333333,
              "#9c179e"
             ],
             [
              0.4444444444444444,
              "#bd3786"
             ],
             [
              0.5555555555555556,
              "#d8576b"
             ],
             [
              0.6666666666666666,
              "#ed7953"
             ],
             [
              0.7777777777777778,
              "#fb9f3a"
             ],
             [
              0.8888888888888888,
              "#fdca26"
             ],
             [
              1,
              "#f0f921"
             ]
            ],
            "type": "contour"
           }
          ],
          "contourcarpet": [
           {
            "colorbar": {
             "outlinewidth": 0,
             "ticks": ""
            },
            "type": "contourcarpet"
           }
          ],
          "heatmap": [
           {
            "colorbar": {
             "outlinewidth": 0,
             "ticks": ""
            },
            "colorscale": [
             [
              0,
              "#0d0887"
             ],
             [
              0.1111111111111111,
              "#46039f"
             ],
             [
              0.2222222222222222,
              "#7201a8"
             ],
             [
              0.3333333333333333,
              "#9c179e"
             ],
             [
              0.4444444444444444,
              "#bd3786"
             ],
             [
              0.5555555555555556,
              "#d8576b"
             ],
             [
              0.6666666666666666,
              "#ed7953"
             ],
             [
              0.7777777777777778,
              "#fb9f3a"
             ],
             [
              0.8888888888888888,
              "#fdca26"
             ],
             [
              1,
              "#f0f921"
             ]
            ],
            "type": "heatmap"
           }
          ],
          "heatmapgl": [
           {
            "colorbar": {
             "outlinewidth": 0,
             "ticks": ""
            },
            "colorscale": [
             [
              0,
              "#0d0887"
             ],
             [
              0.1111111111111111,
              "#46039f"
             ],
             [
              0.2222222222222222,
              "#7201a8"
             ],
             [
              0.3333333333333333,
              "#9c179e"
             ],
             [
              0.4444444444444444,
              "#bd3786"
             ],
             [
              0.5555555555555556,
              "#d8576b"
             ],
             [
              0.6666666666666666,
              "#ed7953"
             ],
             [
              0.7777777777777778,
              "#fb9f3a"
             ],
             [
              0.8888888888888888,
              "#fdca26"
             ],
             [
              1,
              "#f0f921"
             ]
            ],
            "type": "heatmapgl"
           }
          ],
          "histogram": [
           {
            "marker": {
             "pattern": {
              "fillmode": "overlay",
              "size": 10,
              "solidity": 0.2
             }
            },
            "type": "histogram"
           }
          ],
          "histogram2d": [
           {
            "colorbar": {
             "outlinewidth": 0,
             "ticks": ""
            },
            "colorscale": [
             [
              0,
              "#0d0887"
             ],
             [
              0.1111111111111111,
              "#46039f"
             ],
             [
              0.2222222222222222,
              "#7201a8"
             ],
             [
              0.3333333333333333,
              "#9c179e"
             ],
             [
              0.4444444444444444,
              "#bd3786"
             ],
             [
              0.5555555555555556,
              "#d8576b"
             ],
             [
              0.6666666666666666,
              "#ed7953"
             ],
             [
              0.7777777777777778,
              "#fb9f3a"
             ],
             [
              0.8888888888888888,
              "#fdca26"
             ],
             [
              1,
              "#f0f921"
             ]
            ],
            "type": "histogram2d"
           }
          ],
          "histogram2dcontour": [
           {
            "colorbar": {
             "outlinewidth": 0,
             "ticks": ""
            },
            "colorscale": [
             [
              0,
              "#0d0887"
             ],
             [
              0.1111111111111111,
              "#46039f"
             ],
             [
              0.2222222222222222,
              "#7201a8"
             ],
             [
              0.3333333333333333,
              "#9c179e"
             ],
             [
              0.4444444444444444,
              "#bd3786"
             ],
             [
              0.5555555555555556,
              "#d8576b"
             ],
             [
              0.6666666666666666,
              "#ed7953"
             ],
             [
              0.7777777777777778,
              "#fb9f3a"
             ],
             [
              0.8888888888888888,
              "#fdca26"
             ],
             [
              1,
              "#f0f921"
             ]
            ],
            "type": "histogram2dcontour"
           }
          ],
          "mesh3d": [
           {
            "colorbar": {
             "outlinewidth": 0,
             "ticks": ""
            },
            "type": "mesh3d"
           }
          ],
          "parcoords": [
           {
            "line": {
             "colorbar": {
              "outlinewidth": 0,
              "ticks": ""
             }
            },
            "type": "parcoords"
           }
          ],
          "pie": [
           {
            "automargin": true,
            "type": "pie"
           }
          ],
          "scatter": [
           {
            "fillpattern": {
             "fillmode": "overlay",
             "size": 10,
             "solidity": 0.2
            },
            "type": "scatter"
           }
          ],
          "scatter3d": [
           {
            "line": {
             "colorbar": {
              "outlinewidth": 0,
              "ticks": ""
             }
            },
            "marker": {
             "colorbar": {
              "outlinewidth": 0,
              "ticks": ""
             }
            },
            "type": "scatter3d"
           }
          ],
          "scattercarpet": [
           {
            "marker": {
             "colorbar": {
              "outlinewidth": 0,
              "ticks": ""
             }
            },
            "type": "scattercarpet"
           }
          ],
          "scattergeo": [
           {
            "marker": {
             "colorbar": {
              "outlinewidth": 0,
              "ticks": ""
             }
            },
            "type": "scattergeo"
           }
          ],
          "scattergl": [
           {
            "marker": {
             "colorbar": {
              "outlinewidth": 0,
              "ticks": ""
             }
            },
            "type": "scattergl"
           }
          ],
          "scattermapbox": [
           {
            "marker": {
             "colorbar": {
              "outlinewidth": 0,
              "ticks": ""
             }
            },
            "type": "scattermapbox"
           }
          ],
          "scatterpolar": [
           {
            "marker": {
             "colorbar": {
              "outlinewidth": 0,
              "ticks": ""
             }
            },
            "type": "scatterpolar"
           }
          ],
          "scatterpolargl": [
           {
            "marker": {
             "colorbar": {
              "outlinewidth": 0,
              "ticks": ""
             }
            },
            "type": "scatterpolargl"
           }
          ],
          "scatterternary": [
           {
            "marker": {
             "colorbar": {
              "outlinewidth": 0,
              "ticks": ""
             }
            },
            "type": "scatterternary"
           }
          ],
          "surface": [
           {
            "colorbar": {
             "outlinewidth": 0,
             "ticks": ""
            },
            "colorscale": [
             [
              0,
              "#0d0887"
             ],
             [
              0.1111111111111111,
              "#46039f"
             ],
             [
              0.2222222222222222,
              "#7201a8"
             ],
             [
              0.3333333333333333,
              "#9c179e"
             ],
             [
              0.4444444444444444,
              "#bd3786"
             ],
             [
              0.5555555555555556,
              "#d8576b"
             ],
             [
              0.6666666666666666,
              "#ed7953"
             ],
             [
              0.7777777777777778,
              "#fb9f3a"
             ],
             [
              0.8888888888888888,
              "#fdca26"
             ],
             [
              1,
              "#f0f921"
             ]
            ],
            "type": "surface"
           }
          ],
          "table": [
           {
            "cells": {
             "fill": {
              "color": "#EBF0F8"
             },
             "line": {
              "color": "white"
             }
            },
            "header": {
             "fill": {
              "color": "#C8D4E3"
             },
             "line": {
              "color": "white"
             }
            },
            "type": "table"
           }
          ]
         },
         "layout": {
          "annotationdefaults": {
           "arrowcolor": "#2a3f5f",
           "arrowhead": 0,
           "arrowwidth": 1
          },
          "autotypenumbers": "strict",
          "coloraxis": {
           "colorbar": {
            "outlinewidth": 0,
            "ticks": ""
           }
          },
          "colorscale": {
           "diverging": [
            [
             0,
             "#8e0152"
            ],
            [
             0.1,
             "#c51b7d"
            ],
            [
             0.2,
             "#de77ae"
            ],
            [
             0.3,
             "#f1b6da"
            ],
            [
             0.4,
             "#fde0ef"
            ],
            [
             0.5,
             "#f7f7f7"
            ],
            [
             0.6,
             "#e6f5d0"
            ],
            [
             0.7,
             "#b8e186"
            ],
            [
             0.8,
             "#7fbc41"
            ],
            [
             0.9,
             "#4d9221"
            ],
            [
             1,
             "#276419"
            ]
           ],
           "sequential": [
            [
             0,
             "#0d0887"
            ],
            [
             0.1111111111111111,
             "#46039f"
            ],
            [
             0.2222222222222222,
             "#7201a8"
            ],
            [
             0.3333333333333333,
             "#9c179e"
            ],
            [
             0.4444444444444444,
             "#bd3786"
            ],
            [
             0.5555555555555556,
             "#d8576b"
            ],
            [
             0.6666666666666666,
             "#ed7953"
            ],
            [
             0.7777777777777778,
             "#fb9f3a"
            ],
            [
             0.8888888888888888,
             "#fdca26"
            ],
            [
             1,
             "#f0f921"
            ]
           ],
           "sequentialminus": [
            [
             0,
             "#0d0887"
            ],
            [
             0.1111111111111111,
             "#46039f"
            ],
            [
             0.2222222222222222,
             "#7201a8"
            ],
            [
             0.3333333333333333,
             "#9c179e"
            ],
            [
             0.4444444444444444,
             "#bd3786"
            ],
            [
             0.5555555555555556,
             "#d8576b"
            ],
            [
             0.6666666666666666,
             "#ed7953"
            ],
            [
             0.7777777777777778,
             "#fb9f3a"
            ],
            [
             0.8888888888888888,
             "#fdca26"
            ],
            [
             1,
             "#f0f921"
            ]
           ]
          },
          "colorway": [
           "#636efa",
           "#EF553B",
           "#00cc96",
           "#ab63fa",
           "#FFA15A",
           "#19d3f3",
           "#FF6692",
           "#B6E880",
           "#FF97FF",
           "#FECB52"
          ],
          "font": {
           "color": "#2a3f5f"
          },
          "geo": {
           "bgcolor": "white",
           "lakecolor": "white",
           "landcolor": "#E5ECF6",
           "showlakes": true,
           "showland": true,
           "subunitcolor": "white"
          },
          "hoverlabel": {
           "align": "left"
          },
          "hovermode": "closest",
          "mapbox": {
           "style": "light"
          },
          "paper_bgcolor": "white",
          "plot_bgcolor": "#E5ECF6",
          "polar": {
           "angularaxis": {
            "gridcolor": "white",
            "linecolor": "white",
            "ticks": ""
           },
           "bgcolor": "#E5ECF6",
           "radialaxis": {
            "gridcolor": "white",
            "linecolor": "white",
            "ticks": ""
           }
          },
          "scene": {
           "xaxis": {
            "backgroundcolor": "#E5ECF6",
            "gridcolor": "white",
            "gridwidth": 2,
            "linecolor": "white",
            "showbackground": true,
            "ticks": "",
            "zerolinecolor": "white"
           },
           "yaxis": {
            "backgroundcolor": "#E5ECF6",
            "gridcolor": "white",
            "gridwidth": 2,
            "linecolor": "white",
            "showbackground": true,
            "ticks": "",
            "zerolinecolor": "white"
           },
           "zaxis": {
            "backgroundcolor": "#E5ECF6",
            "gridcolor": "white",
            "gridwidth": 2,
            "linecolor": "white",
            "showbackground": true,
            "ticks": "",
            "zerolinecolor": "white"
           }
          },
          "shapedefaults": {
           "line": {
            "color": "#2a3f5f"
           }
          },
          "ternary": {
           "aaxis": {
            "gridcolor": "white",
            "linecolor": "white",
            "ticks": ""
           },
           "baxis": {
            "gridcolor": "white",
            "linecolor": "white",
            "ticks": ""
           },
           "bgcolor": "#E5ECF6",
           "caxis": {
            "gridcolor": "white",
            "linecolor": "white",
            "ticks": ""
           }
          },
          "title": {
           "x": 0.05
          },
          "xaxis": {
           "automargin": true,
           "gridcolor": "white",
           "linecolor": "white",
           "ticks": "",
           "title": {
            "standoff": 15
           },
           "zerolinecolor": "white",
           "zerolinewidth": 2
          },
          "yaxis": {
           "automargin": true,
           "gridcolor": "white",
           "linecolor": "white",
           "ticks": "",
           "title": {
            "standoff": 15
           },
           "zerolinecolor": "white",
           "zerolinewidth": 2
          }
         }
        },
        "xaxis": {
         "anchor": "y",
         "domain": [
          0,
          1
         ],
         "title": {
          "text": "Day_of_Year"
         }
        },
        "yaxis": {
         "anchor": "x",
         "domain": [
          0,
          1
         ],
         "title": {
          "text": "value"
         }
        }
       }
      }
     },
     "metadata": {},
     "output_type": "display_data"
    }
   ],
   "source": [
    "pv_model.summary_grouped.quarterly"
   ]
  },
  {
   "cell_type": "code",
   "execution_count": null,
   "metadata": {},
   "outputs": [],
   "source": [
    "px.bar(pv_model.summary_grouped.daily.PV_Gen_kWh_Total)"
   ]
  },
  {
   "cell_type": "code",
   "execution_count": null,
   "metadata": {},
   "outputs": [],
   "source": []
  },
  {
   "cell_type": "markdown",
   "metadata": {},
   "source": [
    "# ***Performance Test***"
   ]
  },
  {
   "cell_type": "code",
   "execution_count": 10,
   "metadata": {},
   "outputs": [],
   "source": [
    "# Performance Testing\n",
    "# import pstats\n",
    "# import cProfile\n",
    "# cProfile.run(\"SolarPVModel(site, [array_1])\", 'performance_test.prof')\n",
    "# p = pstats.Stats('performance_test.prof')\n",
    "# p.sort_stats('tottime').print_stats()\n",
    "# p.sort_stats('cumtime').print_stats()"
   ]
  },
  {
   "cell_type": "markdown",
   "metadata": {},
   "source": [
    "# ***Example Running Model with variable inputs***"
   ]
  },
  {
   "cell_type": "code",
   "execution_count": 2,
   "metadata": {},
   "outputs": [
    {
     "name": "stderr",
     "output_type": "stream",
     "text": [
      "2024-02-17 15:50:10,551 - INFO - TMY data obtained for: 54.60452, longitude: -5.9286\n",
      "2024-02-17 15:50:10,552 - INFO - *******************\n"
     ]
    }
   ],
   "source": [
    "# %%timeit\n",
    "\n",
    "from meteo.Site import Site\n",
    "from solar.SolarPVArray import SolarPVArray\n",
    "from solar.SolarPVModel import SolarPVModel\n",
    "\n",
    "from misc.log_config import configure_logging\n",
    "\n",
    "configure_logging()\n",
    "\n",
    "# Set up site and obtain TMY data\n",
    "site = Site(name=\"Test Site\", address = \"123 Test Street\", client = \"Big Gerry\", \n",
    "            latitude=54.60452, longitude=-5.92860, tmz_hrs_east = 0)"
   ]
  },
  {
   "cell_type": "code",
   "execution_count": 7,
   "metadata": {},
   "outputs": [
    {
     "name": "stderr",
     "output_type": "stream",
     "text": [
      "2024-02-17 15:51:20,242 - INFO - Solar PV array created: Size: 1kW, Pitch: 35deg, Azimuth: -90deg, Lifespan: 25yrs\n",
      "2024-02-17 15:51:20,243 - INFO - *******************\n",
      "2024-02-17 15:51:20,243 - INFO - Solar PV array created: Size: 1kW, Pitch: 35deg, Azimuth: -45deg, Lifespan: 25yrs\n",
      "2024-02-17 15:51:20,243 - INFO - *******************\n",
      "2024-02-17 15:51:20,244 - INFO - Solar PV array created: Size: 1kW, Pitch: 35deg, Azimuth: 0deg, Lifespan: 25yrs\n",
      "2024-02-17 15:51:20,244 - INFO - *******************\n",
      "2024-02-17 15:51:20,245 - INFO - Solar PV array created: Size: 1kW, Pitch: 35deg, Azimuth: 45deg, Lifespan: 25yrs\n",
      "2024-02-17 15:51:20,245 - INFO - *******************\n",
      "2024-02-17 15:51:20,245 - INFO - Solar PV array created: Size: 1kW, Pitch: 35deg, Azimuth: 90deg, Lifespan: 25yrs\n",
      "2024-02-17 15:51:20,246 - INFO - *******************\n",
      "2024-02-17 15:51:20,246 - INFO - *******************\n",
      "2024-02-17 15:51:20,246 - INFO - Starting Solar PV model simulations.\n",
      "2024-02-17 15:51:20,247 - INFO - *******************\n",
      "2024-02-17 15:51:20,247 - INFO - Simulating model - PV Size: 1kWp, Pitch: 35 degrees, Azimuth -90 degrees WoS\n",
      "2024-02-17 15:51:20,255 - INFO - Simulating model - PV Size: 1kWp, Pitch: 35 degrees, Azimuth -45 degrees WoS\n",
      "2024-02-17 15:51:20,265 - INFO - Simulating model - PV Size: 1kWp, Pitch: 35 degrees, Azimuth 0 degrees WoS\n",
      "2024-02-17 15:51:20,272 - INFO - Simulating model - PV Size: 1kWp, Pitch: 35 degrees, Azimuth 45 degrees WoS\n",
      "2024-02-17 15:51:20,279 - INFO - Simulating model - PV Size: 1kWp, Pitch: 35 degrees, Azimuth 90 degrees WoS\n",
      "2024-02-17 15:51:20,286 - INFO - *******************\n",
      "2024-02-17 15:51:20,287 - INFO - Solar PV model simulations completed.\n",
      "2024-02-17 15:51:20,315 - INFO - Solar PV model data aggregated.\n",
      "2024-02-17 15:51:20,322 - INFO - Solar PV model data summary complete.\n",
      "2024-02-17 15:51:20,322 - INFO - *******************\n",
      "2024-02-17 15:51:20,324 - INFO - Solar PV model statistical analysis completed.\n",
      "2024-02-17 15:51:20,339 - INFO - Solar PV model statistical grouping completed.\n",
      "2024-02-17 15:51:20,339 - INFO - *******************\n"
     ]
    }
   ],
   "source": [
    "# %%timeit\n",
    "\n",
    "pv_kwp = 1\n",
    "surface_pitch = 35\n",
    "surface_azimuth = -90\n",
    "lifespan = 25\n",
    "pv_eol_derating = 0.88\n",
    "\n",
    "# Set up PV arrays\n",
    "array_1 = SolarPVArray(pv_kwp, surface_pitch, surface_azimuth, lifespan, pv_eol_derating)\n",
    "array_2 = SolarPVArray(1, 35, -45, 25, 0.88)\n",
    "array_3 = SolarPVArray(1, 35, 0, 25, 0.88)\n",
    "array_4 = SolarPVArray(1, 35, 45, 25, 0.88)\n",
    "array_5 = SolarPVArray(1, 35, 90, 25, 0.88)\n",
    "arrays = [array_1, array_2, array_3, array_4, array_5]\n",
    "\n",
    "# Set up and run model\n",
    "pv_model = SolarPVModel(site=site, arrays=arrays)"
   ]
  },
  {
   "cell_type": "code",
   "execution_count": null,
   "metadata": {},
   "outputs": [],
   "source": [
    "101 ms ± 3.77 ms per loop (mean ± std. dev. of 7 runs, 10 loops each)\n",
    "100 ms ± 3.01 ms per loop (mean ± std. dev. of 7 runs, 10 loops each)\n",
    "101 ms ± 3.24 ms per loop (mean ± std. dev. of 7 runs, 10 loops each)"
   ]
  },
  {
   "cell_type": "code",
   "execution_count": null,
   "metadata": {},
   "outputs": [],
   "source": [
    "195 ms ± 4.31 ms per loop (mean ± std. dev. of 7 runs, 1 loop each)\n",
    "198 ms ± 1.8 ms per loop (mean ± std. dev. of 7 runs, 10 loops each)\n",
    "193 ms ± 4.7 ms per loop (mean ± std. dev. of 7 runs, 1 loop each)\n",
    "200 ms ± 6.02 ms per loop (mean ± std. dev. of 7 runs, 1 loop each)"
   ]
  },
  {
   "cell_type": "code",
   "execution_count": null,
   "metadata": {},
   "outputs": [],
   "source": []
  },
  {
   "cell_type": "code",
   "execution_count": null,
   "metadata": {},
   "outputs": [],
   "source": []
  },
  {
   "cell_type": "markdown",
   "metadata": {},
   "source": [
    "# ***Visualisation***"
   ]
  },
  {
   "cell_type": "code",
   "execution_count": null,
   "metadata": {},
   "outputs": [],
   "source": [
    "import plotly.express as px\n",
    "import seaborn as sns"
   ]
  },
  {
   "cell_type": "code",
   "execution_count": null,
   "metadata": {},
   "outputs": [],
   "source": [
    "pv_model.array_model(1).head()"
   ]
  },
  {
   "cell_type": "code",
   "execution_count": null,
   "metadata": {},
   "outputs": [],
   "source": [
    "print(f\"PV Gen: {round(pv_model.all_models.PV_Gen_kWh_Array_1.sum(), 3)}kWh\")\n",
    "print(f\"E POA: {round(pv_model.all_models.E_POA_kWm2_Array_1.sum(), 3)}kWhm2\")"
   ]
  },
  {
   "cell_type": "code",
   "execution_count": null,
   "metadata": {},
   "outputs": [],
   "source": [
    "px.bar(pv_model.summary_grouped.hourly[[\"PV_Gen_kWh_Total\", \"IAM_Loss_kWm2_Total\", \"PV_Thermal_Loss_kWh_Total\"]])"
   ]
  },
  {
   "cell_type": "code",
   "execution_count": null,
   "metadata": {},
   "outputs": [],
   "source": [
    "px.bar(pv_model.summary_grouped.monthly[[\"PV_Gen_kWh_Total\", \"IAM_Loss_kWm2_Total\", \"PV_Thermal_Loss_kWh_Total\"]])"
   ]
  },
  {
   "cell_type": "code",
   "execution_count": null,
   "metadata": {},
   "outputs": [],
   "source": [
    "px.bar(pv_model.summary_grouped.weekly[[\"PV_Gen_kWh_Total\", \"IAM_Loss_kWm2_Total\", \"PV_Thermal_Loss_kWh_Total\"]])"
   ]
  },
  {
   "cell_type": "code",
   "execution_count": null,
   "metadata": {},
   "outputs": [],
   "source": [
    "px.bar(pv_model.summary_grouped.daily[[\"PV_Gen_kWh_Total\", \"IAM_Loss_kWm2_Total\", \"PV_Thermal_Loss_kWh_Total\"]])"
   ]
  },
  {
   "cell_type": "code",
   "execution_count": null,
   "metadata": {},
   "outputs": [],
   "source": [
    "px.line(pv_model.models[0][\"model_result\"][[\"Cell_Temp_C\", \"T2m\"]])\n"
   ]
  },
  {
   "cell_type": "code",
   "execution_count": null,
   "metadata": {},
   "outputs": [],
   "source": [
    "sns.lineplot(pv_model.models[0][\"model_result\"][[\"Cell_Temp_C\", \"T2m\"]])"
   ]
  },
  {
   "cell_type": "code",
   "execution_count": null,
   "metadata": {},
   "outputs": [],
   "source": [
    "px.line(pv_model.models[0][\"model_result\"][[\"ET_HRad_kWm2\", \"E_POA_kWm2\"]])"
   ]
  },
  {
   "cell_type": "code",
   "execution_count": null,
   "metadata": {},
   "outputs": [],
   "source": [
    "sns.lineplot(pv_model.models[0][\"model_result\"][[\"ET_HRad_kWm2\", \"E_POA_kWm2\"]])"
   ]
  },
  {
   "cell_type": "code",
   "execution_count": null,
   "metadata": {},
   "outputs": [],
   "source": []
  },
  {
   "cell_type": "markdown",
   "metadata": {},
   "source": [
    "# ***Mass Model Testing***"
   ]
  },
  {
   "cell_type": "code",
   "execution_count": null,
   "metadata": {},
   "outputs": [],
   "source": [
    "# %%timeit\n",
    "import random\n",
    "\n",
    "# Assuming the Site, SolarPVArray, and SolarPVModel classes are defined elsewhere\n",
    "site = Site(name=\"Test Site\", address=\"123 Test Street\", client=\"Big Gerry\", \n",
    "            latitude=54.60452, longitude=-5.92860, tmz_hrs_east=0)\n",
    "\n",
    "surface_pitch = 35\n",
    "azimuth_list = [90, 45, 0, -45, -90]\n",
    "pv_eol = 0.88\n",
    "cost = 1250\n",
    "lifespan = 25\n",
    "eff = 0.21\n",
    "temp_coeff = -0.0048\n",
    "t_ab = 0.9\n",
    "\n",
    "max_pv = 7.5\n",
    "min_pv = 2.5\n",
    "pv_step_size = 0.25\n",
    "pv_list = []\n",
    "pv_models = {}\n",
    "\n",
    "for i in range(int((max_pv - min_pv) / pv_step_size)):\n",
    "    pv_list.append(min_pv + (i * pv_step_size))\n",
    "\n",
    "for pv_size in pv_list:\n",
    "    pv_kwp = pv_size\n",
    "\n",
    "    array_1 = SolarPVArray(pv_kwp, surface_pitch, azimuth_list[0], lifespan, pv_eol, cost, eff, temp_coeff, t_ab)\n",
    "    array_2 = SolarPVArray(pv_kwp, surface_pitch, azimuth_list[1], lifespan, pv_eol, cost, eff, temp_coeff, t_ab)\n",
    "    array_3 = SolarPVArray(pv_kwp, surface_pitch, azimuth_list[2], lifespan, pv_eol, cost, eff, temp_coeff, t_ab)\n",
    "    array_4 = SolarPVArray(pv_kwp, surface_pitch, azimuth_list[3], lifespan, pv_eol, cost, eff, temp_coeff, t_ab)\n",
    "    array_5 = SolarPVArray(pv_kwp, surface_pitch, azimuth_list[4], lifespan, pv_eol, cost, eff, temp_coeff, t_ab)\n",
    "\n",
    "    # Initialize and run the SolarPVModel with all arrays\n",
    "    arrays = [array_1, array_2, array_3, array_4, array_5]\n",
    "    pv_model = SolarPVModel(site=site, arrays=arrays)\n",
    "\n",
    "    pv_models[pv_size] = pv_model  # Store the model with pv_size as the key\n",
    "\n",
    "Total_gen = 0\n",
    "\n",
    "for model in pv_models.values():\n",
    "    Total_gen += model.summary.PV_Gen_kWh_Annual\n",
    "\n",
    "print(\"\")\n",
    "print(\"***************************************************\")\n",
    "print(f\"{round(Total_gen / 1000, 3)} MWh from {len(pv_list)} models simulating {len(pv_list) * 5} PV arrays in total.\")\n"
   ]
  },
  {
   "cell_type": "code",
   "execution_count": null,
   "metadata": {},
   "outputs": [],
   "source": [
    "pv_models.get(2.5).models[0][\"model_result\"]"
   ]
  },
  {
   "cell_type": "code",
   "execution_count": null,
   "metadata": {},
   "outputs": [],
   "source": [
    "# Access values from dictionary\n",
    "pv_models.get(2.5).summary_grouped.daily.PV_Gen_kWh_Total.sum()"
   ]
  },
  {
   "cell_type": "code",
   "execution_count": null,
   "metadata": {},
   "outputs": [],
   "source": [
    "sns.barplot(pv_models.get(2.5).summary_grouped.monthly.Cell_Temp_C_Avg - pv_models.get(2.5).summary_grouped.monthly.T2m)"
   ]
  },
  {
   "cell_type": "code",
   "execution_count": null,
   "metadata": {},
   "outputs": [],
   "source": [
    "sns.barplot(pv_models.get(2.5).summary_grouped.weekly.PV_Gen_kWh_Total)"
   ]
  },
  {
   "cell_type": "code",
   "execution_count": null,
   "metadata": {},
   "outputs": [],
   "source": [
    "sns.barplot(data=pv_models.get(2.5).summary_grouped.daily, x=\"Day_of_Year\", y=\"PV_Gen_kWh_Total\", \n",
    "            hue=\"PV_Gen_kWh_Total\", palette=\"viridis\")"
   ]
  },
  {
   "cell_type": "code",
   "execution_count": null,
   "metadata": {},
   "outputs": [],
   "source": [
    "for pv_size in pv_list:\n",
    "    print(f\"{round(pv_models.get(pv_size).summary_grouped.daily.PV_Gen_kWh_Total.sum() / 1000, 3)} MWh/yr\")"
   ]
  },
  {
   "cell_type": "markdown",
   "metadata": {},
   "source": [
    "# ***VISUAL TESTING***"
   ]
  },
  {
   "cell_type": "code",
   "execution_count": null,
   "metadata": {},
   "outputs": [],
   "source": [
    "variables = ['E_Beam_Wm2', 'E_Diffuse_Wm2', 'E_Ground_Wm2', 'E_POA_Wm2', 'ET_HRad_Wm2', \n",
    "            'Cell_Temp_C', 'PV_Gen_kWh', 'AOI', 'Zenith_Angle']\n",
    "\n",
    "testy = pv_model.all_models\n",
    "\n",
    "variable = \"PV_Gen_kWh\"\n",
    "\n",
    "variable_1 = f\"{variable}_Array_1\"\n",
    "variable_2 = f\"{variable}_Array_2\"\n",
    "variable_3 = f\"{variable}_Array_3\"\n",
    "variable_4 = f\"{variable}_Array_4\"\n",
    "variable_7 = f\"{variable}_Total\"\n",
    "variable_8 = f\"{variable}_Avg\"\n",
    "\n",
    "if variable_1 in testy:\n",
    "    sns.lineplot(testy.groupby(\"Hour_of_Day\")[variable_1].mean())\n",
    "if variable_2 in testy:\n",
    "    sns.lineplot(testy.groupby(\"Hour_of_Day\")[variable_2].mean())\n",
    "if variable_3 in testy:\n",
    "    sns.lineplot(testy.groupby(\"Hour_of_Day\")[variable_3].mean())\n",
    "if variable_4 in testy:\n",
    "    sns.lineplot(testy.groupby(\"Hour_of_Day\")[variable_4].mean())\n",
    "if variable_7 in testy:\n",
    "    sns.lineplot(testy.groupby(\"Hour_of_Day\")[variable_7].mean(), alpha=0.4, ls=\"--\")\n",
    "if variable_8 in testy:\n",
    "    sns.lineplot(testy.groupby(\"Hour_of_Day\")[variable_8].mean(), alpha=0.4, ls=\"--\")"
   ]
  },
  {
   "cell_type": "code",
   "execution_count": null,
   "metadata": {},
   "outputs": [],
   "source": [
    "sns.lineplot(pv_model.combined_model[\"Cell_Temp_C_Avg\"], alpha = 0.2, ls = \"--\", color = \"orange\")\n",
    "sns.lineplot(pv_model.combined_model[\"T2m\"])"
   ]
  },
  {
   "cell_type": "code",
   "execution_count": null,
   "metadata": {},
   "outputs": [],
   "source": [
    "sns.barplot(pv_model.summary_grouped.daily.T2m)"
   ]
  },
  {
   "cell_type": "code",
   "execution_count": null,
   "metadata": {},
   "outputs": [],
   "source": [
    "sns.lineplot(pv_model.combined_model.groupby(\"Hour_of_Day\")[\"PV_Gen_kWh_Total\"].mean())"
   ]
  },
  {
   "cell_type": "code",
   "execution_count": null,
   "metadata": {},
   "outputs": [],
   "source": [
    "pv_model.all_models[\"PV_Gen_kWh_Total\"].sum()"
   ]
  },
  {
   "cell_type": "code",
   "execution_count": null,
   "metadata": {},
   "outputs": [],
   "source": [
    "pv_model.all_models.columns"
   ]
  },
  {
   "cell_type": "code",
   "execution_count": null,
   "metadata": {},
   "outputs": [],
   "source": [
    "sns.lineplot(pv_model.all_models[\"PV_Thermal_Loss_kWh_Total\"])"
   ]
  },
  {
   "cell_type": "code",
   "execution_count": null,
   "metadata": {},
   "outputs": [],
   "source": [
    "temp_losses = (pv_model.all_models[\"PV_Thermal_Loss_kWh_Total\"].sum() / pv_model.all_models[\"PV_Gen_kWh_Total\"].sum() * 100)\n",
    "\n",
    "print(f\"{round(temp_losses, 3)}% change to power due to temperature losses\")"
   ]
  },
  {
   "cell_type": "code",
   "execution_count": null,
   "metadata": {},
   "outputs": [],
   "source": [
    "pv_model.models[0][\"model_result\"]"
   ]
  },
  {
   "cell_type": "code",
   "execution_count": null,
   "metadata": {},
   "outputs": [],
   "source": [
    "pv_model.all_models"
   ]
  },
  {
   "cell_type": "code",
   "execution_count": null,
   "metadata": {},
   "outputs": [],
   "source": [
    "pv_model.combined_model"
   ]
  },
  {
   "cell_type": "code",
   "execution_count": null,
   "metadata": {},
   "outputs": [],
   "source": [
    "pv_model.summary"
   ]
  },
  {
   "cell_type": "code",
   "execution_count": null,
   "metadata": {},
   "outputs": [],
   "source": [
    "pv_model.summary_grouped.daily"
   ]
  },
  {
   "cell_type": "code",
   "execution_count": null,
   "metadata": {},
   "outputs": [],
   "source": [
    "pv_model.summary"
   ]
  },
  {
   "cell_type": "code",
   "execution_count": null,
   "metadata": {},
   "outputs": [],
   "source": [
    "pv_model.summary_grouped.monthly"
   ]
  },
  {
   "cell_type": "code",
   "execution_count": null,
   "metadata": {},
   "outputs": [],
   "source": []
  },
  {
   "cell_type": "markdown",
   "metadata": {},
   "source": [
    "# ***MODEL ANALYSIS***"
   ]
  },
  {
   "cell_type": "code",
   "execution_count": null,
   "metadata": {},
   "outputs": [],
   "source": []
  },
  {
   "cell_type": "code",
   "execution_count": null,
   "metadata": {},
   "outputs": [],
   "source": []
  }
 ],
 "metadata": {
  "kernelspec": {
   "display_name": "Python 3",
   "language": "python",
   "name": "python3"
  },
  "language_info": {
   "codemirror_mode": {
    "name": "ipython",
    "version": 3
   },
   "file_extension": ".py",
   "mimetype": "text/x-python",
   "name": "python",
   "nbconvert_exporter": "python",
   "pygments_lexer": "ipython3",
   "version": "3.11.8"
  }
 },
 "nbformat": 4,
 "nbformat_minor": 2
}
