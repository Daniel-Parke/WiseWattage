{
 "cells": [
  {
   "cell_type": "markdown",
   "metadata": {},
   "source": [
    "# ***MAIN FUNCTIONALITY***"
   ]
  },
  {
   "cell_type": "code",
   "execution_count": 1,
   "metadata": {},
   "outputs": [
    {
     "name": "stderr",
     "output_type": "stream",
     "text": [
      "2024-02-22 19:32:12,774 - INFO - Fetching TMY data for latitude: 54.60452, longitude: -5.9286\n",
      "2024-02-22 19:32:13,771 - INFO - HTTP Request: GET https://re.jrc.ec.europa.eu/api/tmy?lat=54.60452&lon=-5.9286&startyear=2005&endyear=2015&outputformat=json \"HTTP/1.1 200 OK\"\n",
      "2024-02-22 19:32:14,123 - INFO - TMY data obtained for: 54.60452, longitude: -5.9286\n",
      "2024-02-22 19:32:14,124 - INFO - *******************\n",
      "2024-02-22 19:32:14,124 - INFO - Solar PV Panel created: Size: 0.3538kW, Size: 1.99m2, Efficiency: 0.2237%, Lifespan: 25yrs\n",
      "2024-02-22 19:32:14,126 - INFO - Solar PV array created: Size: 1.415kW, Size: 7.96m2,Azimuth: -90deg, Lifespan: 25yrs,Pitch: 35deg, Efficiency: 0.2237%\n",
      "2024-02-22 19:32:14,126 - INFO - Solar PV array created: Size: 1.415kW, Size: 7.96m2,Azimuth: -45deg, Lifespan: 25yrs,Pitch: 35deg, Efficiency: 0.2237%\n",
      "2024-02-22 19:32:14,127 - INFO - Solar PV array created: Size: 1.415kW, Size: 7.96m2,Azimuth: 0deg, Lifespan: 25yrs,Pitch: 35deg, Efficiency: 0.2237%\n",
      "2024-02-22 19:32:14,127 - INFO - Solar PV array created: Size: 1.415kW, Size: 7.96m2,Azimuth: 45deg, Lifespan: 25yrs,Pitch: 35deg, Efficiency: 0.2237%\n",
      "2024-02-22 19:32:14,128 - INFO - Solar PV array created: Size: 1.415kW, Size: 7.96m2,Azimuth: 90deg, Lifespan: 25yrs,Pitch: 35deg, Efficiency: 0.2237%\n",
      "2024-02-22 19:32:14,128 - INFO - *******************\n",
      "2024-02-22 19:32:14,129 - INFO - Starting Solar PV model simulations.\n",
      "2024-02-22 19:32:14,129 - INFO - *******************\n",
      "2024-02-22 19:32:14,129 - INFO - Simulating model - PV Size: 1.415kWp, Pitch: 35 degrees, Azimuth -90 degrees WoS\n",
      "c:\\Users\\djp12\\Documents\\Coding\\Github_Repos\\WiseWattage\\WiseWattage\\solar\\solar_pv_model.py:227: RuntimeWarning: invalid value encountered in divide\n",
      "  iam_loss_perc = np.divide((e_poa_w_m2 - panel_poa_w_m2), e_poa_w_m2)\n",
      "2024-02-22 19:32:14,138 - INFO - Simulating model - PV Size: 1.415kWp, Pitch: 35 degrees, Azimuth -45 degrees WoS\n",
      "2024-02-22 19:32:14,146 - INFO - Simulating model - PV Size: 1.415kWp, Pitch: 35 degrees, Azimuth 0 degrees WoS\n",
      "2024-02-22 19:32:14,154 - INFO - Simulating model - PV Size: 1.415kWp, Pitch: 35 degrees, Azimuth 45 degrees WoS\n",
      "2024-02-22 19:32:14,162 - INFO - Simulating model - PV Size: 1.415kWp, Pitch: 35 degrees, Azimuth 90 degrees WoS\n",
      "2024-02-22 19:32:14,169 - INFO - *******************\n",
      "2024-02-22 19:32:14,170 - INFO - Solar PV model simulations completed.\n",
      "2024-02-22 19:32:14,200 - INFO - Solar PV model data aggregated.\n",
      "2024-02-22 19:32:14,208 - INFO - Solar PV model data summary complete.\n",
      "2024-02-22 19:32:14,209 - INFO - Solar PV model statistical analysis completed.\n",
      "2024-02-22 19:32:14,224 - INFO - Solar PV model statistical grouping completed.\n",
      "2024-02-22 19:32:14,225 - INFO - *******************\n",
      "2024-02-22 19:32:14,225 - INFO - Solar PV simulation and modelling completed.\n",
      "2024-02-22 19:32:14,225 - INFO - *******************\n",
      "2024-02-22 19:32:14,243 - INFO - Model for  saved successfully to 'c:\\Users\\djp12\\Documents\\Coding\\Github_Repos\\WiseWattage\\WiseWattage\\saved_models\\Solar_Model_Results.wwm'\n",
      "2024-02-22 19:32:14,243 - INFO - *******************\n",
      "2024-02-22 19:32:14,250 - INFO - Model successfully loaded: saved_models/Solar_Model_Results.wwm\n",
      "2024-02-22 19:32:14,251 - INFO - *******************\n"
     ]
    },
    {
     "name": "stdout",
     "output_type": "stream",
     "text": [
      "\n",
      "7.075kWp Solar PV modelled covering a 39.8m2 area.\n"
     ]
    }
   ],
   "source": [
    "import pandas as pd\n",
    "import plotly.express as px\n",
    "import seaborn as sns\n",
    "\n",
    "from meteo.Site import Site\n",
    "from solar.SolarPVPanel import SolarPVPanel\n",
    "from solar.SolarPVArray import SolarPVArray\n",
    "from solar.SolarPVModel import SolarPVModel\n",
    "\n",
    "from misc.log_config import configure_logging\n",
    "from misc.util import load_pv_model\n",
    "\n",
    "configure_logging()\n",
    "pd.options.display.float_format = '{:.3f}'.format\n",
    "\n",
    "# Set up site location and get TMY data\n",
    "name = \"\"\n",
    "address = \"York St, Belfast, BT15 1ED\"\n",
    "client = \"Ulster University\"\n",
    "\n",
    "site = Site(name=name, \n",
    "            address=address, \n",
    "            client=client, \n",
    "            latitude=54.60452, \n",
    "            longitude=-5.92860, \n",
    "            size=100)\n",
    "\n",
    "# Set up PV panel being used\n",
    "panel_kwp = 0.3538\n",
    "size_m2 = 1.990\n",
    "eff = 0.2237\n",
    "cell_temp_coeff = -0.004\n",
    "cell_NOCT = 48\n",
    "lifespan = 25\n",
    "pv_eol_derating = 0.88\n",
    "refraction_index = 0.05\n",
    "\n",
    "pv_panel = SolarPVPanel(panel_kwp, size_m2, eff, cell_temp_coeff, \n",
    "                        cell_NOCT, lifespan, pv_eol_derating, refraction_index)\n",
    "\n",
    "\n",
    "# Set up PV arrays\n",
    "num_pv_panels = 4\n",
    "surface_pitch = 35\n",
    "surface_azimuth = -90\n",
    "albedo = 0.2\n",
    "cost_per_kWp = 1250\n",
    "\n",
    "pv_array_1 = SolarPVArray(pv_panel, num_pv_panels, surface_pitch, surface_azimuth, albedo, cost_per_kWp)\n",
    "pv_array_2 = SolarPVArray(pv_panel, num_pv_panels, surface_pitch, -45)\n",
    "pv_array_3 = SolarPVArray(pv_panel, num_pv_panels, surface_pitch, 0)\n",
    "pv_array_4 = SolarPVArray(pv_panel, num_pv_panels, surface_pitch, 45)\n",
    "pv_array_5 = SolarPVArray(pv_panel, num_pv_panels, surface_pitch, 90)\n",
    "\n",
    "pv_arrays = [pv_array_1, pv_array_2, pv_array_3, pv_array_4, pv_array_5]\n",
    "\n",
    "\n",
    "# Run the model\n",
    "pv_model = SolarPVModel(site, pv_arrays)\n",
    "\n",
    "# Save model as .wmm file\n",
    "pv_model.save_model()\n",
    "\n",
    "# Load .wwm model from file\n",
    "pv_model = load_pv_model()\n",
    "\n",
    "print(\"\")\n",
    "print(f\"{sum(array.pv_kwp for array in pv_model.arrays)}kWp Solar PV modelled covering a {sum(array.area_m2 for array in pv_model.arrays)}m2 area.\")\n"
   ]
  },
  {
   "cell_type": "code",
   "execution_count": 2,
   "metadata": {},
   "outputs": [
    {
     "data": {
      "text/plain": [
       "PV_Gen_kWh_Annual              6322.910\n",
       "PV_Gen_kWh_Lifetime          148209.017\n",
       "E_POA_kWm2_Annual               956.222\n",
       "Panel_POA_kWm2_Annual           944.607\n",
       "IAM_Loss_kWh_Annual              77.775\n",
       "PV_Thermal_Loss_kWh_Annual       51.480\n",
       "Low_Light_Loss_kWh_Annual       293.198\n",
       "E_Beam_kWm2_Annual              421.631\n",
       "E_Diffuse_kWm2_Annual           517.524\n",
       "E_Ground_kWm2_Annual             17.067\n",
       "ET_HRad_kWm2_Annual            2270.579\n",
       "Array_Temp_C_Avg                 11.311\n",
       "Ambient_Temperature_C_Avg         8.899\n",
       "dtype: float64"
      ]
     },
     "execution_count": 2,
     "metadata": {},
     "output_type": "execute_result"
    }
   ],
   "source": [
    "pv_model.summary"
   ]
  },
  {
   "cell_type": "code",
   "execution_count": 4,
   "metadata": {},
   "outputs": [
    {
     "name": "stdout",
     "output_type": "stream",
     "text": [
      "869.1227452409016\n",
      "989.4152531988715\n",
      "1041.0328100686736\n",
      "1000.7969560619578\n",
      "880.7426043828083\n"
     ]
    }
   ],
   "source": [
    "print(pv_model.models[0][\"model_result\"].E_POA_kWm2.sum())\n",
    "print(pv_model.models[1][\"model_result\"].E_POA_kWm2.sum())\n",
    "print(pv_model.models[2][\"model_result\"].E_POA_kWm2.sum())\n",
    "print(pv_model.models[3][\"model_result\"].E_POA_kWm2.sum())\n",
    "print(pv_model.models[4][\"model_result\"].E_POA_kWm2.sum())"
   ]
  },
  {
   "cell_type": "code",
   "execution_count": 5,
   "metadata": {},
   "outputs": [
    {
     "data": {
      "text/plain": [
       "Hour_of_Day              0\n",
       "Day_of_Year              0\n",
       "Week_of_Year             0\n",
       "Month_of_Year            0\n",
       "Wind_Speed_ms            0\n",
       "Ambient_Temperature_C    0\n",
       "Declination_Angle        0\n",
       "Solar_Time               0\n",
       "Hour_Angle               0\n",
       "AOI                      0\n",
       "Zenith_Angle             0\n",
       "E_Beam_kWm2              0\n",
       "E_Diffuse_kWm2           0\n",
       "E_Ground_kWm2            0\n",
       "E_POA_kWm2               0\n",
       "Panel_POA_kWm2           0\n",
       "IAM_Loss_kWh             0\n",
       "ET_HRad_kWm2             0\n",
       "PV_Derated_Eff           0\n",
       "Array_Temp_C             0\n",
       "PV_Gen_kWh               0\n",
       "PV_Thermal_Loss_kWh      0\n",
       "Low_Light_Loss_kWh       0\n",
       "dtype: int64"
      ]
     },
     "execution_count": 5,
     "metadata": {},
     "output_type": "execute_result"
    }
   ],
   "source": [
    "pv_model.models[0][\"model_result\"].isna().sum()"
   ]
  },
  {
   "cell_type": "code",
   "execution_count": 6,
   "metadata": {},
   "outputs": [
    {
     "data": {
      "text/plain": [
       "Hour_of_Day              100740.000\n",
       "Day_of_Year             1603080.000\n",
       "Week_of_Year             232752.000\n",
       "Month_of_Year             57168.000\n",
       "Wind_Speed_ms             53080.970\n",
       "Ambient_Temperature_C     77957.930\n",
       "Declination_Angle             0.000\n",
       "Solar_Time               101660.207\n",
       "Hour_Angle               -51896.890\n",
       "AOI                      788401.501\n",
       "Zenith_Angle             788400.000\n",
       "E_Beam_kWm2                 454.824\n",
       "E_Diffuse_kWm2              517.524\n",
       "E_Ground_kWm2                17.067\n",
       "E_POA_kWm2                  989.415\n",
       "Panel_POA_kWm2              978.305\n",
       "IAM_Loss_kWh                 14.933\n",
       "ET_HRad_kWm2               2270.579\n",
       "PV_Derated_Eff             8738.978\n",
       "Array_Temp_C              99822.627\n",
       "PV_Gen_kWh                 1312.744\n",
       "PV_Thermal_Loss_kWh          10.845\n",
       "Low_Light_Loss_kWh           57.497\n",
       "dtype: float64"
      ]
     },
     "execution_count": 6,
     "metadata": {},
     "output_type": "execute_result"
    }
   ],
   "source": [
    "pv_model.models[1][\"model_result\"].sum()"
   ]
  },
  {
   "cell_type": "code",
   "execution_count": null,
   "metadata": {},
   "outputs": [],
   "source": []
  },
  {
   "cell_type": "markdown",
   "metadata": {},
   "source": [
    "# ***Temperature Tests***"
   ]
  },
  {
   "cell_type": "code",
   "execution_count": 7,
   "metadata": {},
   "outputs": [
    {
     "name": "stdout",
     "output_type": "stream",
     "text": [
      "\n",
      "The cell temperature is 35.66°C from the Homer model with 10m/s windspeed\n",
      "\n",
      "The cell temperature is 37.26°C from the PVSyst model with 0m/s windspeed\n",
      "The cell temperature is 36.77°C from the PVSyst model with 1m/s windspeed\n",
      "The cell temperature is 36.32°C from the PVSyst model with 2m/s windspeed\n",
      "The cell temperature is 35.90°C from the PVSyst model with 3m/s windspeed\n",
      "The cell temperature is 35.52°C from the PVSyst model with 4m/s windspeed\n",
      "The cell temperature is 35.16°C from the PVSyst model with 5m/s windspeed\n",
      "The cell temperature is 34.82°C from the PVSyst model with 6m/s windspeed\n",
      "The cell temperature is 34.51°C from the PVSyst model with 7m/s windspeed\n",
      "The cell temperature is 34.21°C from the PVSyst model with 8m/s windspeed\n",
      "The cell temperature is 33.93°C from the PVSyst model with 9m/s windspeed\n",
      "The cell temperature is 33.67°C from the PVSyst model with 10m/s windspeed\n",
      "The cell temperature is 33.42°C from the PVSyst model with 11m/s windspeed\n",
      "The cell temperature is 33.19°C from the PVSyst model with 12m/s windspeed\n",
      "The cell temperature is 32.97°C from the PVSyst model with 13m/s windspeed\n",
      "The cell temperature is 32.76°C from the PVSyst model with 14m/s windspeed\n",
      "The cell temperature is 32.56°C from the PVSyst model with 15m/s windspeed\n",
      "The cell temperature is 32.38°C from the PVSyst model with 16m/s windspeed\n",
      "The cell temperature is 32.20°C from the PVSyst model with 17m/s windspeed\n",
      "The cell temperature is 32.03°C from the PVSyst model with 18m/s windspeed\n",
      "The cell temperature is 31.86°C from the PVSyst model with 19m/s windspeed\n",
      "The cell temperature is 31.71°C from the PVSyst model with 20m/s windspeed\n",
      "\n",
      "The cell temperature is 40.56°C from the Sandia model with 0m/s windspeed\n",
      "The cell temperature is 39.66°C from the Sandia model with 1m/s windspeed\n",
      "The cell temperature is 38.82°C from the Sandia model with 2m/s windspeed\n",
      "The cell temperature is 38.02°C from the Sandia model with 3m/s windspeed\n",
      "The cell temperature is 37.27°C from the Sandia model with 4m/s windspeed\n",
      "The cell temperature is 36.56°C from the Sandia model with 5m/s windspeed\n",
      "The cell temperature is 35.89°C from the Sandia model with 6m/s windspeed\n",
      "The cell temperature is 35.27°C from the Sandia model with 7m/s windspeed\n",
      "The cell temperature is 34.67°C from the Sandia model with 8m/s windspeed\n",
      "The cell temperature is 34.12°C from the Sandia model with 9m/s windspeed\n",
      "The cell temperature is 33.59°C from the Sandia model with 10m/s windspeed\n",
      "The cell temperature is 33.09°C from the Sandia model with 11m/s windspeed\n",
      "The cell temperature is 32.63°C from the Sandia model with 12m/s windspeed\n",
      "The cell temperature is 32.19°C from the Sandia model with 13m/s windspeed\n",
      "The cell temperature is 31.77°C from the Sandia model with 14m/s windspeed\n",
      "The cell temperature is 31.38°C from the Sandia model with 15m/s windspeed\n",
      "The cell temperature is 31.01°C from the Sandia model with 16m/s windspeed\n",
      "The cell temperature is 30.67°C from the Sandia model with 17m/s windspeed\n",
      "The cell temperature is 30.34°C from the Sandia model with 18m/s windspeed\n",
      "The cell temperature is 30.03°C from the Sandia model with 19m/s windspeed\n",
      "The cell temperature is 29.74°C from the Sandia model with 20m/s windspeed\n",
      "\n",
      "The cell temperature is 45.00°C from the Faiman model with 0m/s windspeed\n",
      "The cell temperature is 40.70°C from the Faiman model with 1m/s windspeed\n",
      "The cell temperature is 37.93°C from the Faiman model with 2m/s windspeed\n",
      "The cell temperature is 35.98°C from the Faiman model with 3m/s windspeed\n",
      "The cell temperature is 34.55°C from the Faiman model with 4m/s windspeed\n",
      "The cell temperature is 33.45°C from the Faiman model with 5m/s windspeed\n",
      "The cell temperature is 32.57°C from the Faiman model with 6m/s windspeed\n",
      "The cell temperature is 31.86°C from the Faiman model with 7m/s windspeed\n",
      "The cell temperature is 31.27°C from the Faiman model with 8m/s windspeed\n",
      "The cell temperature is 30.78°C from the Faiman model with 9m/s windspeed\n",
      "The cell temperature is 30.35°C from the Faiman model with 10m/s windspeed\n",
      "The cell temperature is 29.99°C from the Faiman model with 11m/s windspeed\n",
      "The cell temperature is 29.67°C from the Faiman model with 12m/s windspeed\n",
      "The cell temperature is 29.39°C from the Faiman model with 13m/s windspeed\n",
      "The cell temperature is 29.14°C from the Faiman model with 14m/s windspeed\n",
      "The cell temperature is 28.92°C from the Faiman model with 15m/s windspeed\n",
      "The cell temperature is 28.72°C from the Faiman model with 16m/s windspeed\n",
      "The cell temperature is 28.54°C from the Faiman model with 17m/s windspeed\n",
      "The cell temperature is 28.38°C from the Faiman model with 18m/s windspeed\n",
      "The cell temperature is 28.23°C from the Faiman model with 19m/s windspeed\n",
      "The cell temperature is 28.09°C from the Faiman model with 20m/s windspeed\n"
     ]
    }
   ],
   "source": [
    "import math\n",
    "\n",
    "def calc_array_temp_homer(\n",
    "    e_poa,\n",
    "    ambient_temp,\n",
    "    cell_temp_coeff=-0.0035,\n",
    "    electrical_eff=0.21,\n",
    "    cell_NOCT=42,\n",
    "    ambient_NOCT=20,\n",
    "    e_poa_NOCT=800,\n",
    "    cell_temp_STC=25,\n",
    "    transmittance_absorptance=0.9,\n",
    "):\n",
    "    \"\"\"Calculates the cell temperature of a PV panel.\n",
    "\n",
    "    Parameters:\n",
    "    - e_poa: Plane of array irradiance in kW/m^2.\n",
    "    - ambient_temp: Ambient temperature in degrees Celsius.\n",
    "    - cell_temp_coeff: Temperature coefficient of the PV cell.\n",
    "    - electrical_eff: Electrical efficiency of the PV panel.\n",
    "    - cell_NOCT, ambient_NOCT: Nominal operating cell temperature and the corresponding ambient temperature.\n",
    "    - e_poa_NOCT: Irradiance at NOCT conditions in W/m^2.\n",
    "    - cell_temp_STC: Cell temperature at standard test conditions in degrees Celsius.\n",
    "    - transmittance_absorptance: Transmittance and absorptance product of the PV panel.\n",
    "\n",
    "    Returns:\n",
    "    - Cell temperature of the PV panel.\n",
    "    \"\"\"\n",
    "    temp_factor = (cell_NOCT - ambient_NOCT) * ((e_poa * 1000) / e_poa_NOCT)\n",
    "    numerator = ambient_temp + temp_factor * (\n",
    "        1\n",
    "        - (electrical_eff * (1 - cell_temp_coeff * cell_temp_STC))\n",
    "        / transmittance_absorptance\n",
    "    )\n",
    "    denominator = 1 + temp_factor * (\n",
    "        cell_temp_coeff * electrical_eff / transmittance_absorptance\n",
    "    )\n",
    "\n",
    "    return numerator / denominator\n",
    "\n",
    "\n",
    "def calc_array_temp_pvsyst(e_poa, ambient_temp, windspeed, uc=29, uv=1.2):\n",
    "    u = uc + (uv * windspeed)\n",
    "    tcell = ambient_temp + (1/u) * (0.9 * e_poa * 1000 * (1-0.21))\n",
    "    return tcell\n",
    "\n",
    "def calc_array_temp_sandia(e_poa: float, ambient_temp: float, wind_speed: float, \n",
    "                           a: float = -3.47, b: float = -0.0594) -> float:\n",
    "    \"\"\"\n",
    "    Calculate the temperature of a photovoltaic (PV) array based on the Sandia method.\n",
    "    \n",
    "    Parameters:\n",
    "    - e_poa (float): Plane of array irradiance in kW/m^2. Represents the solar irradiance incident on the PV array.\n",
    "    - ambient_temp (float): Ambient temperature in degrees Celsius.\n",
    "    - wind_speed (float): Wind speed in m/s at the site of the PV array.\n",
    "    - a (float): Coefficient a in the exponential model, defaulting to -3.47.\n",
    "    - b (float): Coefficient b in the exponential model, defaulting to -0.0594.\n",
    "    \n",
    "    Returns:\n",
    "    - float: Estimated temperature of the PV array in degrees Celsius.\n",
    "    \"\"\"\n",
    "    array_temp = e_poa * 1000 * math.exp(a + b * wind_speed) + ambient_temp\n",
    "    return array_temp\n",
    "\n",
    "def calc_array_temp_faiman(e_poa, ambient_temp, wind_speed, U_0=25, U_1=6.84):\n",
    "    array_temp = ambient_temp + (e_poa * 1000 / (U_0 + U_1 * wind_speed))\n",
    "    return array_temp\n",
    "\n",
    "\n",
    "# Example usage:\n",
    "e_poa=0.5\n",
    "ambient_temp=25\n",
    "wind_speed=1\n",
    "\n",
    "list_1 = []\n",
    "list_2 = []\n",
    "list_3 = []\n",
    "list_4 = []\n",
    "list_5 = []\n",
    "\n",
    "\n",
    "print(\"\")\n",
    "wind_speed=10\n",
    "for i in range(1):\n",
    "    cell_temperature = calc_array_temp_homer(e_poa, ambient_temp)\n",
    "    print(f\"The cell temperature is {cell_temperature:.2f}°C from the Homer model with {wind_speed}m/s windspeed\")\n",
    "    list_2.append(cell_temperature)\n",
    "    wind_speed += 1\n",
    "\n",
    "print(\"\")\n",
    "wind_speed=0\n",
    "for i in range(21):\n",
    "    cell_temperature = calc_array_temp_pvsyst(e_poa, ambient_temp, wind_speed)\n",
    "    print(f\"The cell temperature is {cell_temperature:.2f}°C from the PVSyst model with {wind_speed}m/s windspeed\")\n",
    "    list_3.append(cell_temperature)\n",
    "    wind_speed += 1\n",
    "\n",
    "print(\"\")\n",
    "wind_speed=0\n",
    "for i in range(21):\n",
    "    cell_temperature = calc_array_temp_sandia(e_poa, ambient_temp, wind_speed)\n",
    "    print(f\"The cell temperature is {cell_temperature:.2f}°C from the Sandia model with {wind_speed}m/s windspeed\")\n",
    "    list_4.append(cell_temperature)\n",
    "    wind_speed += 1\n",
    "\n",
    "print(\"\")\n",
    "wind_speed=0\n",
    "for i in range(21):\n",
    "    cell_temperature = calc_array_temp_faiman(e_poa, ambient_temp, wind_speed)\n",
    "    print(f\"The cell temperature is {cell_temperature:.2f}°C from the Faiman model with {wind_speed}m/s windspeed\")\n",
    "    list_5.append(cell_temperature)\n",
    "    wind_speed += 1\n"
   ]
  },
  {
   "cell_type": "code",
   "execution_count": 8,
   "metadata": {},
   "outputs": [],
   "source": [
    "%%timeit\n",
    "cell_temperature = calc_array_temp_faiman(e_poa, ambient_temp, wind_speed)"
   ]
  },
  {
   "cell_type": "code",
   "execution_count": null,
   "metadata": {},
   "outputs": [],
   "source": [
    "%%timeit\n",
    "cell_temperature = calc_array_temp_sandia(e_poa, ambient_temp, wind_speed)"
   ]
  },
  {
   "cell_type": "code",
   "execution_count": null,
   "metadata": {},
   "outputs": [],
   "source": [
    "%%timeit\n",
    "cell_temperature = calc_array_temp_pvsyst(e_poa, ambient_temp, wind_speed)"
   ]
  },
  {
   "cell_type": "code",
   "execution_count": null,
   "metadata": {},
   "outputs": [],
   "source": [
    "%%timeit\n",
    "cell_temperature = calc_array_temp_homer(e_poa, ambient_temp)"
   ]
  },
  {
   "cell_type": "markdown",
   "metadata": {},
   "source": [
    "# Low Light Losses Visualisation Test"
   ]
  },
  {
   "cell_type": "code",
   "execution_count": null,
   "metadata": {},
   "outputs": [],
   "source": [
    "import numpy as np\n",
    "import plotly.express as px\n",
    "\n",
    "# Define the modified logistic function\n",
    "def calc_low_light_losses(pv_kwp, e_poa, k=0.0075, midpoint=25):\n",
    "    \"\"\"\n",
    "    Modified logistic function to calculate efficiency based on irradiance,\n",
    "    with a minimum efficiency level.\n",
    "\n",
    "    Parameters:\n",
    "    pv_kwp (float): The rated solar PV size (kWp).\n",
    "    e_poa (float): The irradiance incident on array (W/m2).\n",
    "    k (float): The steepness of the curve.\n",
    "    midpoint (float): The irradiance at which the efficiency is at its midpoint.\n",
    "\n",
    "    Returns:\n",
    "    float: The calculated efficiency at the given irradiance.\n",
    "    \"\"\"\n",
    "    pv_kwp_min = pv_kwp * 0.6\n",
    "    eff = pv_kwp_min + (pv_kwp - pv_kwp_min) / (1 + np.exp(-k * (e_poa - midpoint)))\n",
    "    return eff\n",
    "\n",
    "\n",
    "# Generate a range of irradiance values from 0 to 1000 W/m2 and set L to 1 kWp\n",
    "L = 1\n",
    "irradiance_range = np.linspace(0, 1000, 1001)\n",
    "efficiencies = calc_low_light_losses(L, irradiance_range)\n",
    "\n",
    "# Plot Graph of results\n",
    "fig = px.line(efficiencies[:], y=efficiencies[:], x = irradiance_range[:])\n",
    "\n",
    "fig.update_layout(xaxis_title=\"Irradiation (W/m2)\", yaxis_title=\"kWp Output\",\n",
    "                  title = \"Line graph showing PV kWp output due to low irradiance losses\")"
   ]
  },
  {
   "cell_type": "code",
   "execution_count": null,
   "metadata": {},
   "outputs": [],
   "source": [
    "calc_low_light_losses(1, 200)"
   ]
  },
  {
   "cell_type": "code",
   "execution_count": null,
   "metadata": {},
   "outputs": [],
   "source": [
    "px.bar(pv_model.summary_grouped.monthly[[\"PV_Gen_kWh_Total\", \"IAM_Loss_kWh_Total\", \n",
    "                                         \"PV_Thermal_Loss_kWh_Total\", \"Low_Light_Loss_kWh_Total\"]])"
   ]
  },
  {
   "cell_type": "code",
   "execution_count": null,
   "metadata": {},
   "outputs": [],
   "source": [
    "pv_model.summary_grouped.hourly.columns"
   ]
  },
  {
   "cell_type": "code",
   "execution_count": null,
   "metadata": {},
   "outputs": [],
   "source": []
  },
  {
   "cell_type": "markdown",
   "metadata": {},
   "source": [
    "# ***Performance Test***"
   ]
  },
  {
   "cell_type": "code",
   "execution_count": null,
   "metadata": {},
   "outputs": [],
   "source": [
    "# Performance Testing\n",
    "# import pstats\n",
    "# import cProfile\n",
    "# from meteo.Site import Site\n",
    "# from solar.SolarPVPanel import SolarPVPanel\n",
    "# from solar.SolarPVArray import SolarPVArray\n",
    "# from solar.SolarPVModel import SolarPVModel\n",
    "# from misc.log_config import configure_logging\n",
    "# from misc.util import load_pv_model\n",
    "# configure_logging()\n",
    "# cProfile.run(\"SolarPVModel(site=Site(latitude=54.60452, longitude=-5.92860, size=100), arrays=[SolarPVArray(SolarPVPanel(), 4), SolarPVArray(SolarPVPanel(), 4), SolarPVArray(SolarPVPanel(), 4), SolarPVArray(SolarPVPanel(), 4), SolarPVArray(SolarPVPanel(), 4)])\", 'performance_test.prof')\n",
    "# p = pstats.Stats('performance_test.prof')\n",
    "# p.sort_stats('tottime').print_stats()\n",
    "# p.sort_stats('cumtime').print_stats()"
   ]
  },
  {
   "cell_type": "code",
   "execution_count": null,
   "metadata": {},
   "outputs": [],
   "source": []
  },
  {
   "cell_type": "code",
   "execution_count": null,
   "metadata": {},
   "outputs": [],
   "source": []
  },
  {
   "cell_type": "markdown",
   "metadata": {},
   "source": [
    "# ***Example Running Model with variable inputs***"
   ]
  },
  {
   "cell_type": "code",
   "execution_count": null,
   "metadata": {},
   "outputs": [],
   "source": [
    "# %%timeit\n",
    "\n",
    "import pandas as pd\n",
    "import plotly.express as px\n",
    "import seaborn as sns\n",
    "\n",
    "from meteo.Site import Site\n",
    "from solar.SolarPVPanel import SolarPVPanel\n",
    "from solar.SolarPVArray import SolarPVArray\n",
    "from solar.SolarPVModel import SolarPVModel\n",
    "\n",
    "from misc.log_config import configure_logging\n",
    "from misc.util import load_pv_model\n",
    "\n",
    "configure_logging()\n",
    "pd.options.display.float_format = '{:.3f}'.format\n",
    "\n",
    "# Set up site location and get TMY data\n",
    "name = \"\"\n",
    "address = \"York St, Belfast, BT15 1ED\"\n",
    "client = \"Ulster University\"\n",
    "\n",
    "site = Site(name=name, \n",
    "            address=address, \n",
    "            client=client, \n",
    "            latitude=54.60452, \n",
    "            longitude=-5.92860, \n",
    "            size=100)"
   ]
  },
  {
   "cell_type": "code",
   "execution_count": null,
   "metadata": {},
   "outputs": [],
   "source": [
    "# %%timeit\n",
    "\n",
    "# Set up PV panel being used\n",
    "pv_panel = SolarPVPanel()\n",
    "\n",
    "# Set up PV arrays\n",
    "num_pv_panels = 4\n",
    "surface_pitch = 35\n",
    "surface_azimuth = -90\n",
    "albedo = 0.2\n",
    "cost_per_kWp = 1250\n",
    "\n",
    "pv_array_1 = SolarPVArray(pv_panel, num_pv_panels, surface_pitch, surface_azimuth, albedo, cost_per_kWp)\n",
    "pv_array_2 = SolarPVArray(pv_panel, num_pv_panels, surface_pitch, -45)\n",
    "pv_array_3 = SolarPVArray(pv_panel, num_pv_panels, surface_pitch, 0)\n",
    "pv_array_4 = SolarPVArray(pv_panel, num_pv_panels, surface_pitch, 45)\n",
    "pv_array_5 = SolarPVArray(pv_panel, num_pv_panels, surface_pitch, 90)\n",
    "\n",
    "pv_arrays = [pv_array_1, pv_array_2, pv_array_3, pv_array_4, pv_array_5]\n",
    "\n",
    "# Run the model\n",
    "pv_model = SolarPVModel(site, pv_arrays)\n",
    "\n",
    "print(\"\")\n",
    "print(f\"{sum(array.pv_kwp for array in pv_model.arrays)}kWp Solar PV modelled\")\n"
   ]
  },
  {
   "cell_type": "code",
   "execution_count": null,
   "metadata": {},
   "outputs": [],
   "source": [
    "import plotly.express as px\n",
    "\n",
    "px.bar(pv_model.summary_grouped.hourly[[\"PV_Gen_kWh_Total\", \"IAM_Loss_kWh_Total\", \"PV_Thermal_Loss_kWh_Total\"]])"
   ]
  },
  {
   "cell_type": "code",
   "execution_count": null,
   "metadata": {},
   "outputs": [],
   "source": [
    "px.bar(pv_model.summary_grouped.monthly[[\"E_Beam_kWm2_Avg\", \"E_Diffuse_kWm2_Avg\", \"E_Ground_kWm2_Avg\"]])"
   ]
  },
  {
   "cell_type": "code",
   "execution_count": null,
   "metadata": {},
   "outputs": [],
   "source": [
    "px.line(pv_model.models[0][\"model_result\"][[\"Array_Temp_C\", \"Ambient_Temperature_C\"]])"
   ]
  },
  {
   "cell_type": "code",
   "execution_count": null,
   "metadata": {},
   "outputs": [],
   "source": [
    "px.line(pv_model.summary_grouped.monthly[[\"ET_HRad_kWm2_Avg\", \"E_POA_kWm2_Avg\", \"Panel_POA_kWm2_Avg\"]])"
   ]
  },
  {
   "cell_type": "code",
   "execution_count": null,
   "metadata": {},
   "outputs": [],
   "source": [
    "pv_model.summary"
   ]
  },
  {
   "cell_type": "code",
   "execution_count": null,
   "metadata": {},
   "outputs": [],
   "source": [
    "pv_model.combined_model"
   ]
  },
  {
   "cell_type": "markdown",
   "metadata": {},
   "source": [
    "# ***Visualisation***"
   ]
  },
  {
   "cell_type": "code",
   "execution_count": null,
   "metadata": {},
   "outputs": [],
   "source": [
    "import plotly.express as px\n",
    "import seaborn as sns"
   ]
  },
  {
   "cell_type": "code",
   "execution_count": null,
   "metadata": {},
   "outputs": [],
   "source": [
    "pv_model.array_model(1).head()"
   ]
  },
  {
   "cell_type": "code",
   "execution_count": null,
   "metadata": {},
   "outputs": [],
   "source": [
    "print(f\"PV Gen: {round(pv_model.all_models.PV_Gen_kWh_Array_1.sum(), 3)}kWh\")\n",
    "print(f\"E POA: {round(pv_model.all_models.E_POA_kWm2_Array_1.sum(), 3)}Whm2\")"
   ]
  },
  {
   "cell_type": "code",
   "execution_count": null,
   "metadata": {},
   "outputs": [],
   "source": [
    "px.bar(pv_model.summary_grouped.hourly[[\"PV_Gen_kWh_Total\", \"IAM_Loss_kWh_Total\", \"PV_Thermal_Loss_kWh_Total\"]])"
   ]
  },
  {
   "cell_type": "code",
   "execution_count": null,
   "metadata": {},
   "outputs": [],
   "source": [
    "px.bar(pv_model.summary_grouped.monthly[[\"PV_Gen_kWh_Total\", \"IAM_Loss_kWh_Total\", \"PV_Thermal_Loss_kWh_Total\"]])"
   ]
  },
  {
   "cell_type": "code",
   "execution_count": null,
   "metadata": {},
   "outputs": [],
   "source": [
    "px.bar(pv_model.summary_grouped.weekly[[\"PV_Gen_kWh_Total\", \"IAM_Loss_kWh_Total\", \"PV_Thermal_Loss_kWh_Total\"]])"
   ]
  },
  {
   "cell_type": "code",
   "execution_count": null,
   "metadata": {},
   "outputs": [],
   "source": [
    "px.bar(pv_model.summary_grouped.daily[[\"PV_Gen_kWh_Total\", \"IAM_Loss_kWh_Total\", \"PV_Thermal_Loss_kWh_Total\"]])"
   ]
  },
  {
   "cell_type": "code",
   "execution_count": null,
   "metadata": {},
   "outputs": [],
   "source": [
    "px.line(pv_model.models[0][\"model_result\"][[\"Array_Temp_C\", \"Ambient_Temperature_C\"]])\n"
   ]
  },
  {
   "cell_type": "code",
   "execution_count": null,
   "metadata": {},
   "outputs": [],
   "source": [
    "sns.lineplot(pv_model.models[0][\"model_result\"][[\"Array_Temp_C\", \"Ambient_Temperature_C\"]])"
   ]
  },
  {
   "cell_type": "code",
   "execution_count": null,
   "metadata": {},
   "outputs": [],
   "source": [
    "px.line(pv_model.models[0][\"model_result\"][[\"ET_HRad_kWm2\", \"E_POA_kWm2\"]])"
   ]
  },
  {
   "cell_type": "code",
   "execution_count": null,
   "metadata": {},
   "outputs": [],
   "source": [
    "sns.lineplot(pv_model.models[0][\"model_result\"][[\"ET_HRad_kWm2\", \"E_POA_kWm2\"]])"
   ]
  },
  {
   "cell_type": "code",
   "execution_count": null,
   "metadata": {},
   "outputs": [],
   "source": []
  },
  {
   "cell_type": "markdown",
   "metadata": {},
   "source": [
    "# ***VISUAL TESTING***"
   ]
  },
  {
   "cell_type": "code",
   "execution_count": null,
   "metadata": {},
   "outputs": [],
   "source": [
    "variables = ['E_Beam_kWm2', 'E_Diffuse_kWm2', 'E_Ground_kWm2', 'E_POA_kWm2', 'ET_HRad_kWm2', \n",
    "            'Array_Temp_C', 'PV_Gen_kWh', 'AOI', 'Zenith_Angle']\n",
    "\n",
    "testy = pv_model.all_models\n",
    "\n",
    "variable = \"PV_Gen_kWh\"\n",
    "\n",
    "variable_1 = f\"{variable}_Array_1\"\n",
    "variable_2 = f\"{variable}_Array_2\"\n",
    "variable_3 = f\"{variable}_Array_3\"\n",
    "variable_4 = f\"{variable}_Array_4\"\n",
    "variable_7 = f\"{variable}_Total\"\n",
    "variable_8 = f\"{variable}_Avg\"\n",
    "\n",
    "if variable_1 in testy:\n",
    "    sns.lineplot(testy.groupby(\"Hour_of_Day\")[variable_1].mean())\n",
    "if variable_2 in testy:\n",
    "    sns.lineplot(testy.groupby(\"Hour_of_Day\")[variable_2].mean())\n",
    "if variable_3 in testy:\n",
    "    sns.lineplot(testy.groupby(\"Hour_of_Day\")[variable_3].mean())\n",
    "if variable_4 in testy:\n",
    "    sns.lineplot(testy.groupby(\"Hour_of_Day\")[variable_4].mean())\n",
    "if variable_7 in testy:\n",
    "    sns.lineplot(testy.groupby(\"Hour_of_Day\")[variable_7].mean(), alpha=0.4, ls=\"--\")\n",
    "if variable_8 in testy:\n",
    "    sns.lineplot(testy.groupby(\"Hour_of_Day\")[variable_8].mean(), alpha=0.4, ls=\"--\")"
   ]
  },
  {
   "cell_type": "code",
   "execution_count": null,
   "metadata": {},
   "outputs": [],
   "source": [
    "sns.lineplot(pv_model.combined_model[\"Array_Temp_C_Avg\"], alpha = 0.2, ls = \"--\", color = \"orange\")\n",
    "sns.lineplot(pv_model.combined_model[\"Ambient_Temperature_C\"])"
   ]
  },
  {
   "cell_type": "code",
   "execution_count": null,
   "metadata": {},
   "outputs": [],
   "source": [
    "sns.barplot(pv_model.summary_grouped.hourly.Array_Temp_C_Avg)"
   ]
  },
  {
   "cell_type": "code",
   "execution_count": null,
   "metadata": {},
   "outputs": [],
   "source": [
    "sns.lineplot(pv_model.combined_model.groupby(\"Hour_of_Day\")[\"PV_Gen_kWh_Total\"].mean())"
   ]
  },
  {
   "cell_type": "code",
   "execution_count": null,
   "metadata": {},
   "outputs": [],
   "source": [
    "pv_model.all_models[\"PV_Gen_kWh_Total\"].sum()"
   ]
  },
  {
   "cell_type": "code",
   "execution_count": null,
   "metadata": {},
   "outputs": [],
   "source": [
    "pv_model.all_models.columns"
   ]
  },
  {
   "cell_type": "code",
   "execution_count": null,
   "metadata": {},
   "outputs": [],
   "source": [
    "sns.lineplot(pv_model.all_models[\"PV_Thermal_Loss_kWh_Total\"])"
   ]
  },
  {
   "cell_type": "code",
   "execution_count": null,
   "metadata": {},
   "outputs": [],
   "source": [
    "temp_losses = (pv_model.all_models[\"PV_Thermal_Loss_kWh_Total\"].sum() / pv_model.all_models[\"PV_Gen_kWh_Total\"].sum() * 100)\n",
    "\n",
    "print(f\"{round(temp_losses, 3)}% change to power due to temperature losses\")"
   ]
  },
  {
   "cell_type": "code",
   "execution_count": null,
   "metadata": {},
   "outputs": [],
   "source": [
    "pv_model.models[0][\"model_result\"]"
   ]
  },
  {
   "cell_type": "code",
   "execution_count": null,
   "metadata": {},
   "outputs": [],
   "source": [
    "pv_model.all_models"
   ]
  },
  {
   "cell_type": "code",
   "execution_count": null,
   "metadata": {},
   "outputs": [],
   "source": [
    "pv_model.combined_model"
   ]
  },
  {
   "cell_type": "code",
   "execution_count": null,
   "metadata": {},
   "outputs": [],
   "source": [
    "pv_model.summary"
   ]
  },
  {
   "cell_type": "code",
   "execution_count": null,
   "metadata": {},
   "outputs": [],
   "source": [
    "pv_model.summary_grouped.daily"
   ]
  },
  {
   "cell_type": "code",
   "execution_count": null,
   "metadata": {},
   "outputs": [],
   "source": [
    "pv_model.summary"
   ]
  },
  {
   "cell_type": "code",
   "execution_count": null,
   "metadata": {},
   "outputs": [],
   "source": [
    "pv_model.summary_grouped.monthly"
   ]
  },
  {
   "cell_type": "code",
   "execution_count": null,
   "metadata": {},
   "outputs": [],
   "source": []
  },
  {
   "cell_type": "markdown",
   "metadata": {},
   "source": [
    "# ***MODEL ANALYSIS***"
   ]
  },
  {
   "cell_type": "code",
   "execution_count": null,
   "metadata": {},
   "outputs": [],
   "source": []
  },
  {
   "cell_type": "code",
   "execution_count": null,
   "metadata": {},
   "outputs": [],
   "source": []
  },
  {
   "cell_type": "code",
   "execution_count": null,
   "metadata": {},
   "outputs": [],
   "source": []
  },
  {
   "cell_type": "code",
   "execution_count": null,
   "metadata": {},
   "outputs": [],
   "source": []
  },
  {
   "cell_type": "code",
   "execution_count": null,
   "metadata": {},
   "outputs": [],
   "source": []
  },
  {
   "cell_type": "code",
   "execution_count": null,
   "metadata": {},
   "outputs": [],
   "source": []
  }
 ],
 "metadata": {
  "kernelspec": {
   "display_name": "Python 3",
   "language": "python",
   "name": "python3"
  },
  "language_info": {
   "codemirror_mode": {
    "name": "ipython",
    "version": 3
   },
   "file_extension": ".py",
   "mimetype": "text/x-python",
   "name": "python",
   "nbconvert_exporter": "python",
   "pygments_lexer": "ipython3",
   "version": "3.11.8"
  }
 },
 "nbformat": 4,
 "nbformat_minor": 2
}
