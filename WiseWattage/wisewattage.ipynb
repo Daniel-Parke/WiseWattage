{
 "cells": [
  {
   "cell_type": "markdown",
   "metadata": {},
   "source": [
    "# ***SolarPvModel FUNCTIONALITY***"
   ]
  },
  {
   "cell_type": "code",
   "execution_count": null,
   "metadata": {},
   "outputs": [],
   "source": [
    "import pandas as pd\n",
    "import plotly.express as px\n",
    "import seaborn as sns\n",
    "\n",
    "from meteo.Site import Site\n",
    "from solar.SolarPVPanel import SolarPVPanel\n",
    "from solar.SolarPVArray import SolarPVArray\n",
    "from solar.SolarPVModel import SolarPVModel\n",
    "\n",
    "from misc.log_config import configure_logging\n",
    "\n",
    "configure_logging()\n",
    "pd.options.display.float_format = '{:.3f}'.format\n",
    "\n",
    "# Set up site location and get TMY data\n",
    "name = \"\"\n",
    "address = \"York St, Belfast, BT15 1ED\"\n",
    "client = \"Ulster University\"\n",
    "\n",
    "site = Site(name=name, \n",
    "            address=address, \n",
    "            client=client, \n",
    "            latitude=54.60452, \n",
    "            longitude=-5.92860, \n",
    "            size=100)\n",
    "\n",
    "# Set up PV panel being used\n",
    "panel_kwp = 0.3538\n",
    "size_m2 = 1.990\n",
    "eff = 0.2237\n",
    "cell_temp_coeff = -0.004\n",
    "cell_NOCT = 48\n",
    "lifespan = 25\n",
    "pv_eol_derating = 0.88\n",
    "refraction_index = 0.05\n",
    "\n",
    "pv_panel = SolarPVPanel(panel_kwp, size_m2, eff, cell_temp_coeff, \n",
    "                        cell_NOCT, lifespan, pv_eol_derating, refraction_index)\n",
    "\n",
    "\n",
    "# Set up PV arrays\n",
    "num_pv_panels = 3\n",
    "surface_pitch = 35\n",
    "surface_azimuth = -90\n",
    "albedo = 0.2\n",
    "cost_per_kWp = 1250\n",
    "\n",
    "pv_array_1 = SolarPVArray(pv_panel, num_pv_panels, surface_pitch, surface_azimuth, albedo, cost_per_kWp)\n",
    "pv_array_2 = SolarPVArray(pv_panel, num_pv_panels, surface_pitch, -45)\n",
    "pv_array_3 = SolarPVArray(pv_panel, num_pv_panels, surface_pitch, 0)\n",
    "pv_array_4 = SolarPVArray(pv_panel, num_pv_panels, surface_pitch, 45)\n",
    "pv_array_5 = SolarPVArray(pv_panel, num_pv_panels, surface_pitch, 90)\n",
    "\n",
    "pv_arrays = [pv_array_1, pv_array_2, pv_array_3, pv_array_4, pv_array_5]\n",
    "\n",
    "\n",
    "# Run the model\n",
    "pv_model = SolarPVModel(site, pv_arrays)\n",
    "\n",
    "print(\"\")\n",
    "print(f\"{sum(array.pv_kwp for array in pv_model.arrays)}kWp Solar PV modelled covering a {sum(array.area_m2 for array in pv_model.arrays)}m2 area.\")\n"
   ]
  },
  {
   "cell_type": "code",
   "execution_count": null,
   "metadata": {},
   "outputs": [],
   "source": [
    "pv_model.combined_model.Total_PV_Losses_kWh_Total.sum()"
   ]
  },
  {
   "cell_type": "code",
   "execution_count": null,
   "metadata": {},
   "outputs": [],
   "source": [
    "round(pv_model.combined_model.Total_PV_Losses_kWh_Total.sum() / pv_model.combined_model.PV_Gen_kWh_Total.sum() * 100, 2)"
   ]
  },
  {
   "cell_type": "code",
   "execution_count": null,
   "metadata": {},
   "outputs": [],
   "source": [
    "a = pv_model.combined_model.PV_Thermal_Loss_kWh_Total.sum() \n",
    "b = pv_model.combined_model.Low_Light_Loss_kWh_Total.sum() \n",
    "c = pv_model.combined_model.IAM_Loss_kWh_Total.sum()\n",
    "d = a + b + c\n",
    "e = pv_model.combined_model.PV_Gen_kWh_Total.sum()\n",
    "f = d / e * 100\n",
    "\n",
    "print(f\"{a:.2f} kWh Thermal Losses\")\n",
    "print(f\"{b:.2f} kWh Low Light Losses\")\n",
    "print(f\"{c:.2f} kWh IAM Losses\")\n",
    "print(f\"{d:.2f} kWh Total Losses\")\n",
    "print()\n",
    "print(f\"{e:.2f} kWh PV gen annual\")\n",
    "print(f\"{f:.2f}% losses\")"
   ]
  },
  {
   "cell_type": "code",
   "execution_count": null,
   "metadata": {},
   "outputs": [],
   "source": [
    "pv_model.summary"
   ]
  },
  {
   "cell_type": "code",
   "execution_count": null,
   "metadata": {},
   "outputs": [],
   "source": [
    "pv_model.summary_grouped.hourly.sum()"
   ]
  },
  {
   "cell_type": "code",
   "execution_count": null,
   "metadata": {},
   "outputs": [],
   "source": [
    "print(pv_model.models[0][\"model_result\"].E_POA_kWm2.sum())\n",
    "print(pv_model.models[1][\"model_result\"].E_POA_kWm2.sum())\n",
    "print(pv_model.models[2][\"model_result\"].E_POA_kWm2.sum())\n",
    "print(pv_model.models[3][\"model_result\"].E_POA_kWm2.sum())\n",
    "print(pv_model.models[4][\"model_result\"].E_POA_kWm2.sum())"
   ]
  },
  {
   "cell_type": "code",
   "execution_count": null,
   "metadata": {},
   "outputs": [],
   "source": [
    "px.bar(pv_model.summary_grouped.quarterly[[\"Total_PV_Losses_kWh_Total\", \"PV_Gen_kWh_Total\"]])"
   ]
  },
  {
   "cell_type": "code",
   "execution_count": null,
   "metadata": {},
   "outputs": [],
   "source": []
  },
  {
   "cell_type": "code",
   "execution_count": null,
   "metadata": {},
   "outputs": [],
   "source": []
  },
  {
   "cell_type": "markdown",
   "metadata": {},
   "source": [
    "# ***Performance Test***"
   ]
  },
  {
   "cell_type": "code",
   "execution_count": 22,
   "metadata": {},
   "outputs": [],
   "source": [
    "# Performance Testing\n",
    "# import pstats\n",
    "# import cProfile\n",
    "# from meteo.Site import Site\n",
    "# from solar.SolarPVPanel import SolarPVPanel\n",
    "# from solar.SolarPVArray import SolarPVArray\n",
    "# from solar.SolarPVModel import SolarPVModel\n",
    "# from misc.log_config import configure_logging\n",
    "# configure_logging()\n",
    "# cProfile.run(\"SolarPVModel(site=Site(latitude=54.60452, longitude=-5.92860, size=100), arrays=[SolarPVArray(SolarPVPanel(), 4), SolarPVArray(SolarPVPanel(), 4), SolarPVArray(SolarPVPanel(), 4), SolarPVArray(SolarPVPanel(), 4), SolarPVArray(SolarPVPanel(), 4)])\", 'performance_test.prof')\n",
    "# p = pstats.Stats('performance_test.prof')\n",
    "# p.sort_stats('tottime').print_stats()\n",
    "# p.sort_stats('cumtime').print_stats()"
   ]
  },
  {
   "cell_type": "code",
   "execution_count": null,
   "metadata": {},
   "outputs": [],
   "source": []
  },
  {
   "cell_type": "markdown",
   "metadata": {},
   "source": [
    "# **Example: PV_Only model for multiple site locations and arrays:**"
   ]
  },
  {
   "cell_type": "code",
   "execution_count": 1,
   "metadata": {},
   "outputs": [
    {
     "name": "stderr",
     "output_type": "stream",
     "text": [
      "2024-03-08 00:05:39,566 - INFO - Fetching TMY data for Belfast at latitude: 54.60452, longitude: -5.9286\n",
      "2024-03-08 00:05:43,218 - INFO - HTTP Request: GET https://re.jrc.ec.europa.eu/api/tmy?lat=54.60452&lon=-5.9286&startyear=2005&endyear=2015&outputformat=json \"HTTP/1.1 200 OK\"\n",
      "2024-03-08 00:05:43,983 - INFO - TMY data obtained for Belfast at latitude: 54.60452, longitude: -5.9286\n",
      "2024-03-08 00:05:43,984 - INFO - *******************\n",
      "2024-03-08 00:05:43,984 - INFO - Fetching TMY data for Paris at latitude: 48.8562, longitude: 2.3477\n",
      "2024-03-08 00:05:55,343 - INFO - HTTP Request: GET https://re.jrc.ec.europa.eu/api/tmy?lat=48.8562&lon=2.3477&startyear=2005&endyear=2015&outputformat=json \"HTTP/1.1 200 OK\"\n",
      "2024-03-08 00:05:56,025 - INFO - TMY data obtained for Paris at latitude: 48.8562, longitude: 2.3477\n",
      "2024-03-08 00:05:56,026 - INFO - *******************\n",
      "2024-03-08 00:05:56,027 - INFO - Fetching TMY data for Madrid at latitude: 40.4202, longitude: -3.6988\n",
      "2024-03-08 00:05:59,844 - INFO - HTTP Request: GET https://re.jrc.ec.europa.eu/api/tmy?lat=40.4202&lon=-3.6988&startyear=2005&endyear=2015&outputformat=json \"HTTP/1.1 200 OK\"\n",
      "2024-03-08 00:06:00,552 - INFO - TMY data obtained for Madrid at latitude: 40.4202, longitude: -3.6988\n",
      "2024-03-08 00:06:00,553 - INFO - *******************\n",
      "2024-03-08 00:06:00,553 - INFO - Fetching TMY data for Cairo at latitude: 30.1098, longitude: -3.6988\n",
      "2024-03-08 00:06:06,380 - INFO - HTTP Request: GET https://re.jrc.ec.europa.eu/api/tmy?lat=30.1098&lon=-3.6988&startyear=2005&endyear=2015&outputformat=json \"HTTP/1.1 200 OK\"\n",
      "2024-03-08 00:06:07,095 - INFO - TMY data obtained for Cairo at latitude: 30.1098, longitude: -3.6988\n",
      "2024-03-08 00:06:07,096 - INFO - *******************\n",
      "2024-03-08 00:06:07,096 - INFO - Fetching TMY data for Abuja at latitude: 9.0591, longitude: 31.2235\n",
      "2024-03-08 00:06:11,296 - INFO - HTTP Request: GET https://re.jrc.ec.europa.eu/api/tmy?lat=9.0591&lon=31.2235&startyear=2005&endyear=2015&outputformat=json \"HTTP/1.1 200 OK\"\n",
      "2024-03-08 00:06:12,002 - INFO - TMY data obtained for Abuja at latitude: 9.0591, longitude: 31.2235\n",
      "2024-03-08 00:06:12,003 - INFO - *******************\n",
      "2024-03-08 00:06:12,003 - INFO - Solar PV Panel created: Size: 0.3538kW, Size: 1.99m2, Efficiency: 22.37%, Lifespan: 25yrs\n",
      "2024-03-08 00:06:12,003 - INFO - *******************\n",
      "2024-03-08 00:06:12,004 - INFO - Solar PV Panel created: Size: 0.3538kW, Size: 1.99m2, Efficiency: 22.37%, Lifespan: 25yrs\n",
      "2024-03-08 00:06:12,004 - INFO - *******************\n",
      "2024-03-08 00:06:12,005 - INFO - Solar PV array created: Size: 1.061kW, Size: 5.97m2, Azimuth: -90deg, Lifespan: 25yrs, Pitch: 35deg, Efficiency: 22.37%\n",
      "2024-03-08 00:06:12,005 - INFO - Solar PV array created: Size: 1.061kW, Size: 5.97m2, Azimuth: -45deg, Lifespan: 25yrs, Pitch: 35deg, Efficiency: 22.37%\n",
      "2024-03-08 00:06:12,006 - INFO - Solar PV array created: Size: 1.061kW, Size: 5.97m2, Azimuth: 0deg, Lifespan: 25yrs, Pitch: 35deg, Efficiency: 22.37%\n",
      "2024-03-08 00:06:12,007 - INFO - Solar PV array created: Size: 1.061kW, Size: 5.97m2, Azimuth: 45deg, Lifespan: 25yrs, Pitch: 35deg, Efficiency: 22.37%\n",
      "2024-03-08 00:06:12,007 - INFO - Solar PV array created: Size: 1.061kW, Size: 5.97m2, Azimuth: 90deg, Lifespan: 25yrs, Pitch: 35deg, Efficiency: 22.37%\n",
      "2024-03-08 00:06:12,008 - INFO - Solar PV array created: Size: 1.061kW, Size: 5.97m2, Azimuth: 90deg, Lifespan: 25yrs, Pitch: 35deg, Efficiency: 22.37%\n",
      "2024-03-08 00:06:12,008 - INFO - Solar PV array created: Size: 1.061kW, Size: 5.97m2, Azimuth: 0deg, Lifespan: 25yrs, Pitch: 35deg, Efficiency: 22.37%\n",
      "2024-03-08 00:06:12,009 - INFO - Solar PV array created: Size: 1.061kW, Size: 5.97m2, Azimuth: -90deg, Lifespan: 25yrs, Pitch: 35deg, Efficiency: 22.37%\n"
     ]
    },
    {
     "ename": "AttributeError",
     "evalue": "'PV_Only' object has no attribute 'site'",
     "output_type": "error",
     "traceback": [
      "\u001b[1;31m---------------------------------------------------------------------------\u001b[0m",
      "\u001b[1;31mAttributeError\u001b[0m                            Traceback (most recent call last)",
      "Cell \u001b[1;32mIn[1], line 34\u001b[0m\n\u001b[0;32m     31\u001b[0m pv_arrays_2 \u001b[38;5;241m=\u001b[39m [pv_array_6, pv_array_7, pv_array_8]\n\u001b[0;32m     33\u001b[0m \u001b[38;5;66;03m# Add to Project class for further work.\u001b[39;00m\n\u001b[1;32m---> 34\u001b[0m project \u001b[38;5;241m=\u001b[39m \u001b[43mPV_Only\u001b[49m\u001b[43m(\u001b[49m\u001b[43msites\u001b[49m\u001b[38;5;241;43m=\u001b[39;49m\u001b[43msites\u001b[49m\u001b[43m,\u001b[49m\u001b[43m \u001b[49m\u001b[43marrays\u001b[49m\u001b[38;5;241;43m=\u001b[39;49m\u001b[43m[\u001b[49m\u001b[43mpv_arrays_1\u001b[49m\u001b[43m,\u001b[49m\u001b[43m \u001b[49m\u001b[43mpv_arrays_2\u001b[49m\u001b[43m]\u001b[49m\u001b[43m)\u001b[49m\n\u001b[0;32m     36\u001b[0m \u001b[38;5;28mprint\u001b[39m()\n\u001b[0;32m     37\u001b[0m \u001b[38;5;28mprint\u001b[39m(\u001b[38;5;124mf\u001b[39m\u001b[38;5;124m\"\u001b[39m\u001b[38;5;132;01m{\u001b[39;00mproject\u001b[38;5;241m.\u001b[39mpv_models\u001b[38;5;241m.\u001b[39mBelfast[\u001b[38;5;124m'\u001b[39m\u001b[38;5;124mBelfast_1\u001b[39m\u001b[38;5;124m'\u001b[39m]\u001b[38;5;241m.\u001b[39msummary\u001b[38;5;241m.\u001b[39mPV_Gen_kWh_Annual\u001b[38;5;132;01m:\u001b[39;00m\u001b[38;5;124m.3f\u001b[39m\u001b[38;5;132;01m}\u001b[39;00m\u001b[38;5;124m kWh annually - Belfast\u001b[39m\u001b[38;5;124m\"\u001b[39m)\n",
      "File \u001b[1;32m<string>:7\u001b[0m, in \u001b[0;36m__init__\u001b[1;34m(self, sites, arrays, name, pv_models)\u001b[0m\n",
      "File \u001b[1;32mc:\\Users\\djp12\\Documents\\Coding\\Github_Repos\\WiseWattage\\WiseWattage\\ww_models\\PVOnly.py:15\u001b[0m, in \u001b[0;36mPV_Only.__post_init__\u001b[1;34m(self)\u001b[0m\n\u001b[0;32m     14\u001b[0m \u001b[38;5;28;01mdef\u001b[39;00m \u001b[38;5;21m__post_init__\u001b[39m(\u001b[38;5;28mself\u001b[39m):\n\u001b[1;32m---> 15\u001b[0m     \u001b[38;5;28mself\u001b[39m\u001b[38;5;241m.\u001b[39msite \u001b[38;5;241m=\u001b[39m [\u001b[38;5;28mself\u001b[39m\u001b[38;5;241m.\u001b[39msite] \u001b[38;5;28;01mif\u001b[39;00m \u001b[38;5;129;01mnot\u001b[39;00m \u001b[38;5;28misinstance\u001b[39m(\u001b[38;5;28;43mself\u001b[39;49m\u001b[38;5;241;43m.\u001b[39;49m\u001b[43msite\u001b[49m, \u001b[38;5;28mlist\u001b[39m) \u001b[38;5;28;01melse\u001b[39;00m \u001b[38;5;28mself\u001b[39m\u001b[38;5;241m.\u001b[39msite\n\u001b[0;32m     16\u001b[0m     \u001b[38;5;28mself\u001b[39m\u001b[38;5;241m.\u001b[39marrays \u001b[38;5;241m=\u001b[39m [\u001b[38;5;28mself\u001b[39m\u001b[38;5;241m.\u001b[39marrays] \u001b[38;5;28;01mif\u001b[39;00m \u001b[38;5;129;01mnot\u001b[39;00m \u001b[38;5;28misinstance\u001b[39m(\u001b[38;5;28mself\u001b[39m\u001b[38;5;241m.\u001b[39marrays, \u001b[38;5;28mlist\u001b[39m) \u001b[38;5;28;01melse\u001b[39;00m \u001b[38;5;28mself\u001b[39m\u001b[38;5;241m.\u001b[39marrays\n\u001b[0;32m     18\u001b[0m     \u001b[38;5;28mself\u001b[39m\u001b[38;5;241m.\u001b[39mpv_models \u001b[38;5;241m=\u001b[39m AttrDict()\n",
      "\u001b[1;31mAttributeError\u001b[0m: 'PV_Only' object has no attribute 'site'"
     ]
    }
   ],
   "source": [
    "from ww_models.PVOnly import Site, SolarPVPanel, SolarPVArray, PV_Only\n",
    "from misc.log_config import configure_logging\n",
    "configure_logging()\n",
    "\n",
    "# Initialise sites to be modelled\n",
    "site_1 = Site(name=\"Belfast\", latitude=54.60452, longitude=-5.92860)\n",
    "site_2 = Site(name=\"Paris\", latitude=48.8562, longitude=2.3477)\n",
    "site_3 = Site(name=\"Madrid\", latitude=40.4202, longitude=-3.6988)\n",
    "site_4 = Site(name=\"Cairo\", latitude=30.1098, longitude=-3.6988)\n",
    "site_5 = Site(name=\"Abuja\", latitude=9.0591, longitude=31.2235)\n",
    "\n",
    "sites = [site_1, site_2, site_3, site_4, site_5]\n",
    "\n",
    "# Configure Solar Panels to be used in arrays\n",
    "pv_panel = SolarPVPanel()\n",
    "pv_panel_2 = SolarPVPanel()\n",
    "\n",
    "# Configure Solar Arrays from panels and system characteristics\n",
    "pv_array_1 = SolarPVArray(pv_panel, 3, 35, -90)\n",
    "pv_array_2 = SolarPVArray(pv_panel, 3, 35, -45)\n",
    "pv_array_3 = SolarPVArray(pv_panel, 3, 35, 0)\n",
    "pv_array_4 = SolarPVArray(pv_panel, 3, 35, 45)\n",
    "pv_array_5 = SolarPVArray(pv_panel, 3, 35, 90)\n",
    "\n",
    "pv_array_6 = SolarPVArray(pv_panel_2, 3, 35, 90)\n",
    "pv_array_7 = SolarPVArray(pv_panel_2, 3, 35, 0)\n",
    "pv_array_8 = SolarPVArray(pv_panel_2, 3, 35, -90)\n",
    "\n",
    "# Combine solar arrays into individual systems to be modelled\n",
    "pv_arrays_1 = [pv_array_1, pv_array_2, pv_array_3, pv_array_4, pv_array_5]\n",
    "pv_arrays_2 = [pv_array_6, pv_array_7, pv_array_8]\n",
    "\n",
    "# Add to Project class for further work.\n",
    "project = PV_Only(sites=sites, arrays=[pv_arrays_1, pv_arrays_2])\n",
    "\n",
    "print()\n",
    "print(f\"{project.pv_models.Belfast['Belfast_1'].summary.PV_Gen_kWh_Annual:.3f} kWh annually - Belfast\")\n",
    "print(f\"{project.pv_models.Paris['Paris_1'].summary.PV_Gen_kWh_Annual:.3f} kWh annually - Paris\")\n",
    "print(f\"{project.pv_models.Madrid['Madrid_1'].summary.PV_Gen_kWh_Annual:.3f} kWh annually - Madrid\")\n",
    "print(f\"{project.pv_models.Cairo['Cairo_1'].summary.PV_Gen_kWh_Annual:.3f} kWh annually - Cairo\")\n",
    "print(f\"{project.pv_models.Abuja['Abuja_1'].summary.PV_Gen_kWh_Annual:.3f} kWh annually - Abuja\")\n"
   ]
  },
  {
   "cell_type": "code",
   "execution_count": null,
   "metadata": {},
   "outputs": [
    {
     "name": "stdout",
     "output_type": "stream",
     "text": [
      "943.7153500000001\n",
      "1233.6499\n",
      "1826.7363500000001\n",
      "2271.17575\n",
      "2109.4402\n"
     ]
    }
   ],
   "source": [
    "for site in project.site:\n",
    "    print(site.tmy_data[\"G(h)\"].sum()/1000)"
   ]
  },
  {
   "cell_type": "code",
   "execution_count": 38,
   "metadata": {},
   "outputs": [
    {
     "name": "stdout",
     "output_type": "stream",
     "text": [
      "Belfast_1 Results:\n",
      "***\n",
      "PV_Gen_kWh_Annual               4741.066\n",
      "PV_Gen_kWh_Lifetime           111130.577\n",
      "E_POA_kWm2_Annual                956.222\n",
      "Panel_POA_kWm2_Annual            944.607\n",
      "IAM_Loss_kWh_Annual               58.317\n",
      "PV_Thermal_Loss_kWh_Annual        38.601\n",
      "Low_Light_Loss_kWh_Annual        219.847\n",
      "Total_PV_Losses_kWh_Annual       316.765\n",
      "E_Beam_kWm2_Annual               421.631\n",
      "E_Diffuse_kWm2_Annual            517.524\n",
      "E_Ground_kWm2_Annual              17.067\n",
      "ET_HRad_kWm2_Annual             2270.579\n",
      "Array_Temp_C_Avg                  11.311\n",
      "Ambient_Temperature_C_Avg          8.899\n",
      "dtype: float64\n",
      "\n",
      "Belfast_2 Results:\n",
      "***\n",
      "PV_Gen_kWh_Annual              2762.445\n",
      "PV_Gen_kWh_Lifetime           64751.709\n",
      "E_POA_kWm2_Annual               930.299\n",
      "Panel_POA_kWm2_Annual           918.550\n",
      "IAM_Loss_kWh_Annual              35.342\n",
      "PV_Thermal_Loss_kWh_Annual       21.068\n",
      "Low_Light_Loss_kWh_Annual       133.455\n",
      "Total_PV_Losses_kWh_Annual      189.865\n",
      "E_Beam_kWm2_Annual              395.708\n",
      "E_Diffuse_kWm2_Annual           517.524\n",
      "E_Ground_kWm2_Annual             17.067\n",
      "ET_HRad_kWm2_Annual            2270.579\n",
      "Array_Temp_C_Avg                 11.244\n",
      "Ambient_Temperature_C_Avg         8.899\n",
      "dtype: float64\n",
      "\n",
      "Paris_1 Results:\n",
      "***\n",
      "PV_Gen_kWh_Annual               6158.238\n",
      "PV_Gen_kWh_Lifetime           144349.108\n",
      "E_POA_kWm2_Annual               1255.490\n",
      "Panel_POA_kWm2_Annual           1238.281\n",
      "IAM_Loss_kWh_Annual               85.127\n",
      "PV_Thermal_Loss_kWh_Annual       183.548\n",
      "Low_Light_Loss_kWh_Annual        212.035\n",
      "Total_PV_Losses_kWh_Annual       480.711\n",
      "E_Beam_kWm2_Annual               683.420\n",
      "E_Diffuse_kWm2_Annual            549.760\n",
      "E_Ground_kWm2_Annual              22.310\n",
      "ET_HRad_kWm2_Annual             2510.847\n",
      "Array_Temp_C_Avg                  14.766\n",
      "Ambient_Temperature_C_Avg         11.308\n",
      "dtype: float64\n",
      "\n",
      "Paris_2 Results:\n",
      "***\n",
      "PV_Gen_kWh_Annual              3575.321\n",
      "PV_Gen_kWh_Lifetime           83805.517\n",
      "E_POA_kWm2_Annual              1217.115\n",
      "Panel_POA_kWm2_Annual          1199.248\n",
      "IAM_Loss_kWh_Annual              52.879\n",
      "PV_Thermal_Loss_kWh_Annual      103.125\n",
      "Low_Light_Loss_kWh_Annual       129.915\n",
      "Total_PV_Losses_kWh_Annual      285.918\n",
      "E_Beam_kWm2_Annual              645.044\n",
      "E_Diffuse_kWm2_Annual           549.760\n",
      "E_Ground_kWm2_Annual             22.310\n",
      "ET_HRad_kWm2_Annual            2510.847\n",
      "Array_Temp_C_Avg                 14.656\n",
      "Ambient_Temperature_C_Avg        11.308\n",
      "dtype: float64\n",
      "\n",
      "Madrid_1 Results:\n",
      "***\n",
      "PV_Gen_kWh_Annual               8960.507\n",
      "PV_Gen_kWh_Lifetime           210034.290\n",
      "E_POA_kWm2_Annual               1854.029\n",
      "Panel_POA_kWm2_Annual           1823.550\n",
      "IAM_Loss_kWh_Annual              147.579\n",
      "PV_Thermal_Loss_kWh_Annual       525.660\n",
      "Low_Light_Loss_kWh_Annual        165.313\n",
      "Total_PV_Losses_kWh_Annual       838.552\n",
      "E_Beam_kWm2_Annual              1310.534\n",
      "E_Diffuse_kWm2_Annual            510.459\n",
      "E_Ground_kWm2_Annual              33.036\n",
      "ET_HRad_kWm2_Annual             2839.888\n",
      "Array_Temp_C_Avg                  19.493\n",
      "Ambient_Temperature_C_Avg         14.118\n",
      "dtype: float64\n",
      "\n",
      "Madrid_2 Results:\n",
      "***\n",
      "PV_Gen_kWh_Annual               5184.009\n",
      "PV_Gen_kWh_Lifetime           121513.168\n",
      "E_POA_kWm2_Annual               1790.647\n",
      "Panel_POA_kWm2_Annual           1759.234\n",
      "IAM_Loss_kWh_Annual               91.191\n",
      "PV_Thermal_Loss_kWh_Annual       299.715\n",
      "Low_Light_Loss_kWh_Annual        102.922\n",
      "Total_PV_Losses_kWh_Annual       493.829\n",
      "E_Beam_kWm2_Annual              1247.152\n",
      "E_Diffuse_kWm2_Annual            510.459\n",
      "E_Ground_kWm2_Annual              33.036\n",
      "ET_HRad_kWm2_Annual             2839.888\n",
      "Array_Temp_C_Avg                  19.300\n",
      "Ambient_Temperature_C_Avg         14.118\n",
      "dtype: float64\n",
      "\n",
      "Cairo_1 Results:\n",
      "***\n",
      "PV_Gen_kWh_Annual              10541.141\n",
      "PV_Gen_kWh_Lifetime           247084.335\n",
      "E_POA_kWm2_Annual               2230.326\n",
      "Panel_POA_kWm2_Annual           2196.046\n",
      "IAM_Loss_kWh_Annual              162.933\n",
      "PV_Thermal_Loss_kWh_Annual       946.797\n",
      "Low_Light_Loss_kWh_Annual        134.878\n",
      "Total_PV_Losses_kWh_Annual      1244.608\n",
      "E_Beam_kWm2_Annual              1610.079\n",
      "E_Diffuse_kWm2_Annual            579.174\n",
      "E_Ground_kWm2_Annual              41.074\n",
      "ET_HRad_kWm2_Annual             3180.136\n",
      "Array_Temp_C_Avg                  29.130\n",
      "Ambient_Temperature_C_Avg         23.242\n",
      "dtype: float64\n",
      "\n",
      "Cairo_2 Results:\n",
      "***\n",
      "PV_Gen_kWh_Annual               6137.330\n",
      "PV_Gen_kWh_Lifetime           143859.016\n",
      "E_POA_kWm2_Annual               2166.973\n",
      "Panel_POA_kWm2_Annual           2131.293\n",
      "IAM_Loss_kWh_Annual              101.653\n",
      "PV_Thermal_Loss_kWh_Annual       546.570\n",
      "Low_Light_Loss_kWh_Annual         84.194\n",
      "Total_PV_Losses_kWh_Annual       732.417\n",
      "E_Beam_kWm2_Annual              1546.725\n",
      "E_Diffuse_kWm2_Annual            579.174\n",
      "E_Ground_kWm2_Annual              41.074\n",
      "ET_HRad_kWm2_Annual             3180.136\n",
      "Array_Temp_C_Avg                  28.954\n",
      "Ambient_Temperature_C_Avg         23.242\n",
      "dtype: float64\n",
      "\n",
      "Abuja_1 Results:\n",
      "***\n",
      "PV_Gen_kWh_Annual               8977.115\n",
      "PV_Gen_kWh_Lifetime           210423.578\n",
      "E_POA_kWm2_Annual               1946.384\n",
      "Panel_POA_kWm2_Annual           1922.336\n",
      "IAM_Loss_kWh_Annual              111.837\n",
      "PV_Thermal_Loss_kWh_Annual      1047.480\n",
      "Low_Light_Loss_kWh_Annual        149.516\n",
      "Total_PV_Losses_kWh_Annual      1308.832\n",
      "E_Beam_kWm2_Annual              1203.728\n",
      "E_Diffuse_kWm2_Annual            704.508\n",
      "E_Ground_kWm2_Annual              38.149\n",
      "ET_HRad_kWm2_Annual             3593.141\n",
      "Array_Temp_C_Avg                  34.627\n",
      "Ambient_Temperature_C_Avg         28.828\n",
      "dtype: float64\n",
      "\n",
      "Abuja_2 Results:\n",
      "***\n",
      "PV_Gen_kWh_Annual               5320.615\n",
      "PV_Gen_kWh_Lifetime           124715.214\n",
      "E_POA_kWm2_Annual               1921.852\n",
      "Panel_POA_kWm2_Annual           1897.718\n",
      "IAM_Loss_kWh_Annual               67.268\n",
      "PV_Thermal_Loss_kWh_Annual       614.786\n",
      "Low_Light_Loss_kWh_Annual         90.918\n",
      "Total_PV_Losses_kWh_Annual       772.973\n",
      "E_Beam_kWm2_Annual              1179.196\n",
      "E_Diffuse_kWm2_Annual            704.508\n",
      "E_Ground_kWm2_Annual              38.149\n",
      "ET_HRad_kWm2_Annual             3593.141\n",
      "Array_Temp_C_Avg                  34.554\n",
      "Ambient_Temperature_C_Avg         28.828\n",
      "dtype: float64\n",
      "\n"
     ]
    }
   ],
   "source": [
    "for site in project.pv_models:\n",
    "    for model in project.pv_models[f\"{site}\"]:\n",
    "        print(f\"{model} Results:\")\n",
    "        print(\"***\")\n",
    "        print(project.pv_models[f\"{site}\"][f\"{model}\"].summary)\n",
    "        print(\"\")"
   ]
  },
  {
   "cell_type": "code",
   "execution_count": 24,
   "metadata": {},
   "outputs": [
    {
     "name": "stdout",
     "output_type": "stream",
     "text": [
      "Site Name: Belfast\n",
      "Site Models: ['Belfast_1', 'Belfast_2']\n",
      "Site Name: Paris\n",
      "Site Models: ['Paris_1', 'Paris_2']\n",
      "Site Name: Madrid\n",
      "Site Models: ['Madrid_1', 'Madrid_2']\n",
      "Site Name: Cairo\n",
      "Site Models: ['Cairo_1', 'Cairo_2']\n",
      "Site Name: Abuja\n",
      "Site Models: ['Abuja_1', 'Abuja_2']\n"
     ]
    }
   ],
   "source": [
    "for site in project.pv_models.keys():\n",
    "    print(f\"Site Name: {site}\")\n",
    "    model_indices = project.pv_models[site].keys()\n",
    "    print(f\"Site Models: {list(model_indices)}\")"
   ]
  },
  {
   "cell_type": "code",
   "execution_count": null,
   "metadata": {},
   "outputs": [],
   "source": [
    "project.pv_models.Belfast_1.summary_grouped.daily"
   ]
  },
  {
   "cell_type": "code",
   "execution_count": null,
   "metadata": {},
   "outputs": [],
   "source": [
    "project.pv_models.Belfast_1.summary"
   ]
  },
  {
   "cell_type": "code",
   "execution_count": null,
   "metadata": {},
   "outputs": [],
   "source": [
    "project.pv_models.Abuja_1.summary"
   ]
  },
  {
   "cell_type": "code",
   "execution_count": null,
   "metadata": {},
   "outputs": [],
   "source": []
  },
  {
   "cell_type": "markdown",
   "metadata": {},
   "source": [
    "# ***Example Running SolarPVModel with variable inputs***"
   ]
  },
  {
   "cell_type": "code",
   "execution_count": null,
   "metadata": {},
   "outputs": [],
   "source": [
    "# Most direct implementation using mainly default values, setting coordinates, and allocating 3 panels @ 35 degrees pitch\n",
    "from solar.SolarPVModel import Site, SolarPVPanel, SolarPVArray, SolarPVModel\n",
    "from misc.log_config import configure_logging\n",
    "\n",
    "configure_logging()\n",
    "site = Site(latitude=54.60452, longitude=-5.92860, size=100)\n",
    "pv_panel = SolarPVPanel()\n",
    "pv_array = SolarPVArray(pv_panel, 3, 35, 83)\n",
    "pv_model = SolarPVModel(site, pv_array)\n",
    "pv_model.summary"
   ]
  },
  {
   "cell_type": "code",
   "execution_count": null,
   "metadata": {},
   "outputs": [],
   "source": [
    "import plotly.express as px\n",
    "\n",
    "px.bar(pv_model.summary_grouped.monthly[[\"E_Beam_kWm2_Avg\", \"E_Diffuse_kWm2_Avg\", \"E_Ground_kWm2_Avg\"]])"
   ]
  },
  {
   "cell_type": "code",
   "execution_count": null,
   "metadata": {},
   "outputs": [],
   "source": [
    "px.bar(pv_model.summary_grouped.weekly[[\"PV_Gen_kWh_Total\", \"IAM_Loss_kWh_Total\", \"PV_Thermal_Loss_kWh_Total\", \"Low_Light_Loss_kWh_Total\"]])"
   ]
  },
  {
   "cell_type": "code",
   "execution_count": null,
   "metadata": {},
   "outputs": [],
   "source": []
  },
  {
   "cell_type": "code",
   "execution_count": null,
   "metadata": {},
   "outputs": [],
   "source": [
    "# More directed implementation\n",
    "# %%timeit\n",
    "\n",
    "import pandas as pd\n",
    "import plotly.express as px\n",
    "import seaborn as sns\n",
    "\n",
    "from meteo.Site import Site\n",
    "from solar.SolarPVPanel import SolarPVPanel\n",
    "from solar.SolarPVArray import SolarPVArray\n",
    "from solar.SolarPVModel import SolarPVModel\n",
    "\n",
    "from misc.log_config import configure_logging\n",
    "\n",
    "configure_logging()\n",
    "pd.options.display.float_format = '{:.3f}'.format\n",
    "\n",
    "# Set up site location and get TMY data\n",
    "name = \"\"\n",
    "address = \"York St, Belfast, BT15 1ED\"\n",
    "client = \"Ulster University\"\n",
    "\n",
    "site = Site(name=name, \n",
    "            address=address, \n",
    "            client=client, \n",
    "            latitude=54.60452, \n",
    "            longitude=-5.92860, \n",
    "            size=100)"
   ]
  },
  {
   "cell_type": "code",
   "execution_count": null,
   "metadata": {},
   "outputs": [],
   "source": [
    "# %%timeit\n",
    "import time\n",
    "import logging\n",
    "start_time = time.time()\n",
    "\n",
    "# Set up PV panel being used\n",
    "pv_panel = SolarPVPanel()\n",
    "\n",
    "# Set up PV arrays\n",
    "num_pv_panels = 4\n",
    "surface_pitch = 35\n",
    "surface_azimuth = -90\n",
    "albedo = 0.2\n",
    "cost_per_kWp = 1250\n",
    "\n",
    "pv_array_1 = SolarPVArray(pv_panel, num_pv_panels, surface_pitch, surface_azimuth, albedo, cost_per_kWp)\n",
    "pv_array_2 = SolarPVArray(pv_panel, num_pv_panels, surface_pitch, -45)\n",
    "pv_array_3 = SolarPVArray(pv_panel, num_pv_panels, surface_pitch, 0)\n",
    "pv_array_4 = SolarPVArray(pv_panel, num_pv_panels, surface_pitch, 45)\n",
    "pv_array_5 = SolarPVArray(pv_panel, num_pv_panels, surface_pitch, 90)\n",
    "\n",
    "pv_arrays = [pv_array_1, pv_array_2, pv_array_3, pv_array_4, pv_array_5]\n",
    "\n",
    "# Run the model\n",
    "pv_model = SolarPVModel(site, pv_arrays)\n",
    "\n",
    "print(\"\")\n",
    "print(f\"{sum(array.pv_kwp for array in pv_model.arrays)}kWp Solar PV modelled\")\n",
    "\n",
    "elapsed_time = time.time() - start_time\n",
    "logging.info(f\"Solar PV model simulations completed in {elapsed_time:.4f} seconds.\")\n"
   ]
  },
  {
   "cell_type": "code",
   "execution_count": null,
   "metadata": {},
   "outputs": [],
   "source": [
    "import plotly.express as px\n",
    "\n",
    "px.bar(pv_model.summary_grouped.hourly[[\"PV_Gen_kWh_Total\", \"IAM_Loss_kWh_Total\", \"PV_Thermal_Loss_kWh_Total\"]])"
   ]
  },
  {
   "cell_type": "code",
   "execution_count": null,
   "metadata": {},
   "outputs": [],
   "source": [
    "px.bar(pv_model.summary_grouped.monthly[[\"E_Beam_kWm2_Avg\", \"E_Diffuse_kWm2_Avg\", \"E_Ground_kWm2_Avg\"]])"
   ]
  },
  {
   "cell_type": "code",
   "execution_count": null,
   "metadata": {},
   "outputs": [],
   "source": [
    "px.line(pv_model.models[0][\"model_result\"][[\"Array_Temp_C\", \"Ambient_Temperature_C\"]])"
   ]
  },
  {
   "cell_type": "code",
   "execution_count": null,
   "metadata": {},
   "outputs": [],
   "source": [
    "px.line(pv_model.summary_grouped.monthly[[\"ET_HRad_kWm2_Avg\", \"E_POA_kWm2_Avg\", \"Panel_POA_kWm2_Avg\"]])"
   ]
  },
  {
   "cell_type": "code",
   "execution_count": null,
   "metadata": {},
   "outputs": [],
   "source": [
    "pv_model.summary"
   ]
  },
  {
   "cell_type": "code",
   "execution_count": null,
   "metadata": {},
   "outputs": [],
   "source": [
    "pv_model.combined_model"
   ]
  },
  {
   "cell_type": "markdown",
   "metadata": {},
   "source": [
    "# ***Visualisation***"
   ]
  },
  {
   "cell_type": "code",
   "execution_count": null,
   "metadata": {},
   "outputs": [],
   "source": [
    "import plotly.express as px\n",
    "import seaborn as sns"
   ]
  },
  {
   "cell_type": "code",
   "execution_count": null,
   "metadata": {},
   "outputs": [],
   "source": [
    "print(f\"PV Gen: {round(pv_model.all_models.PV_Gen_kWh_Array_1.sum(), 3)}kWh\")\n",
    "print(f\"E POA: {round(pv_model.all_models.E_POA_kWm2_Array_1.sum(), 3)}Whm2\")"
   ]
  },
  {
   "cell_type": "code",
   "execution_count": null,
   "metadata": {},
   "outputs": [],
   "source": [
    "px.bar(pv_model.summary_grouped.hourly[[\"PV_Gen_kWh_Total\", \"IAM_Loss_kWh_Total\", \"PV_Thermal_Loss_kWh_Total\", \"Low_Light_Loss_kWh_Total\"]])"
   ]
  },
  {
   "cell_type": "code",
   "execution_count": null,
   "metadata": {},
   "outputs": [],
   "source": [
    "px.bar(pv_model.summary_grouped.monthly[[\"PV_Gen_kWh_Total\", \"IAM_Loss_kWh_Total\", \"PV_Thermal_Loss_kWh_Total\", \"Low_Light_Loss_kWh_Total\"]])"
   ]
  },
  {
   "cell_type": "code",
   "execution_count": null,
   "metadata": {},
   "outputs": [],
   "source": [
    "px.bar(pv_model.summary_grouped.weekly[[\"PV_Gen_kWh_Total\", \"IAM_Loss_kWh_Total\", \"PV_Thermal_Loss_kWh_Total\", \"Low_Light_Loss_kWh_Total\"]])"
   ]
  },
  {
   "cell_type": "code",
   "execution_count": null,
   "metadata": {},
   "outputs": [],
   "source": [
    "px.bar(pv_model.summary_grouped.daily[[\"PV_Gen_kWh_Total\", \"IAM_Loss_kWh_Total\", \"PV_Thermal_Loss_kWh_Total\", \"Low_Light_Loss_kWh_Total\"]])"
   ]
  },
  {
   "cell_type": "code",
   "execution_count": null,
   "metadata": {},
   "outputs": [],
   "source": [
    "px.line(pv_model.models[0][\"model_result\"][[\"Array_Temp_C\", \"Ambient_Temperature_C\"]])\n"
   ]
  },
  {
   "cell_type": "code",
   "execution_count": null,
   "metadata": {},
   "outputs": [],
   "source": [
    "sns.lineplot(pv_model.models[0][\"model_result\"][[\"Array_Temp_C\", \"Ambient_Temperature_C\"]])"
   ]
  },
  {
   "cell_type": "code",
   "execution_count": null,
   "metadata": {},
   "outputs": [],
   "source": [
    "px.line(pv_model.models[0][\"model_result\"][[\"ET_HRad_kWm2\", \"E_POA_kWm2\"]])"
   ]
  },
  {
   "cell_type": "code",
   "execution_count": null,
   "metadata": {},
   "outputs": [],
   "source": [
    "sns.lineplot(pv_model.models[0][\"model_result\"][[\"ET_HRad_kWm2\", \"E_POA_kWm2\"]])"
   ]
  },
  {
   "cell_type": "code",
   "execution_count": null,
   "metadata": {},
   "outputs": [],
   "source": []
  },
  {
   "cell_type": "markdown",
   "metadata": {},
   "source": [
    "# ***VISUAL TESTING***"
   ]
  },
  {
   "cell_type": "code",
   "execution_count": null,
   "metadata": {},
   "outputs": [],
   "source": [
    "variables = ['E_Beam_kWm2', 'E_Diffuse_kWm2', 'E_Ground_kWm2', 'E_POA_kWm2', 'ET_HRad_kWm2', \n",
    "            'Array_Temp_C', 'PV_Gen_kWh', 'AOI', 'Zenith_Angle']\n",
    "\n",
    "testy = pv_model.all_models\n",
    "\n",
    "variable = \"PV_Gen_kWh\"\n",
    "\n",
    "variable_1 = f\"{variable}_Array_1\"\n",
    "variable_2 = f\"{variable}_Array_2\"\n",
    "variable_3 = f\"{variable}_Array_3\"\n",
    "variable_4 = f\"{variable}_Array_4\"\n",
    "variable_7 = f\"{variable}_Total\"\n",
    "variable_8 = f\"{variable}_Avg\"\n",
    "\n",
    "if variable_1 in testy:\n",
    "    sns.lineplot(testy.groupby(\"Hour_of_Day\")[variable_1].mean())\n",
    "if variable_2 in testy:\n",
    "    sns.lineplot(testy.groupby(\"Hour_of_Day\")[variable_2].mean())\n",
    "if variable_3 in testy:\n",
    "    sns.lineplot(testy.groupby(\"Hour_of_Day\")[variable_3].mean())\n",
    "if variable_4 in testy:\n",
    "    sns.lineplot(testy.groupby(\"Hour_of_Day\")[variable_4].mean())\n",
    "if variable_7 in testy:\n",
    "    sns.lineplot(testy.groupby(\"Hour_of_Day\")[variable_7].mean(), alpha=0.4, ls=\"--\")\n",
    "if variable_8 in testy:\n",
    "    sns.lineplot(testy.groupby(\"Hour_of_Day\")[variable_8].mean(), alpha=0.4, ls=\"--\")"
   ]
  },
  {
   "cell_type": "code",
   "execution_count": null,
   "metadata": {},
   "outputs": [],
   "source": [
    "sns.lineplot(pv_model.combined_model[\"Array_Temp_C_Avg\"], alpha = 0.2, ls = \"--\", color = \"orange\")\n",
    "sns.lineplot(pv_model.combined_model[\"Ambient_Temperature_C\"])"
   ]
  },
  {
   "cell_type": "code",
   "execution_count": null,
   "metadata": {},
   "outputs": [],
   "source": [
    "sns.barplot(pv_model.summary_grouped.hourly.Array_Temp_C_Avg)"
   ]
  },
  {
   "cell_type": "code",
   "execution_count": null,
   "metadata": {},
   "outputs": [],
   "source": [
    "sns.lineplot(pv_model.combined_model.groupby(\"Hour_of_Day\")[\"PV_Gen_kWh_Total\"].mean())"
   ]
  },
  {
   "cell_type": "code",
   "execution_count": null,
   "metadata": {},
   "outputs": [],
   "source": [
    "pv_model.all_models[\"PV_Gen_kWh_Total\"].sum()"
   ]
  },
  {
   "cell_type": "code",
   "execution_count": null,
   "metadata": {},
   "outputs": [],
   "source": [
    "pv_model.all_models.columns"
   ]
  },
  {
   "cell_type": "code",
   "execution_count": null,
   "metadata": {},
   "outputs": [],
   "source": [
    "sns.lineplot(pv_model.all_models[\"PV_Thermal_Loss_kWh_Total\"])"
   ]
  },
  {
   "cell_type": "code",
   "execution_count": null,
   "metadata": {},
   "outputs": [],
   "source": [
    "temp_losses = (pv_model.all_models[\"PV_Thermal_Loss_kWh_Total\"].sum() / pv_model.all_models[\"PV_Gen_kWh_Total\"].sum() * 100)\n",
    "\n",
    "print(f\"{round(temp_losses, 3)}% change to power due to temperature losses\")"
   ]
  },
  {
   "cell_type": "code",
   "execution_count": null,
   "metadata": {},
   "outputs": [],
   "source": [
    "pv_model.models[0][\"model_result\"]"
   ]
  },
  {
   "cell_type": "code",
   "execution_count": null,
   "metadata": {},
   "outputs": [],
   "source": [
    "pv_model.all_models"
   ]
  },
  {
   "cell_type": "code",
   "execution_count": null,
   "metadata": {},
   "outputs": [],
   "source": [
    "pv_model.summary"
   ]
  },
  {
   "cell_type": "code",
   "execution_count": null,
   "metadata": {},
   "outputs": [],
   "source": [
    "pv_model.summary_grouped.daily"
   ]
  },
  {
   "cell_type": "code",
   "execution_count": null,
   "metadata": {},
   "outputs": [],
   "source": [
    "pv_model.summary"
   ]
  },
  {
   "cell_type": "code",
   "execution_count": null,
   "metadata": {},
   "outputs": [],
   "source": [
    "pv_model.summary_grouped.monthly"
   ]
  },
  {
   "cell_type": "code",
   "execution_count": null,
   "metadata": {},
   "outputs": [],
   "source": []
  },
  {
   "cell_type": "code",
   "execution_count": null,
   "metadata": {},
   "outputs": [],
   "source": []
  },
  {
   "cell_type": "code",
   "execution_count": null,
   "metadata": {},
   "outputs": [],
   "source": []
  },
  {
   "cell_type": "markdown",
   "metadata": {},
   "source": [
    "# ***EXPERIMENTAL***"
   ]
  },
  {
   "cell_type": "markdown",
   "metadata": {},
   "source": [
    "# Low Light Losses Visualisation Test"
   ]
  },
  {
   "cell_type": "code",
   "execution_count": null,
   "metadata": {},
   "outputs": [],
   "source": [
    "import numpy as np\n",
    "import plotly.express as px\n",
    "\n",
    "# Define the modified logistic function\n",
    "def calc_low_light_losses(pv_kwp, e_poa, k=0.0075, midpoint=25):\n",
    "    \"\"\"\n",
    "    Modified logistic function to calculate efficiency based on irradiance,\n",
    "    with a minimum efficiency level.\n",
    "\n",
    "    Parameters:\n",
    "    pv_kwp (float): The rated solar PV size (kWp).\n",
    "    e_poa (float): The irradiance incident on array (W/m2).\n",
    "    k (float): The steepness of the curve.\n",
    "    midpoint (float): The irradiance at which the efficiency is at its midpoint.\n",
    "\n",
    "    Returns:\n",
    "    float: The calculated efficiency at the given irradiance.\n",
    "    \"\"\"\n",
    "    pv_kwp_min = pv_kwp * 0.6\n",
    "    eff = pv_kwp_min + (pv_kwp - pv_kwp_min) / (1 + np.exp(-k * (e_poa - midpoint)))\n",
    "    return eff\n",
    "\n",
    "\n",
    "# Generate a range of irradiance values from 0 to 1000 W/m2 and set L to 1 kWp\n",
    "L = 1\n",
    "irradiance_range = np.linspace(0, 1000, 1001)\n",
    "efficiencies = calc_low_light_losses(L, irradiance_range)\n",
    "\n",
    "# Plot Graph of results\n",
    "fig = px.line(efficiencies[:], y=efficiencies[:], x = irradiance_range[:])\n",
    "\n",
    "fig.update_layout(xaxis_title=\"Irradiation (W/m2)\", yaxis_title=\"kWp Output\",\n",
    "                  title = \"Line graph showing PV kWp output due to low irradiance losses\")"
   ]
  },
  {
   "cell_type": "code",
   "execution_count": null,
   "metadata": {},
   "outputs": [],
   "source": [
    "calc_low_light_losses(1, 200)"
   ]
  },
  {
   "cell_type": "code",
   "execution_count": null,
   "metadata": {},
   "outputs": [],
   "source": [
    "px.bar(pv_model.summary_grouped.monthly[[\"PV_Gen_kWh_Total\", \"IAM_Loss_kWh_Total\", \n",
    "                                         \"PV_Thermal_Loss_kWh_Total\", \"Low_Light_Loss_kWh_Total\"]])"
   ]
  },
  {
   "cell_type": "code",
   "execution_count": null,
   "metadata": {},
   "outputs": [],
   "source": [
    "pv_model.summary_grouped.hourly.columns"
   ]
  },
  {
   "cell_type": "code",
   "execution_count": null,
   "metadata": {},
   "outputs": [],
   "source": []
  },
  {
   "cell_type": "code",
   "execution_count": null,
   "metadata": {},
   "outputs": [],
   "source": []
  },
  {
   "cell_type": "markdown",
   "metadata": {},
   "source": [
    "# Temperature Tests"
   ]
  },
  {
   "cell_type": "code",
   "execution_count": null,
   "metadata": {},
   "outputs": [],
   "source": [
    "import math\n",
    "\n",
    "def calc_array_temp_homer(\n",
    "    e_poa,\n",
    "    ambient_temp,\n",
    "    cell_temp_coeff=-0.0035,\n",
    "    electrical_eff=0.21,\n",
    "    cell_NOCT=42,\n",
    "    ambient_NOCT=20,\n",
    "    e_poa_NOCT=800,\n",
    "    cell_temp_STC=25,\n",
    "    transmittance_absorptance=0.9,\n",
    "):\n",
    "    \"\"\"Calculates the cell temperature of a PV panel.\n",
    "\n",
    "    Parameters:\n",
    "    - e_poa: Plane of array irradiance in kW/m^2.\n",
    "    - ambient_temp: Ambient temperature in degrees Celsius.\n",
    "    - cell_temp_coeff: Temperature coefficient of the PV cell.\n",
    "    - electrical_eff: Electrical efficiency of the PV panel.\n",
    "    - cell_NOCT, ambient_NOCT: Nominal operating cell temperature and the corresponding ambient temperature.\n",
    "    - e_poa_NOCT: Irradiance at NOCT conditions in W/m^2.\n",
    "    - cell_temp_STC: Cell temperature at standard test conditions in degrees Celsius.\n",
    "    - transmittance_absorptance: Transmittance and absorptance product of the PV panel.\n",
    "\n",
    "    Returns:\n",
    "    - Cell temperature of the PV panel.\n",
    "    \"\"\"\n",
    "    temp_factor = (cell_NOCT - ambient_NOCT) * ((e_poa * 1000) / e_poa_NOCT)\n",
    "    numerator = ambient_temp + temp_factor * (\n",
    "        1\n",
    "        - (electrical_eff * (1 - cell_temp_coeff * cell_temp_STC))\n",
    "        / transmittance_absorptance\n",
    "    )\n",
    "    denominator = 1 + temp_factor * (\n",
    "        cell_temp_coeff * electrical_eff / transmittance_absorptance\n",
    "    )\n",
    "\n",
    "    return numerator / denominator\n",
    "\n",
    "\n",
    "def calc_array_temp_pvsyst(e_poa, ambient_temp, windspeed, uc=29, uv=1.2):\n",
    "    u = uc + (uv * windspeed)\n",
    "    tcell = ambient_temp + (1/u) * (0.9 * e_poa * 1000 * (1-0.21))\n",
    "    return tcell\n",
    "\n",
    "def calc_array_temp_sandia(e_poa: float, ambient_temp: float, wind_speed: float, \n",
    "                           a: float = -3.47, b: float = -0.0594) -> float:\n",
    "    \"\"\"\n",
    "    Calculate the temperature of a photovoltaic (PV) array based on the Sandia method.\n",
    "    \n",
    "    Parameters:\n",
    "    - e_poa (float): Plane of array irradiance in kW/m^2. Represents the solar irradiance incident on the PV array.\n",
    "    - ambient_temp (float): Ambient temperature in degrees Celsius.\n",
    "    - wind_speed (float): Wind speed in m/s at the site of the PV array.\n",
    "    - a (float): Coefficient a in the exponential model, defaulting to -3.47.\n",
    "    - b (float): Coefficient b in the exponential model, defaulting to -0.0594.\n",
    "    \n",
    "    Returns:\n",
    "    - float: Estimated temperature of the PV array in degrees Celsius.\n",
    "    \"\"\"\n",
    "    array_temp = e_poa * 1000 * math.exp(a + b * wind_speed) + ambient_temp\n",
    "    return array_temp\n",
    "\n",
    "def calc_array_temp_faiman(e_poa, ambient_temp, wind_speed, U_0=25, U_1=6.84):\n",
    "    array_temp = ambient_temp + (e_poa * 1000 / (U_0 + U_1 * wind_speed))\n",
    "    return array_temp\n",
    "\n",
    "\n",
    "# Example usage:\n",
    "e_poa=0.5\n",
    "ambient_temp=25\n",
    "wind_speed=1\n",
    "\n",
    "list_1 = []\n",
    "list_2 = []\n",
    "list_3 = []\n",
    "list_4 = []\n",
    "list_5 = []\n",
    "\n",
    "\n",
    "print(\"\")\n",
    "wind_speed=10\n",
    "for i in range(1):\n",
    "    cell_temperature = calc_array_temp_homer(e_poa, ambient_temp)\n",
    "    print(f\"The cell temperature is {cell_temperature:.2f}°C from the Homer model with {wind_speed}m/s windspeed\")\n",
    "    list_2.append(cell_temperature)\n",
    "    wind_speed += 1\n",
    "\n",
    "print(\"\")\n",
    "wind_speed=0\n",
    "for i in range(26):\n",
    "    cell_temperature = calc_array_temp_pvsyst(e_poa, ambient_temp, wind_speed)\n",
    "    print(f\"The cell temperature is {cell_temperature:.2f}°C from the PVSyst model with {wind_speed}m/s windspeed\")\n",
    "    list_3.append(cell_temperature)\n",
    "    wind_speed += 1\n",
    "\n",
    "print(\"\")\n",
    "wind_speed=0\n",
    "for i in range(26):\n",
    "    cell_temperature = calc_array_temp_sandia(e_poa, ambient_temp, wind_speed)\n",
    "    print(f\"The cell temperature is {cell_temperature:.2f}°C from the Sandia model with {wind_speed}m/s windspeed\")\n",
    "    list_4.append(cell_temperature)\n",
    "    wind_speed += 1\n",
    "\n",
    "print(\"\")\n",
    "wind_speed=0\n",
    "for i in range(26):\n",
    "    cell_temperature = calc_array_temp_faiman(e_poa, ambient_temp, wind_speed)\n",
    "    print(f\"The cell temperature is {cell_temperature:.2f}°C from the Faiman model with {wind_speed}m/s windspeed\")\n",
    "    list_5.append(cell_temperature)\n",
    "    wind_speed += 1"
   ]
  },
  {
   "cell_type": "code",
   "execution_count": null,
   "metadata": {},
   "outputs": [],
   "source": [
    "%%timeit\n",
    "cell_temperature = calc_array_temp_homer(e_poa, ambient_temp)"
   ]
  },
  {
   "cell_type": "code",
   "execution_count": null,
   "metadata": {},
   "outputs": [],
   "source": [
    "%%timeit\n",
    "cell_temperature = calc_array_temp_faiman(e_poa, ambient_temp, wind_speed)"
   ]
  },
  {
   "cell_type": "code",
   "execution_count": null,
   "metadata": {},
   "outputs": [],
   "source": [
    "%%timeit\n",
    "cell_temperature = calc_array_temp_sandia(e_poa, ambient_temp, wind_speed)"
   ]
  },
  {
   "cell_type": "code",
   "execution_count": null,
   "metadata": {},
   "outputs": [],
   "source": [
    "%%timeit\n",
    "cell_temperature = calc_array_temp_pvsyst(e_poa, ambient_temp, wind_speed)"
   ]
  },
  {
   "cell_type": "code",
   "execution_count": null,
   "metadata": {},
   "outputs": [],
   "source": []
  }
 ],
 "metadata": {
  "kernelspec": {
   "display_name": "Python 3",
   "language": "python",
   "name": "python3"
  },
  "language_info": {
   "codemirror_mode": {
    "name": "ipython",
    "version": 3
   },
   "file_extension": ".py",
   "mimetype": "text/x-python",
   "name": "python",
   "nbconvert_exporter": "python",
   "pygments_lexer": "ipython3",
   "version": "3.11.8"
  }
 },
 "nbformat": 4,
 "nbformat_minor": 2
}
