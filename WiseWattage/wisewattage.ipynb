{
 "cells": [
  {
   "cell_type": "markdown",
   "metadata": {},
   "source": [
    "# ***MAIN FUNCTIONALITY***"
   ]
  },
  {
   "cell_type": "code",
   "execution_count": 1,
   "metadata": {},
   "outputs": [
    {
     "name": "stderr",
     "output_type": "stream",
     "text": [
      "2024-02-22 01:06:18,736 - INFO - Fetching TMY data for latitude: 24.60452, longitude: -5.9286\n",
      "2024-02-22 01:06:19,650 - INFO - HTTP Request: GET https://re.jrc.ec.europa.eu/api/tmy?lat=24.60452&lon=-5.9286&startyear=2005&endyear=2015&outputformat=json \"HTTP/1.1 200 OK\"\n",
      "2024-02-22 01:06:19,998 - INFO - TMY data obtained for: 24.60452, longitude: -5.9286\n",
      "2024-02-22 01:06:19,999 - INFO - *******************\n",
      "2024-02-22 01:06:19,999 - INFO - Solar PV array created: Size: 1kW, Pitch: 35deg, Azimuth: -90deg, Lifespan: 25yrs\n",
      "2024-02-22 01:06:20,000 - INFO - Solar PV array created: Size: 1kW, Pitch: 35deg, Azimuth: -45deg, Lifespan: 25yrs\n",
      "2024-02-22 01:06:20,000 - INFO - Solar PV array created: Size: 1kW, Pitch: 35deg, Azimuth: 0deg, Lifespan: 25yrs\n",
      "2024-02-22 01:06:20,001 - INFO - Solar PV array created: Size: 1kW, Pitch: 35deg, Azimuth: 45deg, Lifespan: 25yrs\n",
      "2024-02-22 01:06:20,001 - INFO - Solar PV array created: Size: 1kW, Pitch: 35deg, Azimuth: 90deg, Lifespan: 25yrs\n",
      "2024-02-22 01:06:20,002 - INFO - *******************\n",
      "2024-02-22 01:06:20,002 - INFO - Starting Solar PV model simulations.\n",
      "2024-02-22 01:06:20,003 - INFO - *******************\n",
      "2024-02-22 01:06:20,003 - INFO - Simulating model - PV Size: 1kWp, Pitch: 35 degrees, Azimuth -90 degrees WoS\n",
      "2024-02-22 01:06:20,013 - INFO - Simulating model - PV Size: 1kWp, Pitch: 35 degrees, Azimuth -45 degrees WoS\n",
      "2024-02-22 01:06:20,021 - INFO - Simulating model - PV Size: 1kWp, Pitch: 35 degrees, Azimuth 0 degrees WoS\n",
      "2024-02-22 01:06:20,029 - INFO - Simulating model - PV Size: 1kWp, Pitch: 35 degrees, Azimuth 45 degrees WoS\n",
      "2024-02-22 01:06:20,037 - INFO - Simulating model - PV Size: 1kWp, Pitch: 35 degrees, Azimuth 90 degrees WoS\n",
      "2024-02-22 01:06:20,045 - INFO - *******************\n",
      "2024-02-22 01:06:20,046 - INFO - Solar PV model simulations completed.\n",
      "2024-02-22 01:06:20,072 - INFO - Solar PV model data aggregated.\n",
      "2024-02-22 01:06:20,079 - INFO - Solar PV model data summary complete.\n",
      "2024-02-22 01:06:20,081 - INFO - Solar PV model statistical analysis completed.\n",
      "2024-02-22 01:06:20,095 - INFO - Solar PV model statistical grouping completed.\n",
      "2024-02-22 01:06:20,096 - INFO - *******************\n",
      "2024-02-22 01:06:20,096 - INFO - Solar PV simulation and modelling completed.\n",
      "2024-02-22 01:06:20,096 - INFO - *******************\n",
      "2024-02-22 01:06:20,111 - INFO - Model for  saved successfully to 'c:\\Users\\djp12\\Documents\\Coding\\Github_Repos\\WiseWattage\\WiseWattage\\saved_models\\Solar_Model_Results.wwm'\n",
      "2024-02-22 01:06:20,111 - INFO - *******************\n",
      "2024-02-22 01:06:20,117 - INFO - Model successfully loaded: saved_models/Solar_Model_Results.wwm\n",
      "2024-02-22 01:06:20,117 - INFO - *******************\n"
     ]
    },
    {
     "name": "stdout",
     "output_type": "stream",
     "text": [
      "0       1.0\n",
      "1       1.0\n",
      "2       1.0\n",
      "3       1.0\n",
      "4       1.0\n",
      "       ... \n",
      "8755    1.0\n",
      "8756    1.0\n",
      "8757    1.0\n",
      "8758    1.0\n",
      "8759    1.0\n",
      "Name: WS10m, Length: 8760, dtype: float64\n",
      "0       1.0\n",
      "1       1.0\n",
      "2       1.0\n",
      "3       1.0\n",
      "4       1.0\n",
      "       ... \n",
      "8755    1.0\n",
      "8756    1.0\n",
      "8757    1.0\n",
      "8758    1.0\n",
      "8759    1.0\n",
      "Name: WS10m, Length: 8760, dtype: float64\n",
      "0       1.0\n",
      "1       1.0\n",
      "2       1.0\n",
      "3       1.0\n",
      "4       1.0\n",
      "       ... \n",
      "8755    1.0\n",
      "8756    1.0\n",
      "8757    1.0\n",
      "8758    1.0\n",
      "8759    1.0\n",
      "Name: WS10m, Length: 8760, dtype: float64\n",
      "0       1.0\n",
      "1       1.0\n",
      "2       1.0\n",
      "3       1.0\n",
      "4       1.0\n",
      "       ... \n",
      "8755    1.0\n",
      "8756    1.0\n",
      "8757    1.0\n",
      "8758    1.0\n",
      "8759    1.0\n",
      "Name: WS10m, Length: 8760, dtype: float64\n",
      "0       1.0\n",
      "1       1.0\n",
      "2       1.0\n",
      "3       1.0\n",
      "4       1.0\n",
      "       ... \n",
      "8755    1.0\n",
      "8756    1.0\n",
      "8757    1.0\n",
      "8758    1.0\n",
      "8759    1.0\n",
      "Name: WS10m, Length: 8760, dtype: float64\n"
     ]
    }
   ],
   "source": [
    "from meteo.Site import Site\n",
    "from solar.SolarPVArray import SolarPVArray\n",
    "from solar.SolarPVModel import SolarPVModel\n",
    "\n",
    "from misc.log_config import configure_logging\n",
    "from misc.util import load_pv_model\n",
    "\n",
    "configure_logging()\n",
    "\n",
    "# Set up site location and get TMY data\n",
    "name = \"\"\n",
    "address = \"York St, Belfast, BT15 1ED\"\n",
    "client = \"Ulster University\"\n",
    "\n",
    "site = Site(name=name, \n",
    "            address=address, \n",
    "            client=client, \n",
    "            latitude=24.60452, \n",
    "            longitude=-5.92860, \n",
    "            size=100)\n",
    "\n",
    "# Set up PV arrays\n",
    "pv_kwp = 1\n",
    "surface_pitch = 35\n",
    "surface_azimuth = -90\n",
    "lifespan = 25\n",
    "pv_eol_derating = 0.88\n",
    "pv_cost = 1250\n",
    "efficiency = 0.21\n",
    "temp_coeff = -0.0035\n",
    "transmission_absorption = 0.9\n",
    "refraction_index = 0.1\n",
    "\n",
    "array_1 = SolarPVArray(pv_kwp, surface_pitch, surface_azimuth, lifespan, pv_eol_derating,\n",
    "                       pv_cost, efficiency, temp_coeff, transmission_absorption, refraction_index)\n",
    "\n",
    "array_2 = SolarPVArray(1, 35, -45, cost_per_kWp=pv_cost)\n",
    "array_3 = SolarPVArray(1, 35, 0, 25, 0.88)\n",
    "array_4 = SolarPVArray(1, 35, 45)\n",
    "array_5 = SolarPVArray(1, 35, 90)\n",
    "\n",
    "# Arrange all arrays into list for modelling\n",
    "arrays = [array_1, array_2, array_3, array_4, array_5]\n",
    "\n",
    "# Run SolarPV model\n",
    "pv_model = SolarPVModel(site, arrays)\n",
    "\n",
    "# Save model as .wmm file\n",
    "pv_model.save_model()\n",
    "\n",
    "# Load .wwm model from file\n",
    "pv_model = load_pv_model()\n"
   ]
  },
  {
   "cell_type": "code",
   "execution_count": 2,
   "metadata": {},
   "outputs": [
    {
     "data": {
      "text/html": [
       "<div>\n",
       "<style scoped>\n",
       "    .dataframe tbody tr th:only-of-type {\n",
       "        vertical-align: middle;\n",
       "    }\n",
       "\n",
       "    .dataframe tbody tr th {\n",
       "        vertical-align: top;\n",
       "    }\n",
       "\n",
       "    .dataframe thead th {\n",
       "        text-align: right;\n",
       "    }\n",
       "</style>\n",
       "<table border=\"1\" class=\"dataframe\">\n",
       "  <thead>\n",
       "    <tr style=\"text-align: right;\">\n",
       "      <th></th>\n",
       "      <th>PV_Gen_kWh_Total</th>\n",
       "      <th>E_POA_kWm2_Total</th>\n",
       "      <th>Panel_POA_kWm2_Total</th>\n",
       "      <th>IAM_Loss_kWm2_Total</th>\n",
       "      <th>PV_Thermal_Loss_kWh_Total</th>\n",
       "      <th>E_Beam_kWm2_Total</th>\n",
       "      <th>E_Diffuse_kWm2_Total</th>\n",
       "      <th>E_Ground_kWm2_Total</th>\n",
       "      <th>ET_HRad_kWm2_Total</th>\n",
       "      <th>Cell_Temp_C_Avg</th>\n",
       "      <th>T2m</th>\n",
       "    </tr>\n",
       "    <tr>\n",
       "      <th>Month_of_Year</th>\n",
       "      <th></th>\n",
       "      <th></th>\n",
       "      <th></th>\n",
       "      <th></th>\n",
       "      <th></th>\n",
       "      <th></th>\n",
       "      <th></th>\n",
       "      <th></th>\n",
       "      <th></th>\n",
       "      <th></th>\n",
       "      <th></th>\n",
       "    </tr>\n",
       "  </thead>\n",
       "  <tbody>\n",
       "    <tr>\n",
       "      <th>1</th>\n",
       "      <td>2508.825</td>\n",
       "      <td>2747.962</td>\n",
       "      <td>2659.240</td>\n",
       "      <td>88.722</td>\n",
       "      <td>148.768</td>\n",
       "      <td>2096.842</td>\n",
       "      <td>603.623</td>\n",
       "      <td>47.497</td>\n",
       "      <td>3580.473</td>\n",
       "      <td>24.989</td>\n",
       "      <td>19.434</td>\n",
       "    </tr>\n",
       "    <tr>\n",
       "      <th>2</th>\n",
       "      <td>2737.907</td>\n",
       "      <td>3110.756</td>\n",
       "      <td>3021.246</td>\n",
       "      <td>89.510</td>\n",
       "      <td>278.004</td>\n",
       "      <td>2141.813</td>\n",
       "      <td>905.353</td>\n",
       "      <td>63.590</td>\n",
       "      <td>4943.103</td>\n",
       "      <td>36.926</td>\n",
       "      <td>30.581</td>\n",
       "    </tr>\n",
       "    <tr>\n",
       "      <th>3</th>\n",
       "      <td>2532.630</td>\n",
       "      <td>2945.692</td>\n",
       "      <td>2872.911</td>\n",
       "      <td>72.781</td>\n",
       "      <td>331.730</td>\n",
       "      <td>1849.913</td>\n",
       "      <td>1037.009</td>\n",
       "      <td>58.770</td>\n",
       "      <td>4791.754</td>\n",
       "      <td>43.324</td>\n",
       "      <td>37.187</td>\n",
       "    </tr>\n",
       "    <tr>\n",
       "      <th>4</th>\n",
       "      <td>2268.333</td>\n",
       "      <td>2520.284</td>\n",
       "      <td>2437.219</td>\n",
       "      <td>83.065</td>\n",
       "      <td>158.724</td>\n",
       "      <td>1865.775</td>\n",
       "      <td>612.282</td>\n",
       "      <td>42.227</td>\n",
       "      <td>3319.790</td>\n",
       "      <td>28.225</td>\n",
       "      <td>22.941</td>\n",
       "    </tr>\n",
       "  </tbody>\n",
       "</table>\n",
       "</div>"
      ],
      "text/plain": [
       "               PV_Gen_kWh_Total  E_POA_kWm2_Total  Panel_POA_kWm2_Total  \\\n",
       "Month_of_Year                                                             \n",
       "1                      2508.825          2747.962              2659.240   \n",
       "2                      2737.907          3110.756              3021.246   \n",
       "3                      2532.630          2945.692              2872.911   \n",
       "4                      2268.333          2520.284              2437.219   \n",
       "\n",
       "               IAM_Loss_kWm2_Total  PV_Thermal_Loss_kWh_Total  \\\n",
       "Month_of_Year                                                   \n",
       "1                           88.722                    148.768   \n",
       "2                           89.510                    278.004   \n",
       "3                           72.781                    331.730   \n",
       "4                           83.065                    158.724   \n",
       "\n",
       "               E_Beam_kWm2_Total  E_Diffuse_kWm2_Total  E_Ground_kWm2_Total  \\\n",
       "Month_of_Year                                                                 \n",
       "1                       2096.842               603.623               47.497   \n",
       "2                       2141.813               905.353               63.590   \n",
       "3                       1849.913              1037.009               58.770   \n",
       "4                       1865.775               612.282               42.227   \n",
       "\n",
       "               ET_HRad_kWm2_Total  Cell_Temp_C_Avg     T2m  \n",
       "Month_of_Year                                               \n",
       "1                        3580.473           24.989  19.434  \n",
       "2                        4943.103           36.926  30.581  \n",
       "3                        4791.754           43.324  37.187  \n",
       "4                        3319.790           28.225  22.941  "
      ]
     },
     "execution_count": 2,
     "metadata": {},
     "output_type": "execute_result"
    }
   ],
   "source": [
    "pv_model.summary_grouped.quarterly"
   ]
  },
  {
   "cell_type": "code",
   "execution_count": 3,
   "metadata": {},
   "outputs": [
    {
     "data": {
      "text/html": [
       "<div>\n",
       "<style scoped>\n",
       "    .dataframe tbody tr th:only-of-type {\n",
       "        vertical-align: middle;\n",
       "    }\n",
       "\n",
       "    .dataframe tbody tr th {\n",
       "        vertical-align: top;\n",
       "    }\n",
       "\n",
       "    .dataframe thead th {\n",
       "        text-align: right;\n",
       "    }\n",
       "</style>\n",
       "<table border=\"1\" class=\"dataframe\">\n",
       "  <thead>\n",
       "    <tr style=\"text-align: right;\">\n",
       "      <th></th>\n",
       "      <th>PV_Gen_kWh_Total</th>\n",
       "      <th>E_POA_kWm2_Total</th>\n",
       "      <th>Panel_POA_kWm2_Total</th>\n",
       "      <th>IAM_Loss_kWm2_Total</th>\n",
       "      <th>PV_Thermal_Loss_kWh_Total</th>\n",
       "      <th>E_Beam_kWm2_Total</th>\n",
       "      <th>E_Diffuse_kWm2_Total</th>\n",
       "      <th>E_Ground_kWm2_Total</th>\n",
       "      <th>ET_HRad_kWm2_Total</th>\n",
       "      <th>Cell_Temp_C_Avg</th>\n",
       "      <th>T2m</th>\n",
       "    </tr>\n",
       "    <tr>\n",
       "      <th>Month_of_Year</th>\n",
       "      <th></th>\n",
       "      <th></th>\n",
       "      <th></th>\n",
       "      <th></th>\n",
       "      <th></th>\n",
       "      <th></th>\n",
       "      <th></th>\n",
       "      <th></th>\n",
       "      <th></th>\n",
       "      <th></th>\n",
       "      <th></th>\n",
       "    </tr>\n",
       "  </thead>\n",
       "  <tbody>\n",
       "    <tr>\n",
       "      <th>1</th>\n",
       "      <td>2515.938</td>\n",
       "      <td>2747.962</td>\n",
       "      <td>2659.240</td>\n",
       "      <td>88.722</td>\n",
       "      <td>141.655</td>\n",
       "      <td>2096.842</td>\n",
       "      <td>603.623</td>\n",
       "      <td>47.497</td>\n",
       "      <td>3580.473</td>\n",
       "      <td>24.708</td>\n",
       "      <td>19.434</td>\n",
       "    </tr>\n",
       "    <tr>\n",
       "      <th>2</th>\n",
       "      <td>2746.983</td>\n",
       "      <td>3110.756</td>\n",
       "      <td>3021.246</td>\n",
       "      <td>89.510</td>\n",
       "      <td>268.928</td>\n",
       "      <td>2141.813</td>\n",
       "      <td>905.353</td>\n",
       "      <td>63.590</td>\n",
       "      <td>4943.103</td>\n",
       "      <td>36.573</td>\n",
       "      <td>30.581</td>\n",
       "    </tr>\n",
       "    <tr>\n",
       "      <th>3</th>\n",
       "      <td>2544.647</td>\n",
       "      <td>2945.692</td>\n",
       "      <td>2872.911</td>\n",
       "      <td>72.781</td>\n",
       "      <td>319.714</td>\n",
       "      <td>1849.913</td>\n",
       "      <td>1037.009</td>\n",
       "      <td>58.770</td>\n",
       "      <td>4791.754</td>\n",
       "      <td>42.860</td>\n",
       "      <td>37.187</td>\n",
       "    </tr>\n",
       "    <tr>\n",
       "      <th>4</th>\n",
       "      <td>2281.845</td>\n",
       "      <td>2520.284</td>\n",
       "      <td>2437.219</td>\n",
       "      <td>83.065</td>\n",
       "      <td>145.211</td>\n",
       "      <td>1865.775</td>\n",
       "      <td>612.282</td>\n",
       "      <td>42.227</td>\n",
       "      <td>3319.790</td>\n",
       "      <td>27.680</td>\n",
       "      <td>22.941</td>\n",
       "    </tr>\n",
       "  </tbody>\n",
       "</table>\n",
       "</div>"
      ],
      "text/plain": [
       "               PV_Gen_kWh_Total  E_POA_kWm2_Total  Panel_POA_kWm2_Total  \\\n",
       "Month_of_Year                                                             \n",
       "1                      2515.938          2747.962              2659.240   \n",
       "2                      2746.983          3110.756              3021.246   \n",
       "3                      2544.647          2945.692              2872.911   \n",
       "4                      2281.845          2520.284              2437.219   \n",
       "\n",
       "               IAM_Loss_kWm2_Total  PV_Thermal_Loss_kWh_Total  \\\n",
       "Month_of_Year                                                   \n",
       "1                           88.722                    141.655   \n",
       "2                           89.510                    268.928   \n",
       "3                           72.781                    319.714   \n",
       "4                           83.065                    145.211   \n",
       "\n",
       "               E_Beam_kWm2_Total  E_Diffuse_kWm2_Total  E_Ground_kWm2_Total  \\\n",
       "Month_of_Year                                                                 \n",
       "1                       2096.842               603.623               47.497   \n",
       "2                       2141.813               905.353               63.590   \n",
       "3                       1849.913              1037.009               58.770   \n",
       "4                       1865.775               612.282               42.227   \n",
       "\n",
       "               ET_HRad_kWm2_Total  Cell_Temp_C_Avg     T2m  \n",
       "Month_of_Year                                               \n",
       "1                        3580.473           24.708  19.434  \n",
       "2                        4943.103           36.573  30.581  \n",
       "3                        4791.754           42.860  37.187  \n",
       "4                        3319.790           27.680  22.941  "
      ]
     },
     "execution_count": 3,
     "metadata": {},
     "output_type": "execute_result"
    }
   ],
   "source": [
    "pv_model.summary_grouped.quarterly"
   ]
  },
  {
   "cell_type": "code",
   "execution_count": 3,
   "metadata": {},
   "outputs": [
    {
     "data": {
      "application/vnd.plotly.v1+json": {
       "config": {
        "plotlyServerURL": "https://plot.ly"
       },
       "data": [
        {
         "alignmentgroup": "True",
         "hovertemplate": "variable=PV_Gen_kWh_Total<br>Day_of_Year=%{x}<br>value=%{y}<extra></extra>",
         "legendgroup": "PV_Gen_kWh_Total",
         "marker": {
          "color": "#636efa",
          "pattern": {
           "shape": ""
          }
         },
         "name": "PV_Gen_kWh_Total",
         "offsetgroup": "PV_Gen_kWh_Total",
         "orientation": "v",
         "showlegend": true,
         "textposition": "auto",
         "type": "bar",
         "x": [
          1,
          2,
          3,
          4,
          5,
          6,
          7,
          8,
          9,
          10,
          11,
          12,
          13,
          14,
          15,
          16,
          17,
          18,
          19,
          20,
          21,
          22,
          23,
          24,
          25,
          26,
          27,
          28,
          29,
          30,
          31,
          32,
          33,
          34,
          35,
          36,
          37,
          38,
          39,
          40,
          41,
          42,
          43,
          44,
          45,
          46,
          47,
          48,
          49,
          50,
          51,
          52,
          53,
          54,
          55,
          56,
          57,
          58,
          59,
          60,
          61,
          62,
          63,
          64,
          65,
          66,
          67,
          68,
          69,
          70,
          71,
          72,
          73,
          74,
          75,
          76,
          77,
          78,
          79,
          80,
          81,
          82,
          83,
          84,
          85,
          86,
          87,
          88,
          89,
          90,
          91,
          92,
          93,
          94,
          95,
          96,
          97,
          98,
          99,
          100,
          101,
          102,
          103,
          104,
          105,
          106,
          107,
          108,
          109,
          110,
          111,
          112,
          113,
          114,
          115,
          116,
          117,
          118,
          119,
          120,
          121,
          122,
          123,
          124,
          125,
          126,
          127,
          128,
          129,
          130,
          131,
          132,
          133,
          134,
          135,
          136,
          137,
          138,
          139,
          140,
          141,
          142,
          143,
          144,
          145,
          146,
          147,
          148,
          149,
          150,
          151,
          152,
          153,
          154,
          155,
          156,
          157,
          158,
          159,
          160,
          161,
          162,
          163,
          164,
          165,
          166,
          167,
          168,
          169,
          170,
          171,
          172,
          173,
          174,
          175,
          176,
          177,
          178,
          179,
          180,
          181,
          182,
          183,
          184,
          185,
          186,
          187,
          188,
          189,
          190,
          191,
          192,
          193,
          194,
          195,
          196,
          197,
          198,
          199,
          200,
          201,
          202,
          203,
          204,
          205,
          206,
          207,
          208,
          209,
          210,
          211,
          212,
          213,
          214,
          215,
          216,
          217,
          218,
          219,
          220,
          221,
          222,
          223,
          224,
          225,
          226,
          227,
          228,
          229,
          230,
          231,
          232,
          233,
          234,
          235,
          236,
          237,
          238,
          239,
          240,
          241,
          242,
          243,
          244,
          245,
          246,
          247,
          248,
          249,
          250,
          251,
          252,
          253,
          254,
          255,
          256,
          257,
          258,
          259,
          260,
          261,
          262,
          263,
          264,
          265,
          266,
          267,
          268,
          269,
          270,
          271,
          272,
          273,
          274,
          275,
          276,
          277,
          278,
          279,
          280,
          281,
          282,
          283,
          284,
          285,
          286,
          287,
          288,
          289,
          290,
          291,
          292,
          293,
          294,
          295,
          296,
          297,
          298,
          299,
          300,
          301,
          302,
          303,
          304,
          305,
          306,
          307,
          308,
          309,
          310,
          311,
          312,
          313,
          314,
          315,
          316,
          317,
          318,
          319,
          320,
          321,
          322,
          323,
          324,
          325,
          326,
          327,
          328,
          329,
          330,
          331,
          332,
          333,
          334,
          335,
          336,
          337,
          338,
          339,
          340,
          341,
          342,
          343,
          344,
          345,
          346,
          347,
          348,
          349,
          350,
          351,
          352,
          353,
          354,
          355,
          356,
          357,
          358,
          359,
          360,
          361,
          362,
          363,
          364,
          365
         ],
         "xaxis": "x",
         "y": [
          0.541,
          1.828,
          1.743,
          2.951,
          3.524,
          4.007,
          2.318,
          4.011,
          2.757,
          2.245,
          1.728,
          5.931,
          4.066,
          1.223,
          1.857,
          0.951,
          1.788,
          4.635,
          4.545,
          2.48,
          3.393,
          7.691,
          4.687,
          9.248,
          7.14,
          7.303,
          3.212,
          5.544,
          0.854,
          0.854,
          1.598,
          7.508,
          3.971,
          4.304,
          2.44,
          1.601,
          3.071,
          6.509,
          6.209,
          1.997,
          11.818,
          2.044,
          12.33,
          11.408,
          6.109,
          1.819,
          10.507,
          4.096,
          2.524,
          7.553,
          2.712,
          3.853,
          6.667,
          4.94,
          10.004,
          9.197,
          14.957,
          12.077,
          14.977,
          5.284,
          3.018,
          4.32,
          15.408,
          4.805,
          2.776,
          2.383,
          2.598,
          12.339,
          12.19,
          7.454,
          13.957,
          10.197,
          16.83,
          7.505,
          8.715,
          3.742,
          3.603,
          3.408,
          8.244,
          2.118,
          2.423,
          4.096,
          3.247,
          7.96,
          10.938,
          5.405,
          9.199,
          7.95,
          12.851,
          6.37,
          11.953,
          24.444,
          17.655,
          25.546,
          25.432,
          16.173,
          24.089,
          22.507,
          18.674,
          3.698,
          5.739,
          11.318,
          18.823,
          19.374,
          23.921,
          8.41,
          18.517,
          22.041,
          19.308,
          23.403,
          18.164,
          11.952,
          12.619,
          24.49,
          18.031,
          24.173,
          22.49,
          18.531,
          23.391,
          22.989,
          33.235,
          33.904,
          33.902,
          27.218,
          25,
          15.447,
          27.531,
          19.249,
          19.692,
          19.807,
          13.525,
          14.717,
          25.329,
          25.16,
          17.152,
          8.773,
          22.414,
          21.971,
          27.94,
          28.156,
          34.246,
          30.141,
          14.722,
          12.236,
          29.408,
          22.341,
          20.751,
          36.876,
          25.801,
          29.027,
          23.707,
          36.165,
          27.281,
          30.924,
          28.547,
          21.048,
          18.855,
          22.48,
          33.644,
          18.845,
          30.025,
          25.393,
          11.267,
          22.3,
          22.035,
          23.953,
          17.802,
          19.644,
          14.179,
          17.27,
          24.787,
          27.953,
          11.853,
          17.322,
          22.324,
          11.837,
          21.87,
          22.695,
          10.815,
          19.235,
          24.505,
          14.074,
          17.734,
          15.187,
          20.179,
          12.789,
          23.893,
          28.761,
          22.036,
          14.389,
          12.561,
          21.391,
          13.911,
          7.152,
          22.993,
          27.532,
          20.08,
          26.168,
          24.228,
          26.528,
          11.413,
          16.627,
          26.846,
          32.044,
          20.91,
          25.87,
          15.782,
          23.444,
          22.711,
          25.659,
          22.13,
          27.731,
          14.255,
          18.195,
          13.057,
          21.839,
          18.744,
          14.314,
          20.204,
          24.582,
          23.607,
          17.77,
          14.368,
          12.869,
          29.609,
          29.491,
          28.404,
          10.062,
          17.052,
          13.169,
          18.923,
          25.397,
          21.494,
          18.16,
          14.115,
          18.305,
          24.546,
          28.439,
          16.652,
          17.765,
          27.433,
          26.632,
          26.827,
          13.129,
          18.93,
          20.664,
          17.215,
          6.742,
          13.421,
          4.813,
          21.624,
          19.766,
          23.022,
          25.525,
          26.265,
          9.061,
          16.84,
          17.049,
          18.87,
          5.647,
          10.312,
          15.182,
          4.001,
          10.645,
          14.202,
          10.54,
          13.686,
          11.015,
          12.695,
          4.571,
          4.017,
          8.593,
          13.516,
          12.173,
          9.962,
          8.495,
          14.161,
          13.684,
          12.783,
          16.119,
          14.871,
          15.661,
          9.732,
          5.641,
          1.89,
          17.036,
          17.493,
          3.883,
          14.264,
          12.381,
          6.869,
          5.223,
          4.348,
          11.282,
          7.909,
          1.781,
          4.427,
          2.709,
          6.691,
          2.999,
          11.283,
          2.877,
          5.445,
          2.207,
          11.123,
          5.488,
          7.94,
          6.401,
          2.613,
          0.86,
          2.797,
          2.686,
          3.061,
          7.066,
          8.245,
          4.856,
          5.939,
          0.856,
          2.396,
          4.934,
          4.637,
          1.011,
          3.2,
          1.709,
          2.073,
          2.625,
          3.927,
          1.605,
          3.947,
          2.906,
          1.479,
          3.863,
          2.022,
          1.726,
          1.164,
          1.672,
          6.367,
          4.895,
          1.704,
          0.74,
          0.945,
          4.692,
          3.687,
          3.091,
          1.652,
          2.831,
          0.618,
          3.264,
          5.322,
          5.234,
          1.9,
          4.668,
          1.326,
          1.216,
          3.356,
          1.037,
          2.754,
          5.663,
          4.411,
          1.279,
          4.143,
          3.374,
          1.67,
          4.934,
          0.547
         ],
         "yaxis": "y"
        }
       ],
       "layout": {
        "barmode": "relative",
        "legend": {
         "title": {
          "text": "variable"
         },
         "tracegroupgap": 0
        },
        "margin": {
         "t": 60
        },
        "template": {
         "data": {
          "bar": [
           {
            "error_x": {
             "color": "#2a3f5f"
            },
            "error_y": {
             "color": "#2a3f5f"
            },
            "marker": {
             "line": {
              "color": "#E5ECF6",
              "width": 0.5
             },
             "pattern": {
              "fillmode": "overlay",
              "size": 10,
              "solidity": 0.2
             }
            },
            "type": "bar"
           }
          ],
          "barpolar": [
           {
            "marker": {
             "line": {
              "color": "#E5ECF6",
              "width": 0.5
             },
             "pattern": {
              "fillmode": "overlay",
              "size": 10,
              "solidity": 0.2
             }
            },
            "type": "barpolar"
           }
          ],
          "carpet": [
           {
            "aaxis": {
             "endlinecolor": "#2a3f5f",
             "gridcolor": "white",
             "linecolor": "white",
             "minorgridcolor": "white",
             "startlinecolor": "#2a3f5f"
            },
            "baxis": {
             "endlinecolor": "#2a3f5f",
             "gridcolor": "white",
             "linecolor": "white",
             "minorgridcolor": "white",
             "startlinecolor": "#2a3f5f"
            },
            "type": "carpet"
           }
          ],
          "choropleth": [
           {
            "colorbar": {
             "outlinewidth": 0,
             "ticks": ""
            },
            "type": "choropleth"
           }
          ],
          "contour": [
           {
            "colorbar": {
             "outlinewidth": 0,
             "ticks": ""
            },
            "colorscale": [
             [
              0,
              "#0d0887"
             ],
             [
              0.1111111111111111,
              "#46039f"
             ],
             [
              0.2222222222222222,
              "#7201a8"
             ],
             [
              0.3333333333333333,
              "#9c179e"
             ],
             [
              0.4444444444444444,
              "#bd3786"
             ],
             [
              0.5555555555555556,
              "#d8576b"
             ],
             [
              0.6666666666666666,
              "#ed7953"
             ],
             [
              0.7777777777777778,
              "#fb9f3a"
             ],
             [
              0.8888888888888888,
              "#fdca26"
             ],
             [
              1,
              "#f0f921"
             ]
            ],
            "type": "contour"
           }
          ],
          "contourcarpet": [
           {
            "colorbar": {
             "outlinewidth": 0,
             "ticks": ""
            },
            "type": "contourcarpet"
           }
          ],
          "heatmap": [
           {
            "colorbar": {
             "outlinewidth": 0,
             "ticks": ""
            },
            "colorscale": [
             [
              0,
              "#0d0887"
             ],
             [
              0.1111111111111111,
              "#46039f"
             ],
             [
              0.2222222222222222,
              "#7201a8"
             ],
             [
              0.3333333333333333,
              "#9c179e"
             ],
             [
              0.4444444444444444,
              "#bd3786"
             ],
             [
              0.5555555555555556,
              "#d8576b"
             ],
             [
              0.6666666666666666,
              "#ed7953"
             ],
             [
              0.7777777777777778,
              "#fb9f3a"
             ],
             [
              0.8888888888888888,
              "#fdca26"
             ],
             [
              1,
              "#f0f921"
             ]
            ],
            "type": "heatmap"
           }
          ],
          "heatmapgl": [
           {
            "colorbar": {
             "outlinewidth": 0,
             "ticks": ""
            },
            "colorscale": [
             [
              0,
              "#0d0887"
             ],
             [
              0.1111111111111111,
              "#46039f"
             ],
             [
              0.2222222222222222,
              "#7201a8"
             ],
             [
              0.3333333333333333,
              "#9c179e"
             ],
             [
              0.4444444444444444,
              "#bd3786"
             ],
             [
              0.5555555555555556,
              "#d8576b"
             ],
             [
              0.6666666666666666,
              "#ed7953"
             ],
             [
              0.7777777777777778,
              "#fb9f3a"
             ],
             [
              0.8888888888888888,
              "#fdca26"
             ],
             [
              1,
              "#f0f921"
             ]
            ],
            "type": "heatmapgl"
           }
          ],
          "histogram": [
           {
            "marker": {
             "pattern": {
              "fillmode": "overlay",
              "size": 10,
              "solidity": 0.2
             }
            },
            "type": "histogram"
           }
          ],
          "histogram2d": [
           {
            "colorbar": {
             "outlinewidth": 0,
             "ticks": ""
            },
            "colorscale": [
             [
              0,
              "#0d0887"
             ],
             [
              0.1111111111111111,
              "#46039f"
             ],
             [
              0.2222222222222222,
              "#7201a8"
             ],
             [
              0.3333333333333333,
              "#9c179e"
             ],
             [
              0.4444444444444444,
              "#bd3786"
             ],
             [
              0.5555555555555556,
              "#d8576b"
             ],
             [
              0.6666666666666666,
              "#ed7953"
             ],
             [
              0.7777777777777778,
              "#fb9f3a"
             ],
             [
              0.8888888888888888,
              "#fdca26"
             ],
             [
              1,
              "#f0f921"
             ]
            ],
            "type": "histogram2d"
           }
          ],
          "histogram2dcontour": [
           {
            "colorbar": {
             "outlinewidth": 0,
             "ticks": ""
            },
            "colorscale": [
             [
              0,
              "#0d0887"
             ],
             [
              0.1111111111111111,
              "#46039f"
             ],
             [
              0.2222222222222222,
              "#7201a8"
             ],
             [
              0.3333333333333333,
              "#9c179e"
             ],
             [
              0.4444444444444444,
              "#bd3786"
             ],
             [
              0.5555555555555556,
              "#d8576b"
             ],
             [
              0.6666666666666666,
              "#ed7953"
             ],
             [
              0.7777777777777778,
              "#fb9f3a"
             ],
             [
              0.8888888888888888,
              "#fdca26"
             ],
             [
              1,
              "#f0f921"
             ]
            ],
            "type": "histogram2dcontour"
           }
          ],
          "mesh3d": [
           {
            "colorbar": {
             "outlinewidth": 0,
             "ticks": ""
            },
            "type": "mesh3d"
           }
          ],
          "parcoords": [
           {
            "line": {
             "colorbar": {
              "outlinewidth": 0,
              "ticks": ""
             }
            },
            "type": "parcoords"
           }
          ],
          "pie": [
           {
            "automargin": true,
            "type": "pie"
           }
          ],
          "scatter": [
           {
            "fillpattern": {
             "fillmode": "overlay",
             "size": 10,
             "solidity": 0.2
            },
            "type": "scatter"
           }
          ],
          "scatter3d": [
           {
            "line": {
             "colorbar": {
              "outlinewidth": 0,
              "ticks": ""
             }
            },
            "marker": {
             "colorbar": {
              "outlinewidth": 0,
              "ticks": ""
             }
            },
            "type": "scatter3d"
           }
          ],
          "scattercarpet": [
           {
            "marker": {
             "colorbar": {
              "outlinewidth": 0,
              "ticks": ""
             }
            },
            "type": "scattercarpet"
           }
          ],
          "scattergeo": [
           {
            "marker": {
             "colorbar": {
              "outlinewidth": 0,
              "ticks": ""
             }
            },
            "type": "scattergeo"
           }
          ],
          "scattergl": [
           {
            "marker": {
             "colorbar": {
              "outlinewidth": 0,
              "ticks": ""
             }
            },
            "type": "scattergl"
           }
          ],
          "scattermapbox": [
           {
            "marker": {
             "colorbar": {
              "outlinewidth": 0,
              "ticks": ""
             }
            },
            "type": "scattermapbox"
           }
          ],
          "scatterpolar": [
           {
            "marker": {
             "colorbar": {
              "outlinewidth": 0,
              "ticks": ""
             }
            },
            "type": "scatterpolar"
           }
          ],
          "scatterpolargl": [
           {
            "marker": {
             "colorbar": {
              "outlinewidth": 0,
              "ticks": ""
             }
            },
            "type": "scatterpolargl"
           }
          ],
          "scatterternary": [
           {
            "marker": {
             "colorbar": {
              "outlinewidth": 0,
              "ticks": ""
             }
            },
            "type": "scatterternary"
           }
          ],
          "surface": [
           {
            "colorbar": {
             "outlinewidth": 0,
             "ticks": ""
            },
            "colorscale": [
             [
              0,
              "#0d0887"
             ],
             [
              0.1111111111111111,
              "#46039f"
             ],
             [
              0.2222222222222222,
              "#7201a8"
             ],
             [
              0.3333333333333333,
              "#9c179e"
             ],
             [
              0.4444444444444444,
              "#bd3786"
             ],
             [
              0.5555555555555556,
              "#d8576b"
             ],
             [
              0.6666666666666666,
              "#ed7953"
             ],
             [
              0.7777777777777778,
              "#fb9f3a"
             ],
             [
              0.8888888888888888,
              "#fdca26"
             ],
             [
              1,
              "#f0f921"
             ]
            ],
            "type": "surface"
           }
          ],
          "table": [
           {
            "cells": {
             "fill": {
              "color": "#EBF0F8"
             },
             "line": {
              "color": "white"
             }
            },
            "header": {
             "fill": {
              "color": "#C8D4E3"
             },
             "line": {
              "color": "white"
             }
            },
            "type": "table"
           }
          ]
         },
         "layout": {
          "annotationdefaults": {
           "arrowcolor": "#2a3f5f",
           "arrowhead": 0,
           "arrowwidth": 1
          },
          "autotypenumbers": "strict",
          "coloraxis": {
           "colorbar": {
            "outlinewidth": 0,
            "ticks": ""
           }
          },
          "colorscale": {
           "diverging": [
            [
             0,
             "#8e0152"
            ],
            [
             0.1,
             "#c51b7d"
            ],
            [
             0.2,
             "#de77ae"
            ],
            [
             0.3,
             "#f1b6da"
            ],
            [
             0.4,
             "#fde0ef"
            ],
            [
             0.5,
             "#f7f7f7"
            ],
            [
             0.6,
             "#e6f5d0"
            ],
            [
             0.7,
             "#b8e186"
            ],
            [
             0.8,
             "#7fbc41"
            ],
            [
             0.9,
             "#4d9221"
            ],
            [
             1,
             "#276419"
            ]
           ],
           "sequential": [
            [
             0,
             "#0d0887"
            ],
            [
             0.1111111111111111,
             "#46039f"
            ],
            [
             0.2222222222222222,
             "#7201a8"
            ],
            [
             0.3333333333333333,
             "#9c179e"
            ],
            [
             0.4444444444444444,
             "#bd3786"
            ],
            [
             0.5555555555555556,
             "#d8576b"
            ],
            [
             0.6666666666666666,
             "#ed7953"
            ],
            [
             0.7777777777777778,
             "#fb9f3a"
            ],
            [
             0.8888888888888888,
             "#fdca26"
            ],
            [
             1,
             "#f0f921"
            ]
           ],
           "sequentialminus": [
            [
             0,
             "#0d0887"
            ],
            [
             0.1111111111111111,
             "#46039f"
            ],
            [
             0.2222222222222222,
             "#7201a8"
            ],
            [
             0.3333333333333333,
             "#9c179e"
            ],
            [
             0.4444444444444444,
             "#bd3786"
            ],
            [
             0.5555555555555556,
             "#d8576b"
            ],
            [
             0.6666666666666666,
             "#ed7953"
            ],
            [
             0.7777777777777778,
             "#fb9f3a"
            ],
            [
             0.8888888888888888,
             "#fdca26"
            ],
            [
             1,
             "#f0f921"
            ]
           ]
          },
          "colorway": [
           "#636efa",
           "#EF553B",
           "#00cc96",
           "#ab63fa",
           "#FFA15A",
           "#19d3f3",
           "#FF6692",
           "#B6E880",
           "#FF97FF",
           "#FECB52"
          ],
          "font": {
           "color": "#2a3f5f"
          },
          "geo": {
           "bgcolor": "white",
           "lakecolor": "white",
           "landcolor": "#E5ECF6",
           "showlakes": true,
           "showland": true,
           "subunitcolor": "white"
          },
          "hoverlabel": {
           "align": "left"
          },
          "hovermode": "closest",
          "mapbox": {
           "style": "light"
          },
          "paper_bgcolor": "white",
          "plot_bgcolor": "#E5ECF6",
          "polar": {
           "angularaxis": {
            "gridcolor": "white",
            "linecolor": "white",
            "ticks": ""
           },
           "bgcolor": "#E5ECF6",
           "radialaxis": {
            "gridcolor": "white",
            "linecolor": "white",
            "ticks": ""
           }
          },
          "scene": {
           "xaxis": {
            "backgroundcolor": "#E5ECF6",
            "gridcolor": "white",
            "gridwidth": 2,
            "linecolor": "white",
            "showbackground": true,
            "ticks": "",
            "zerolinecolor": "white"
           },
           "yaxis": {
            "backgroundcolor": "#E5ECF6",
            "gridcolor": "white",
            "gridwidth": 2,
            "linecolor": "white",
            "showbackground": true,
            "ticks": "",
            "zerolinecolor": "white"
           },
           "zaxis": {
            "backgroundcolor": "#E5ECF6",
            "gridcolor": "white",
            "gridwidth": 2,
            "linecolor": "white",
            "showbackground": true,
            "ticks": "",
            "zerolinecolor": "white"
           }
          },
          "shapedefaults": {
           "line": {
            "color": "#2a3f5f"
           }
          },
          "ternary": {
           "aaxis": {
            "gridcolor": "white",
            "linecolor": "white",
            "ticks": ""
           },
           "baxis": {
            "gridcolor": "white",
            "linecolor": "white",
            "ticks": ""
           },
           "bgcolor": "#E5ECF6",
           "caxis": {
            "gridcolor": "white",
            "linecolor": "white",
            "ticks": ""
           }
          },
          "title": {
           "x": 0.05
          },
          "xaxis": {
           "automargin": true,
           "gridcolor": "white",
           "linecolor": "white",
           "ticks": "",
           "title": {
            "standoff": 15
           },
           "zerolinecolor": "white",
           "zerolinewidth": 2
          },
          "yaxis": {
           "automargin": true,
           "gridcolor": "white",
           "linecolor": "white",
           "ticks": "",
           "title": {
            "standoff": 15
           },
           "zerolinecolor": "white",
           "zerolinewidth": 2
          }
         }
        },
        "xaxis": {
         "anchor": "y",
         "domain": [
          0,
          1
         ],
         "title": {
          "text": "Day_of_Year"
         }
        },
        "yaxis": {
         "anchor": "x",
         "domain": [
          0,
          1
         ],
         "title": {
          "text": "value"
         }
        }
       }
      }
     },
     "metadata": {},
     "output_type": "display_data"
    }
   ],
   "source": [
    "import plotly.express as px\n",
    "import seaborn as sns\n",
    "\n",
    "px.bar(pv_model.summary_grouped.daily.PV_Gen_kWh_Total)"
   ]
  },
  {
   "cell_type": "code",
   "execution_count": null,
   "metadata": {},
   "outputs": [],
   "source": []
  },
  {
   "cell_type": "markdown",
   "metadata": {},
   "source": [
    "# ***Temperature Tests***"
   ]
  },
  {
   "cell_type": "code",
   "execution_count": 3,
   "metadata": {},
   "outputs": [
    {
     "name": "stdout",
     "output_type": "stream",
     "text": [
      "\n",
      "The cell temperature is 35.66°C from the Homer model with 10m/s windspeed\n",
      "\n",
      "The cell temperature is 37.26°C from the PVSyst model with 0m/s windspeed\n",
      "The cell temperature is 36.77°C from the PVSyst model with 1m/s windspeed\n",
      "The cell temperature is 36.32°C from the PVSyst model with 2m/s windspeed\n",
      "The cell temperature is 35.90°C from the PVSyst model with 3m/s windspeed\n",
      "The cell temperature is 35.52°C from the PVSyst model with 4m/s windspeed\n",
      "The cell temperature is 35.16°C from the PVSyst model with 5m/s windspeed\n",
      "The cell temperature is 34.82°C from the PVSyst model with 6m/s windspeed\n",
      "The cell temperature is 34.51°C from the PVSyst model with 7m/s windspeed\n",
      "The cell temperature is 34.21°C from the PVSyst model with 8m/s windspeed\n",
      "The cell temperature is 33.93°C from the PVSyst model with 9m/s windspeed\n",
      "The cell temperature is 33.67°C from the PVSyst model with 10m/s windspeed\n",
      "The cell temperature is 33.42°C from the PVSyst model with 11m/s windspeed\n",
      "The cell temperature is 33.19°C from the PVSyst model with 12m/s windspeed\n",
      "The cell temperature is 32.97°C from the PVSyst model with 13m/s windspeed\n",
      "The cell temperature is 32.76°C from the PVSyst model with 14m/s windspeed\n",
      "The cell temperature is 32.56°C from the PVSyst model with 15m/s windspeed\n",
      "The cell temperature is 32.38°C from the PVSyst model with 16m/s windspeed\n",
      "The cell temperature is 32.20°C from the PVSyst model with 17m/s windspeed\n",
      "The cell temperature is 32.03°C from the PVSyst model with 18m/s windspeed\n",
      "The cell temperature is 31.86°C from the PVSyst model with 19m/s windspeed\n",
      "The cell temperature is 31.71°C from the PVSyst model with 20m/s windspeed\n",
      "\n",
      "The cell temperature is 40.56°C from the Sandia model with 0m/s windspeed\n",
      "The cell temperature is 39.66°C from the Sandia model with 1m/s windspeed\n",
      "The cell temperature is 38.82°C from the Sandia model with 2m/s windspeed\n",
      "The cell temperature is 38.02°C from the Sandia model with 3m/s windspeed\n",
      "The cell temperature is 37.27°C from the Sandia model with 4m/s windspeed\n",
      "The cell temperature is 36.56°C from the Sandia model with 5m/s windspeed\n",
      "The cell temperature is 35.89°C from the Sandia model with 6m/s windspeed\n",
      "The cell temperature is 35.27°C from the Sandia model with 7m/s windspeed\n",
      "The cell temperature is 34.67°C from the Sandia model with 8m/s windspeed\n",
      "The cell temperature is 34.12°C from the Sandia model with 9m/s windspeed\n",
      "The cell temperature is 33.59°C from the Sandia model with 10m/s windspeed\n",
      "The cell temperature is 33.09°C from the Sandia model with 11m/s windspeed\n",
      "The cell temperature is 32.63°C from the Sandia model with 12m/s windspeed\n",
      "The cell temperature is 32.19°C from the Sandia model with 13m/s windspeed\n",
      "The cell temperature is 31.77°C from the Sandia model with 14m/s windspeed\n",
      "The cell temperature is 31.38°C from the Sandia model with 15m/s windspeed\n",
      "The cell temperature is 31.01°C from the Sandia model with 16m/s windspeed\n",
      "The cell temperature is 30.67°C from the Sandia model with 17m/s windspeed\n",
      "The cell temperature is 30.34°C from the Sandia model with 18m/s windspeed\n",
      "The cell temperature is 30.03°C from the Sandia model with 19m/s windspeed\n",
      "The cell temperature is 29.74°C from the Sandia model with 20m/s windspeed\n",
      "\n",
      "The cell temperature is 45.00°C from the Faiman model with 0m/s windspeed\n",
      "The cell temperature is 40.70°C from the Faiman model with 1m/s windspeed\n",
      "The cell temperature is 37.93°C from the Faiman model with 2m/s windspeed\n",
      "The cell temperature is 35.98°C from the Faiman model with 3m/s windspeed\n",
      "The cell temperature is 34.55°C from the Faiman model with 4m/s windspeed\n",
      "The cell temperature is 33.45°C from the Faiman model with 5m/s windspeed\n",
      "The cell temperature is 32.57°C from the Faiman model with 6m/s windspeed\n",
      "The cell temperature is 31.86°C from the Faiman model with 7m/s windspeed\n",
      "The cell temperature is 31.27°C from the Faiman model with 8m/s windspeed\n",
      "The cell temperature is 30.78°C from the Faiman model with 9m/s windspeed\n",
      "The cell temperature is 30.35°C from the Faiman model with 10m/s windspeed\n",
      "The cell temperature is 29.99°C from the Faiman model with 11m/s windspeed\n",
      "The cell temperature is 29.67°C from the Faiman model with 12m/s windspeed\n",
      "The cell temperature is 29.39°C from the Faiman model with 13m/s windspeed\n",
      "The cell temperature is 29.14°C from the Faiman model with 14m/s windspeed\n",
      "The cell temperature is 28.92°C from the Faiman model with 15m/s windspeed\n",
      "The cell temperature is 28.72°C from the Faiman model with 16m/s windspeed\n",
      "The cell temperature is 28.54°C from the Faiman model with 17m/s windspeed\n",
      "The cell temperature is 28.38°C from the Faiman model with 18m/s windspeed\n",
      "The cell temperature is 28.23°C from the Faiman model with 19m/s windspeed\n",
      "The cell temperature is 28.09°C from the Faiman model with 20m/s windspeed\n"
     ]
    }
   ],
   "source": [
    "import math\n",
    "\n",
    "def calc_array_temp_homer(\n",
    "    e_poa,\n",
    "    ambient_temp,\n",
    "    cell_temp_coeff=-0.0035,\n",
    "    electrical_eff=0.21,\n",
    "    cell_NOCT=42,\n",
    "    ambient_NOCT=20,\n",
    "    e_poa_NOCT=800,\n",
    "    cell_temp_STC=25,\n",
    "    transmittance_absorptance=0.9,\n",
    "):\n",
    "    \"\"\"Calculates the cell temperature of a PV panel.\n",
    "\n",
    "    Parameters:\n",
    "    - e_poa: Plane of array irradiance in kW/m^2.\n",
    "    - ambient_temp: Ambient temperature in degrees Celsius.\n",
    "    - cell_temp_coeff: Temperature coefficient of the PV cell.\n",
    "    - electrical_eff: Electrical efficiency of the PV panel.\n",
    "    - cell_NOCT, ambient_NOCT: Nominal operating cell temperature and the corresponding ambient temperature.\n",
    "    - e_poa_NOCT: Irradiance at NOCT conditions in W/m^2.\n",
    "    - cell_temp_STC: Cell temperature at standard test conditions in degrees Celsius.\n",
    "    - transmittance_absorptance: Transmittance and absorptance product of the PV panel.\n",
    "\n",
    "    Returns:\n",
    "    - Cell temperature of the PV panel.\n",
    "    \"\"\"\n",
    "    temp_factor = (cell_NOCT - ambient_NOCT) * ((e_poa * 1000) / e_poa_NOCT)\n",
    "    numerator = ambient_temp + temp_factor * (\n",
    "        1\n",
    "        - (electrical_eff * (1 - cell_temp_coeff * cell_temp_STC))\n",
    "        / transmittance_absorptance\n",
    "    )\n",
    "    denominator = 1 + temp_factor * (\n",
    "        cell_temp_coeff * electrical_eff / transmittance_absorptance\n",
    "    )\n",
    "\n",
    "    return numerator / denominator\n",
    "\n",
    "\n",
    "def calc_array_temp_pvsyst(e_poa, ambient_temp, windspeed, uc=29, uv=1.2):\n",
    "    u = uc + (uv * windspeed)\n",
    "    tcell = ambient_temp + (1/u) * (0.9 * e_poa * 1000 * (1-0.21))\n",
    "    return tcell\n",
    "\n",
    "def calc_array_temp_sandia(e_poa: float, ambient_temp: float, wind_speed: float, \n",
    "                           a: float = -3.47, b: float = -0.0594) -> float:\n",
    "    \"\"\"\n",
    "    Calculate the temperature of a photovoltaic (PV) array based on the Sandia method.\n",
    "    \n",
    "    Parameters:\n",
    "    - e_poa (float): Plane of array irradiance in kW/m^2. Represents the solar irradiance incident on the PV array.\n",
    "    - ambient_temp (float): Ambient temperature in degrees Celsius.\n",
    "    - wind_speed (float): Wind speed in m/s at the site of the PV array.\n",
    "    - a (float): Coefficient a in the exponential model, defaulting to -3.47.\n",
    "    - b (float): Coefficient b in the exponential model, defaulting to -0.0594.\n",
    "    \n",
    "    Returns:\n",
    "    - float: Estimated temperature of the PV array in degrees Celsius.\n",
    "    \"\"\"\n",
    "    array_temp = e_poa * 1000 * math.exp(a + b * wind_speed) + ambient_temp\n",
    "    return array_temp\n",
    "\n",
    "def calc_array_temp_faiman(e_poa, ambient_temp, wind_speed, U_0=25, U_1=6.84):\n",
    "    array_temp = ambient_temp + (e_poa * 1000 / (U_0 + U_1 * wind_speed))\n",
    "    return array_temp\n",
    "\n",
    "\n",
    "# Example usage:\n",
    "e_poa=0.5\n",
    "ambient_temp=25\n",
    "wind_speed=1\n",
    "\n",
    "list_1 = []\n",
    "list_2 = []\n",
    "list_3 = []\n",
    "list_4 = []\n",
    "list_5 = []\n",
    "\n",
    "\n",
    "print(\"\")\n",
    "wind_speed=10\n",
    "for i in range(1):\n",
    "    cell_temperature = calc_array_temp_homer(e_poa, ambient_temp)\n",
    "    print(f\"The cell temperature is {cell_temperature:.2f}°C from the Homer model with {wind_speed}m/s windspeed\")\n",
    "    list_2.append(cell_temperature)\n",
    "    wind_speed += 1\n",
    "\n",
    "print(\"\")\n",
    "wind_speed=0\n",
    "for i in range(21):\n",
    "    cell_temperature = calc_array_temp_pvsyst(e_poa, ambient_temp, wind_speed)\n",
    "    print(f\"The cell temperature is {cell_temperature:.2f}°C from the PVSyst model with {wind_speed}m/s windspeed\")\n",
    "    list_3.append(cell_temperature)\n",
    "    wind_speed += 1\n",
    "\n",
    "print(\"\")\n",
    "wind_speed=0\n",
    "for i in range(21):\n",
    "    cell_temperature = calc_array_temp_sandia(e_poa, ambient_temp, wind_speed)\n",
    "    print(f\"The cell temperature is {cell_temperature:.2f}°C from the Sandia model with {wind_speed}m/s windspeed\")\n",
    "    list_4.append(cell_temperature)\n",
    "    wind_speed += 1\n",
    "\n",
    "print(\"\")\n",
    "wind_speed=0\n",
    "for i in range(21):\n",
    "    cell_temperature = calc_array_temp_faiman(e_poa, ambient_temp, wind_speed)\n",
    "    print(f\"The cell temperature is {cell_temperature:.2f}°C from the Faiman model with {wind_speed}m/s windspeed\")\n",
    "    list_5.append(cell_temperature)\n",
    "    wind_speed += 1\n"
   ]
  },
  {
   "cell_type": "code",
   "execution_count": 4,
   "metadata": {},
   "outputs": [
    {
     "name": "stdout",
     "output_type": "stream",
     "text": [
      "189 ns ± 0.434 ns per loop (mean ± std. dev. of 7 runs, 10,000,000 loops each)\n"
     ]
    }
   ],
   "source": [
    "%%timeit\n",
    "cell_temperature = calc_array_temp_faiman(e_poa, ambient_temp, wind_speed)"
   ]
  },
  {
   "cell_type": "code",
   "execution_count": 5,
   "metadata": {},
   "outputs": [
    {
     "name": "stdout",
     "output_type": "stream",
     "text": [
      "225 ns ± 0.518 ns per loop (mean ± std. dev. of 7 runs, 1,000,000 loops each)\n"
     ]
    }
   ],
   "source": [
    "%%timeit\n",
    "cell_temperature = calc_array_temp_sandia(e_poa, ambient_temp, wind_speed)"
   ]
  },
  {
   "cell_type": "code",
   "execution_count": 6,
   "metadata": {},
   "outputs": [
    {
     "name": "stdout",
     "output_type": "stream",
     "text": [
      "257 ns ± 1.86 ns per loop (mean ± std. dev. of 7 runs, 1,000,000 loops each)\n"
     ]
    }
   ],
   "source": [
    "%%timeit\n",
    "cell_temperature = calc_array_temp_pvsyst(e_poa, ambient_temp, wind_speed)"
   ]
  },
  {
   "cell_type": "code",
   "execution_count": 7,
   "metadata": {},
   "outputs": [
    {
     "name": "stdout",
     "output_type": "stream",
     "text": [
      "429 ns ± 5.61 ns per loop (mean ± std. dev. of 7 runs, 1,000,000 loops each)\n"
     ]
    }
   ],
   "source": [
    "%%timeit\n",
    "cell_temperature = calc_array_temp_homer(e_poa, ambient_temp)"
   ]
  },
  {
   "cell_type": "code",
   "execution_count": null,
   "metadata": {},
   "outputs": [],
   "source": [
    "import numpy as np\n",
    "import plotly.express as px\n",
    "\n",
    "# Define the modified logistic function\n",
    "def calc_low_light_losses(L, I, k=0.02, I_0=250):\n",
    "    \"\"\"\n",
    "    Modified logistic function to calculate efficiency based on irradiance,\n",
    "    with a minimum efficiency level.\n",
    "\n",
    "    Parameters:\n",
    "    L (float): The rated solar PV size (kWp).\n",
    "    I (float): The irradiance incident on array (W/m2).\n",
    "    k (float): The steepness of the curve.\n",
    "    I_0 (float): The irradiance at which the efficiency is at its midpoint.\n",
    "    L_min (float): The minimum efficiency level at 10% STC or below.\n",
    "\n",
    "    Returns:\n",
    "    float: The calculated efficiency at the given irradiance.\n",
    "    \"\"\"\n",
    "    L_min = L * 0.8125\n",
    "    I_adj = I / 1000\n",
    "    eff = L_min + (L - L_min) / (1 + np.exp(-k * (I - I_0)))\n",
    "    return eff\n",
    "\n",
    "\n",
    "# Generate a range of irradiance values from 0 to 1000 W/m2 and set L to 1 kWp\n",
    "L = 1\n",
    "irradiance_range = np.linspace(0, 1000, 1001)\n",
    "efficiencies = calc_low_light_losses(L, irradiance_range)\n",
    "\n",
    "# Plot Graph of results\n",
    "fig = px.line(efficiencies[:], y=efficiencies[:], x = irradiance_range[:])\n",
    "\n",
    "fig.update_layout(xaxis_title=\"Irradiation (W/m2)\", yaxis_title=\"kWp Output\",\n",
    "                  title = \"Line graph showing PV kWp output due to low irradiance losses\")"
   ]
  },
  {
   "cell_type": "code",
   "execution_count": null,
   "metadata": {},
   "outputs": [],
   "source": []
  },
  {
   "cell_type": "markdown",
   "metadata": {},
   "source": [
    "# ***Performance Test***"
   ]
  },
  {
   "cell_type": "code",
   "execution_count": null,
   "metadata": {},
   "outputs": [],
   "source": [
    "# Performance Testing\n",
    "# import pstats\n",
    "# import cProfile\n",
    "# from meteo.Site import Site\n",
    "# from solar.SolarPVArray import SolarPVArray\n",
    "# from solar.SolarPVModel import SolarPVModel\n",
    "# from misc.log_config import configure_logging\n",
    "# from misc.util import load_pv_model\n",
    "# configure_logging()\n",
    "# array_1 = SolarPVArray(1, 35, 0, 25, 0.88)\n",
    "# cProfile.run(\"SolarPVModel(site=Site(latitude=54.60452, longitude=-5.92860, size=100), arrays=[array_1])\", 'performance_test.prof')\n",
    "# p = pstats.Stats('performance_test.prof')\n",
    "# p.sort_stats('tottime').print_stats()\n",
    "# p.sort_stats('cumtime').print_stats()"
   ]
  },
  {
   "cell_type": "markdown",
   "metadata": {},
   "source": [
    "# ***Example Running Model with variable inputs***"
   ]
  },
  {
   "cell_type": "code",
   "execution_count": null,
   "metadata": {},
   "outputs": [],
   "source": [
    "# %%timeit\n",
    "\n",
    "from meteo.Site import Site\n",
    "from solar.SolarPVArray import SolarPVArray\n",
    "from solar.SolarPVModel import SolarPVModel\n",
    "\n",
    "from misc.log_config import configure_logging\n",
    "\n",
    "configure_logging()\n",
    "\n",
    "# Set up site and obtain TMY data\n",
    "site = Site(name=\"Test Site\", address = \"123 Test Street\", client = \"Big Gerry\", \n",
    "            latitude=54.60452, longitude=-5.92860, tmz_hrs_east = 0)\n",
    "\n",
    "from meteo.Site import Site\n",
    "from solar.SolarPVArray import SolarPVArray\n",
    "from solar.SolarPVModel import SolarPVModel\n",
    "\n",
    "from misc.log_config import configure_logging\n",
    "\n",
    "configure_logging()\n",
    "\n",
    "# Set up site and obtain TMY data\n",
    "site = Site(name=\"Test Site\", address = \"123 Test Street\", client = \"Big Gerry\", \n",
    "            latitude=54.60452, longitude=-5.92860, tmz_hrs_east = 0)"
   ]
  },
  {
   "cell_type": "code",
   "execution_count": null,
   "metadata": {},
   "outputs": [],
   "source": [
    "# %%timeit\n",
    "\n",
    "pv_kwp = 1\n",
    "surface_pitch = 35\n",
    "surface_azimuth = -90\n",
    "lifespan = 25\n",
    "pv_eol_derating = 0.88\n",
    "\n",
    "# Set up PV arrays\n",
    "array_1 = SolarPVArray(pv_kwp, surface_pitch, surface_azimuth, lifespan, pv_eol_derating)\n",
    "array_2 = SolarPVArray(1, 35, -45, 25, 0.88)\n",
    "array_3 = SolarPVArray(1, 35, 0, 25, 0.88)\n",
    "array_4 = SolarPVArray(1, 35, 45, 25, 0.88)\n",
    "array_5 = SolarPVArray(1, 35, 90, 25, 0.88)\n",
    "arrays = [array_1, array_2, array_3, array_4, array_5]\n",
    "\n",
    "# Set up and run model\n",
    "pv_model = SolarPVModel(site=site, arrays=arrays)"
   ]
  },
  {
   "cell_type": "code",
   "execution_count": null,
   "metadata": {},
   "outputs": [],
   "source": [
    "import plotly.express as px\n",
    "\n",
    "px.bar(pv_model.summary_grouped.hourly[[\"PV_Gen_kWh_Total\", \"IAM_Loss_kWm2_Total\", \"PV_Thermal_Loss_kWh_Total\"]])"
   ]
  },
  {
   "cell_type": "code",
   "execution_count": null,
   "metadata": {},
   "outputs": [],
   "source": [
    "px.bar(pv_model.summary_grouped.monthly[[\"E_Beam_kWm2_Total\", \"E_Diffuse_kWm2_Total\", \"E_Ground_kWm2_Total\"]])"
   ]
  },
  {
   "cell_type": "code",
   "execution_count": null,
   "metadata": {},
   "outputs": [],
   "source": [
    "px.line(pv_model.models[0][\"model_result\"][[\"Cell_Temp_C\", \"T2m\"]])"
   ]
  },
  {
   "cell_type": "code",
   "execution_count": null,
   "metadata": {},
   "outputs": [],
   "source": [
    "px.line(pv_model.summary_grouped.monthly[[\"ET_HRad_kWm2_Total\", \"E_POA_kWm2_Total\", \"Panel_POA_kWm2_Total\"]])"
   ]
  },
  {
   "cell_type": "code",
   "execution_count": null,
   "metadata": {},
   "outputs": [],
   "source": [
    "pv_model.summary"
   ]
  },
  {
   "cell_type": "code",
   "execution_count": null,
   "metadata": {},
   "outputs": [],
   "source": [
    "pv_model.combined_model"
   ]
  },
  {
   "cell_type": "markdown",
   "metadata": {},
   "source": [
    "# ***Visualisation***"
   ]
  },
  {
   "cell_type": "code",
   "execution_count": null,
   "metadata": {},
   "outputs": [],
   "source": [
    "import plotly.express as px\n",
    "import seaborn as sns"
   ]
  },
  {
   "cell_type": "code",
   "execution_count": null,
   "metadata": {},
   "outputs": [],
   "source": [
    "pv_model.array_model(1).head()"
   ]
  },
  {
   "cell_type": "code",
   "execution_count": null,
   "metadata": {},
   "outputs": [],
   "source": [
    "print(f\"PV Gen: {round(pv_model.all_models.PV_Gen_kWh_Array_1.sum(), 3)}kWh\")\n",
    "print(f\"E POA: {round(pv_model.all_models.E_POA_kWm2_Array_1.sum(), 3)}kWhm2\")"
   ]
  },
  {
   "cell_type": "code",
   "execution_count": null,
   "metadata": {},
   "outputs": [],
   "source": [
    "px.bar(pv_model.summary_grouped.hourly[[\"PV_Gen_kWh_Total\", \"IAM_Loss_kWm2_Total\", \"PV_Thermal_Loss_kWh_Total\"]])"
   ]
  },
  {
   "cell_type": "code",
   "execution_count": null,
   "metadata": {},
   "outputs": [],
   "source": [
    "px.bar(pv_model.summary_grouped.monthly[[\"PV_Gen_kWh_Total\", \"IAM_Loss_kWm2_Total\", \"PV_Thermal_Loss_kWh_Total\"]])"
   ]
  },
  {
   "cell_type": "code",
   "execution_count": null,
   "metadata": {},
   "outputs": [],
   "source": [
    "px.bar(pv_model.summary_grouped.weekly[[\"PV_Gen_kWh_Total\", \"IAM_Loss_kWm2_Total\", \"PV_Thermal_Loss_kWh_Total\"]])"
   ]
  },
  {
   "cell_type": "code",
   "execution_count": null,
   "metadata": {},
   "outputs": [],
   "source": [
    "px.bar(pv_model.summary_grouped.daily[[\"PV_Gen_kWh_Total\", \"IAM_Loss_kWm2_Total\", \"PV_Thermal_Loss_kWh_Total\"]])"
   ]
  },
  {
   "cell_type": "code",
   "execution_count": null,
   "metadata": {},
   "outputs": [],
   "source": [
    "px.line(pv_model.models[0][\"model_result\"][[\"Cell_Temp_C\", \"T2m\"]])\n"
   ]
  },
  {
   "cell_type": "code",
   "execution_count": null,
   "metadata": {},
   "outputs": [],
   "source": [
    "sns.lineplot(pv_model.models[0][\"model_result\"][[\"Cell_Temp_C\", \"T2m\"]])"
   ]
  },
  {
   "cell_type": "code",
   "execution_count": null,
   "metadata": {},
   "outputs": [],
   "source": [
    "px.line(pv_model.models[0][\"model_result\"][[\"ET_HRad_kWm2\", \"E_POA_kWm2\"]])"
   ]
  },
  {
   "cell_type": "code",
   "execution_count": null,
   "metadata": {},
   "outputs": [],
   "source": [
    "sns.lineplot(pv_model.models[0][\"model_result\"][[\"ET_HRad_kWm2\", \"E_POA_kWm2\"]])"
   ]
  },
  {
   "cell_type": "code",
   "execution_count": null,
   "metadata": {},
   "outputs": [],
   "source": []
  },
  {
   "cell_type": "markdown",
   "metadata": {},
   "source": [
    "# ***Mass Model Testing***"
   ]
  },
  {
   "cell_type": "code",
   "execution_count": null,
   "metadata": {},
   "outputs": [],
   "source": [
    "# %%timeit\n",
    "import random\n",
    "\n",
    "# Assuming the Site, SolarPVArray, and SolarPVModel classes are defined elsewhere\n",
    "site = Site(name=\"Test Site\", address=\"123 Test Street\", client=\"Big Gerry\", \n",
    "            latitude=54.60452, longitude=-5.92860, tmz_hrs_east=0)\n",
    "\n",
    "surface_pitch = 35\n",
    "azimuth_list = [90, 45, 0, -45, -90]\n",
    "pv_eol = 0.88\n",
    "cost = 1250\n",
    "lifespan = 25\n",
    "eff = 0.21\n",
    "temp_coeff = -0.0048\n",
    "t_ab = 0.9\n",
    "\n",
    "max_pv = 7.5\n",
    "min_pv = 2.5\n",
    "pv_step_size = 0.25\n",
    "pv_list = []\n",
    "pv_models = {}\n",
    "\n",
    "for i in range(int((max_pv - min_pv) / pv_step_size)):\n",
    "    pv_list.append(min_pv + (i * pv_step_size))\n",
    "\n",
    "for pv_size in pv_list:\n",
    "    pv_kwp = pv_size\n",
    "\n",
    "    array_1 = SolarPVArray(pv_kwp, surface_pitch, azimuth_list[0], lifespan, pv_eol, cost, eff, temp_coeff, t_ab)\n",
    "    array_2 = SolarPVArray(pv_kwp, surface_pitch, azimuth_list[1], lifespan, pv_eol, cost, eff, temp_coeff, t_ab)\n",
    "    array_3 = SolarPVArray(pv_kwp, surface_pitch, azimuth_list[2], lifespan, pv_eol, cost, eff, temp_coeff, t_ab)\n",
    "    array_4 = SolarPVArray(pv_kwp, surface_pitch, azimuth_list[3], lifespan, pv_eol, cost, eff, temp_coeff, t_ab)\n",
    "    array_5 = SolarPVArray(pv_kwp, surface_pitch, azimuth_list[4], lifespan, pv_eol, cost, eff, temp_coeff, t_ab)\n",
    "\n",
    "    # Initialize and run the SolarPVModel with all arrays\n",
    "    arrays = [array_1, array_2, array_3, array_4, array_5]\n",
    "    pv_model = SolarPVModel(site=site, arrays=arrays)\n",
    "\n",
    "    pv_models[pv_size] = pv_model  # Store the model with pv_size as the key\n",
    "\n",
    "Total_gen = 0\n",
    "\n",
    "for model in pv_models.values():\n",
    "    Total_gen += model.summary.PV_Gen_kWh_Annual\n",
    "\n",
    "print(\"\")\n",
    "print(\"***************************************************\")\n",
    "print(f\"{round(Total_gen / 1000, 3)} MWh from {len(pv_list)} models simulating {len(pv_list) * 5} PV arrays in total.\")\n"
   ]
  },
  {
   "cell_type": "code",
   "execution_count": null,
   "metadata": {},
   "outputs": [],
   "source": [
    "pv_models.get(2.5).models[0][\"model_result\"]"
   ]
  },
  {
   "cell_type": "code",
   "execution_count": null,
   "metadata": {},
   "outputs": [],
   "source": [
    "# Access values from dictionary\n",
    "pv_models.get(2.5).summary_grouped.daily.PV_Gen_kWh_Total.sum()"
   ]
  },
  {
   "cell_type": "code",
   "execution_count": null,
   "metadata": {},
   "outputs": [],
   "source": [
    "sns.barplot(pv_models.get(2.5).summary_grouped.monthly.Cell_Temp_C_Avg - pv_models.get(2.5).summary_grouped.monthly.T2m)"
   ]
  },
  {
   "cell_type": "code",
   "execution_count": null,
   "metadata": {},
   "outputs": [],
   "source": [
    "sns.barplot(pv_models.get(2.5).summary_grouped.weekly.PV_Gen_kWh_Total)"
   ]
  },
  {
   "cell_type": "code",
   "execution_count": null,
   "metadata": {},
   "outputs": [],
   "source": [
    "sns.barplot(data=pv_models.get(2.5).summary_grouped.daily, x=\"Day_of_Year\", y=\"PV_Gen_kWh_Total\", \n",
    "            hue=\"PV_Gen_kWh_Total\", palette=\"viridis\")"
   ]
  },
  {
   "cell_type": "code",
   "execution_count": null,
   "metadata": {},
   "outputs": [],
   "source": [
    "for pv_size in pv_list:\n",
    "    print(f\"{round(pv_models.get(pv_size).summary_grouped.daily.PV_Gen_kWh_Total.sum() / 1000, 3)} MWh/yr\")"
   ]
  },
  {
   "cell_type": "markdown",
   "metadata": {},
   "source": [
    "# ***VISUAL TESTING***"
   ]
  },
  {
   "cell_type": "code",
   "execution_count": null,
   "metadata": {},
   "outputs": [],
   "source": [
    "variables = ['E_Beam_Wm2', 'E_Diffuse_Wm2', 'E_Ground_Wm2', 'E_POA_Wm2', 'ET_HRad_Wm2', \n",
    "            'Cell_Temp_C', 'PV_Gen_kWh', 'AOI', 'Zenith_Angle']\n",
    "\n",
    "testy = pv_model.all_models\n",
    "\n",
    "variable = \"PV_Gen_kWh\"\n",
    "\n",
    "variable_1 = f\"{variable}_Array_1\"\n",
    "variable_2 = f\"{variable}_Array_2\"\n",
    "variable_3 = f\"{variable}_Array_3\"\n",
    "variable_4 = f\"{variable}_Array_4\"\n",
    "variable_7 = f\"{variable}_Total\"\n",
    "variable_8 = f\"{variable}_Avg\"\n",
    "\n",
    "if variable_1 in testy:\n",
    "    sns.lineplot(testy.groupby(\"Hour_of_Day\")[variable_1].mean())\n",
    "if variable_2 in testy:\n",
    "    sns.lineplot(testy.groupby(\"Hour_of_Day\")[variable_2].mean())\n",
    "if variable_3 in testy:\n",
    "    sns.lineplot(testy.groupby(\"Hour_of_Day\")[variable_3].mean())\n",
    "if variable_4 in testy:\n",
    "    sns.lineplot(testy.groupby(\"Hour_of_Day\")[variable_4].mean())\n",
    "if variable_7 in testy:\n",
    "    sns.lineplot(testy.groupby(\"Hour_of_Day\")[variable_7].mean(), alpha=0.4, ls=\"--\")\n",
    "if variable_8 in testy:\n",
    "    sns.lineplot(testy.groupby(\"Hour_of_Day\")[variable_8].mean(), alpha=0.4, ls=\"--\")"
   ]
  },
  {
   "cell_type": "code",
   "execution_count": null,
   "metadata": {},
   "outputs": [],
   "source": [
    "sns.lineplot(pv_model.combined_model[\"Cell_Temp_C_Avg\"], alpha = 0.2, ls = \"--\", color = \"orange\")\n",
    "sns.lineplot(pv_model.combined_model[\"T2m\"])"
   ]
  },
  {
   "cell_type": "code",
   "execution_count": null,
   "metadata": {},
   "outputs": [],
   "source": [
    "sns.barplot(pv_model.summary_grouped.daily.T2m)"
   ]
  },
  {
   "cell_type": "code",
   "execution_count": null,
   "metadata": {},
   "outputs": [],
   "source": [
    "sns.lineplot(pv_model.combined_model.groupby(\"Hour_of_Day\")[\"PV_Gen_kWh_Total\"].mean())"
   ]
  },
  {
   "cell_type": "code",
   "execution_count": null,
   "metadata": {},
   "outputs": [],
   "source": [
    "pv_model.all_models[\"PV_Gen_kWh_Total\"].sum()"
   ]
  },
  {
   "cell_type": "code",
   "execution_count": null,
   "metadata": {},
   "outputs": [],
   "source": [
    "pv_model.all_models.columns"
   ]
  },
  {
   "cell_type": "code",
   "execution_count": null,
   "metadata": {},
   "outputs": [],
   "source": [
    "sns.lineplot(pv_model.all_models[\"PV_Thermal_Loss_kWh_Total\"])"
   ]
  },
  {
   "cell_type": "code",
   "execution_count": null,
   "metadata": {},
   "outputs": [],
   "source": [
    "temp_losses = (pv_model.all_models[\"PV_Thermal_Loss_kWh_Total\"].sum() / pv_model.all_models[\"PV_Gen_kWh_Total\"].sum() * 100)\n",
    "\n",
    "print(f\"{round(temp_losses, 3)}% change to power due to temperature losses\")"
   ]
  },
  {
   "cell_type": "code",
   "execution_count": null,
   "metadata": {},
   "outputs": [],
   "source": [
    "pv_model.models[0][\"model_result\"]"
   ]
  },
  {
   "cell_type": "code",
   "execution_count": null,
   "metadata": {},
   "outputs": [],
   "source": [
    "pv_model.all_models"
   ]
  },
  {
   "cell_type": "code",
   "execution_count": null,
   "metadata": {},
   "outputs": [],
   "source": [
    "pv_model.combined_model"
   ]
  },
  {
   "cell_type": "code",
   "execution_count": null,
   "metadata": {},
   "outputs": [],
   "source": [
    "pv_model.summary"
   ]
  },
  {
   "cell_type": "code",
   "execution_count": null,
   "metadata": {},
   "outputs": [],
   "source": [
    "pv_model.summary_grouped.daily"
   ]
  },
  {
   "cell_type": "code",
   "execution_count": null,
   "metadata": {},
   "outputs": [],
   "source": [
    "pv_model.summary"
   ]
  },
  {
   "cell_type": "code",
   "execution_count": null,
   "metadata": {},
   "outputs": [],
   "source": [
    "pv_model.summary_grouped.monthly"
   ]
  },
  {
   "cell_type": "code",
   "execution_count": null,
   "metadata": {},
   "outputs": [],
   "source": []
  },
  {
   "cell_type": "markdown",
   "metadata": {},
   "source": [
    "# ***MODEL ANALYSIS***"
   ]
  },
  {
   "cell_type": "code",
   "execution_count": null,
   "metadata": {},
   "outputs": [],
   "source": []
  },
  {
   "cell_type": "code",
   "execution_count": null,
   "metadata": {},
   "outputs": [],
   "source": []
  }
 ],
 "metadata": {
  "kernelspec": {
   "display_name": "Python 3",
   "language": "python",
   "name": "python3"
  },
  "language_info": {
   "codemirror_mode": {
    "name": "ipython",
    "version": 3
   },
   "file_extension": ".py",
   "mimetype": "text/x-python",
   "name": "python",
   "nbconvert_exporter": "python",
   "pygments_lexer": "ipython3",
   "version": "3.11.8"
  }
 },
 "nbformat": 4,
 "nbformat_minor": 2
}
