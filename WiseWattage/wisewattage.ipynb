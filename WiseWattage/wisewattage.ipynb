{
 "cells": [
  {
   "cell_type": "markdown",
   "metadata": {},
   "source": [
    "# ***MAIN FUNCTIONALITY***"
   ]
  },
  {
   "cell_type": "code",
   "execution_count": null,
   "metadata": {},
   "outputs": [],
   "source": [
    "import pandas as pd\n",
    "import plotly.express as px\n",
    "import seaborn as sns\n",
    "\n",
    "from meteo.Site import Site\n",
    "from solar.SolarPVPanel import SolarPVPanel\n",
    "from solar.SolarPVArray import SolarPVArray\n",
    "from solar.SolarPVModel import SolarPVModel\n",
    "\n",
    "from misc.log_config import configure_logging\n",
    "\n",
    "configure_logging()\n",
    "pd.options.display.float_format = '{:.3f}'.format\n",
    "\n",
    "# Set up site location and get TMY data\n",
    "name = \"\"\n",
    "address = \"York St, Belfast, BT15 1ED\"\n",
    "client = \"Ulster University\"\n",
    "\n",
    "site = Site(name=name, \n",
    "            address=address, \n",
    "            client=client, \n",
    "            latitude=54.60452, \n",
    "            longitude=-5.92860, \n",
    "            size=100)\n",
    "\n",
    "# Set up PV panel being used\n",
    "panel_kwp = 0.3538\n",
    "size_m2 = 1.990\n",
    "eff = 0.2237\n",
    "cell_temp_coeff = -0.004\n",
    "cell_NOCT = 48\n",
    "lifespan = 25\n",
    "pv_eol_derating = 0.88\n",
    "refraction_index = 0.05\n",
    "\n",
    "pv_panel = SolarPVPanel(panel_kwp, size_m2, eff, cell_temp_coeff, \n",
    "                        cell_NOCT, lifespan, pv_eol_derating, refraction_index)\n",
    "\n",
    "\n",
    "# Set up PV arrays\n",
    "num_pv_panels = 3\n",
    "surface_pitch = 35\n",
    "surface_azimuth = -90\n",
    "albedo = 0.2\n",
    "cost_per_kWp = 1250\n",
    "\n",
    "pv_array_1 = SolarPVArray(pv_panel, num_pv_panels, surface_pitch, surface_azimuth, albedo, cost_per_kWp)\n",
    "pv_array_2 = SolarPVArray(pv_panel, num_pv_panels, surface_pitch, -45)\n",
    "pv_array_3 = SolarPVArray(pv_panel, num_pv_panels, surface_pitch, 0)\n",
    "pv_array_4 = SolarPVArray(pv_panel, num_pv_panels, surface_pitch, 45)\n",
    "pv_array_5 = SolarPVArray(pv_panel, num_pv_panels, surface_pitch, 90)\n",
    "\n",
    "pv_arrays = [pv_array_1, pv_array_2, pv_array_3, pv_array_4, pv_array_5]\n",
    "\n",
    "\n",
    "# Run the model\n",
    "pv_model = SolarPVModel(site, pv_arrays)\n",
    "\n",
    "print(\"\")\n",
    "print(f\"{sum(array.pv_kwp for array in pv_model.arrays)}kWp Solar PV modelled covering a {sum(array.area_m2 for array in pv_model.arrays)}m2 area.\")\n"
   ]
  },
  {
   "cell_type": "code",
   "execution_count": null,
   "metadata": {},
   "outputs": [],
   "source": [
    "pv_model.combined_model.Total_PV_Losses_kWh_Total.sum()"
   ]
  },
  {
   "cell_type": "code",
   "execution_count": null,
   "metadata": {},
   "outputs": [],
   "source": [
    "round(pv_model.combined_model.Total_PV_Losses_kWh_Total.sum() / pv_model.combined_model.PV_Gen_kWh_Total.sum() * 100, 2)"
   ]
  },
  {
   "cell_type": "code",
   "execution_count": null,
   "metadata": {},
   "outputs": [],
   "source": [
    "a = pv_model.combined_model.PV_Thermal_Loss_kWh_Total.sum() \n",
    "b = pv_model.combined_model.Low_Light_Loss_kWh_Total.sum() \n",
    "c = pv_model.combined_model.IAM_Loss_kWh_Total.sum()\n",
    "d = a + b + c\n",
    "e = pv_model.combined_model.PV_Gen_kWh_Total.sum()\n",
    "f = d / e * 100\n",
    "\n",
    "print(f\"{a:.2f} kWh Thermal Losses\")\n",
    "print(f\"{b:.2f} kWh Low Light Losses\")\n",
    "print(f\"{c:.2f} kWh IAM Losses\")\n",
    "print(f\"{d:.2f} kWh Total Losses\")\n",
    "print()\n",
    "print(f\"{e:.2f} kWh PV gen annual\")\n",
    "print(f\"{f:.2f}% losses\")"
   ]
  },
  {
   "cell_type": "code",
   "execution_count": null,
   "metadata": {},
   "outputs": [],
   "source": [
    "pv_model.summary"
   ]
  },
  {
   "cell_type": "code",
   "execution_count": null,
   "metadata": {},
   "outputs": [],
   "source": [
    "pv_model.summary_grouped.hourly.sum()"
   ]
  },
  {
   "cell_type": "code",
   "execution_count": null,
   "metadata": {},
   "outputs": [],
   "source": [
    "print(pv_model.models[0][\"model_result\"].E_POA_kWm2.sum())\n",
    "print(pv_model.models[1][\"model_result\"].E_POA_kWm2.sum())\n",
    "print(pv_model.models[2][\"model_result\"].E_POA_kWm2.sum())\n",
    "print(pv_model.models[3][\"model_result\"].E_POA_kWm2.sum())\n",
    "print(pv_model.models[4][\"model_result\"].E_POA_kWm2.sum())"
   ]
  },
  {
   "cell_type": "code",
   "execution_count": null,
   "metadata": {},
   "outputs": [],
   "source": [
    "px.bar(pv_model.summary_grouped.quarterly[[\"Total_PV_Losses_kWh_Total\", \"PV_Gen_kWh_Total\"]])"
   ]
  },
  {
   "cell_type": "code",
   "execution_count": null,
   "metadata": {},
   "outputs": [],
   "source": []
  },
  {
   "cell_type": "code",
   "execution_count": null,
   "metadata": {},
   "outputs": [],
   "source": []
  },
  {
   "cell_type": "markdown",
   "metadata": {},
   "source": [
    "# ***Performance Test***"
   ]
  },
  {
   "cell_type": "code",
   "execution_count": 22,
   "metadata": {},
   "outputs": [],
   "source": [
    "# Performance Testing\n",
    "# import pstats\n",
    "# import cProfile\n",
    "# from meteo.Site import Site\n",
    "# from solar.SolarPVPanel import SolarPVPanel\n",
    "# from solar.SolarPVArray import SolarPVArray\n",
    "# from solar.SolarPVModel import SolarPVModel\n",
    "# from misc.log_config import configure_logging\n",
    "# configure_logging()\n",
    "# cProfile.run(\"SolarPVModel(site=Site(latitude=54.60452, longitude=-5.92860, size=100), arrays=[SolarPVArray(SolarPVPanel(), 4), SolarPVArray(SolarPVPanel(), 4), SolarPVArray(SolarPVPanel(), 4), SolarPVArray(SolarPVPanel(), 4), SolarPVArray(SolarPVPanel(), 4)])\", 'performance_test.prof')\n",
    "# p = pstats.Stats('performance_test.prof')\n",
    "# p.sort_stats('tottime').print_stats()\n",
    "# p.sort_stats('cumtime').print_stats()"
   ]
  },
  {
   "cell_type": "code",
   "execution_count": null,
   "metadata": {},
   "outputs": [],
   "source": []
  },
  {
   "cell_type": "markdown",
   "metadata": {},
   "source": [
    "### **Example: PV_Only model for multiple site locations and arrays:**"
   ]
  },
  {
   "cell_type": "code",
   "execution_count": 10,
   "metadata": {},
   "outputs": [
    {
     "name": "stderr",
     "output_type": "stream",
     "text": [
      "2024-03-07 23:52:23,777 - INFO - Fetching TMY data for Belfast at latitude: 54.60452, longitude: -5.9286\n",
      "2024-03-07 23:52:23,778 - INFO - TMY data obtained for Belfast at latitude: 54.60452, longitude: -5.9286\n",
      "2024-03-07 23:52:23,779 - INFO - *******************\n",
      "2024-03-07 23:52:23,780 - INFO - Fetching TMY data for Paris at latitude: 48.8562, longitude: 2.3477\n",
      "2024-03-07 23:52:23,782 - INFO - TMY data obtained for Paris at latitude: 48.8562, longitude: 2.3477\n",
      "2024-03-07 23:52:23,782 - INFO - *******************\n",
      "2024-03-07 23:52:23,783 - INFO - Fetching TMY data for Madrid at latitude: 40.4202, longitude: -3.6988\n",
      "2024-03-07 23:52:23,783 - INFO - TMY data obtained for Madrid at latitude: 40.4202, longitude: -3.6988\n",
      "2024-03-07 23:52:23,784 - INFO - *******************\n",
      "2024-03-07 23:52:23,784 - INFO - Fetching TMY data for Cairo at latitude: 30.1098, longitude: -3.6988\n",
      "2024-03-07 23:52:23,785 - INFO - TMY data obtained for Cairo at latitude: 30.1098, longitude: -3.6988\n",
      "2024-03-07 23:52:23,785 - INFO - *******************\n",
      "2024-03-07 23:52:23,786 - INFO - Fetching TMY data for Abuja at latitude: 9.0591, longitude: 31.2235\n",
      "2024-03-07 23:52:23,787 - INFO - TMY data obtained for Abuja at latitude: 9.0591, longitude: 31.2235\n",
      "2024-03-07 23:52:23,787 - INFO - *******************\n",
      "2024-03-07 23:52:23,787 - INFO - Solar PV Panel created: Size: 0.3538kW, Size: 1.99m2, Efficiency: 22.37%, Lifespan: 25yrs\n",
      "2024-03-07 23:52:23,787 - INFO - *******************\n",
      "2024-03-07 23:52:23,788 - INFO - Solar PV Panel created: Size: 0.3538kW, Size: 1.99m2, Efficiency: 22.37%, Lifespan: 25yrs\n",
      "2024-03-07 23:52:23,789 - INFO - *******************\n",
      "2024-03-07 23:52:23,789 - INFO - Solar PV array created: Size: 1.061kW, Size: 5.97m2, Azimuth: -90deg, Lifespan: 25yrs, Pitch: 35deg, Efficiency: 22.37%\n",
      "2024-03-07 23:52:23,790 - INFO - Solar PV array created: Size: 1.061kW, Size: 5.97m2, Azimuth: -45deg, Lifespan: 25yrs, Pitch: 35deg, Efficiency: 22.37%\n",
      "2024-03-07 23:52:23,791 - INFO - Solar PV array created: Size: 1.061kW, Size: 5.97m2, Azimuth: 0deg, Lifespan: 25yrs, Pitch: 35deg, Efficiency: 22.37%\n",
      "2024-03-07 23:52:23,791 - INFO - Solar PV array created: Size: 1.061kW, Size: 5.97m2, Azimuth: 45deg, Lifespan: 25yrs, Pitch: 35deg, Efficiency: 22.37%\n",
      "2024-03-07 23:52:23,792 - INFO - Solar PV array created: Size: 1.061kW, Size: 5.97m2, Azimuth: 90deg, Lifespan: 25yrs, Pitch: 35deg, Efficiency: 22.37%\n",
      "2024-03-07 23:52:23,792 - INFO - Solar PV array created: Size: 1.061kW, Size: 5.97m2, Azimuth: 90deg, Lifespan: 25yrs, Pitch: 35deg, Efficiency: 22.37%\n",
      "2024-03-07 23:52:23,793 - INFO - Solar PV array created: Size: 1.061kW, Size: 5.97m2, Azimuth: 0deg, Lifespan: 25yrs, Pitch: 35deg, Efficiency: 22.37%\n",
      "2024-03-07 23:52:23,793 - INFO - Solar PV array created: Size: 1.061kW, Size: 5.97m2, Azimuth: -90deg, Lifespan: 25yrs, Pitch: 35deg, Efficiency: 22.37%\n",
      "2024-03-07 23:52:23,794 - INFO - *******************\n",
      "2024-03-07 23:52:23,795 - INFO - Starting Solar PV model simulations for Belfast.\n",
      "2024-03-07 23:52:23,795 - INFO - *******************\n",
      "2024-03-07 23:52:23,796 - INFO - Simulating model - PV Size: 1.061kWp, Pitch: 35 degrees, Azimuth -90 degrees WoS\n",
      "2024-03-07 23:52:23,807 - INFO - Simulating model - PV Size: 1.061kWp, Pitch: 35 degrees, Azimuth -45 degrees WoS\n",
      "2024-03-07 23:52:23,817 - INFO - Simulating model - PV Size: 1.061kWp, Pitch: 35 degrees, Azimuth 0 degrees WoS\n",
      "2024-03-07 23:52:23,824 - INFO - Simulating model - PV Size: 1.061kWp, Pitch: 35 degrees, Azimuth 45 degrees WoS\n",
      "2024-03-07 23:52:23,831 - INFO - Simulating model - PV Size: 1.061kWp, Pitch: 35 degrees, Azimuth 90 degrees WoS\n",
      "2024-03-07 23:52:23,838 - INFO - *******************\n",
      "2024-03-07 23:52:23,839 - INFO - Solar PV model simulations for Belfast completed.\n",
      "2024-03-07 23:52:23,873 - INFO - Solar PV model data aggregated.\n",
      "2024-03-07 23:52:23,882 - INFO - Solar PV model data summary for Belfast complete.\n",
      "2024-03-07 23:52:23,882 - INFO -       SUCCESS!      \n",
      "2024-03-07 23:52:23,883 - INFO - *******************\n",
      "2024-03-07 23:52:23,883 - INFO - Starting Solar PV model simulations for Belfast.\n",
      "2024-03-07 23:52:23,884 - INFO - *******************\n",
      "2024-03-07 23:52:23,884 - INFO - Simulating model - PV Size: 1.061kWp, Pitch: 35 degrees, Azimuth 90 degrees WoS\n",
      "2024-03-07 23:52:23,891 - INFO - Simulating model - PV Size: 1.061kWp, Pitch: 35 degrees, Azimuth 0 degrees WoS\n",
      "2024-03-07 23:52:23,898 - INFO - Simulating model - PV Size: 1.061kWp, Pitch: 35 degrees, Azimuth -90 degrees WoS\n",
      "2024-03-07 23:52:23,905 - INFO - *******************\n",
      "2024-03-07 23:52:23,905 - INFO - Solar PV model simulations for Belfast completed.\n",
      "2024-03-07 23:52:23,928 - INFO - Solar PV model data aggregated.\n",
      "2024-03-07 23:52:23,935 - INFO - Solar PV model data summary for Belfast complete.\n",
      "2024-03-07 23:52:23,935 - INFO -       SUCCESS!      \n",
      "2024-03-07 23:52:23,936 - INFO - *******************\n",
      "2024-03-07 23:52:23,936 - INFO - Starting Solar PV model simulations for Paris.\n",
      "2024-03-07 23:52:23,937 - INFO - *******************\n",
      "2024-03-07 23:52:23,937 - INFO - Simulating model - PV Size: 1.061kWp, Pitch: 35 degrees, Azimuth -90 degrees WoS\n",
      "2024-03-07 23:52:23,944 - INFO - Simulating model - PV Size: 1.061kWp, Pitch: 35 degrees, Azimuth -45 degrees WoS\n",
      "2024-03-07 23:52:23,951 - INFO - Simulating model - PV Size: 1.061kWp, Pitch: 35 degrees, Azimuth 0 degrees WoS\n",
      "2024-03-07 23:52:23,958 - INFO - Simulating model - PV Size: 1.061kWp, Pitch: 35 degrees, Azimuth 45 degrees WoS\n",
      "2024-03-07 23:52:23,965 - INFO - Simulating model - PV Size: 1.061kWp, Pitch: 35 degrees, Azimuth 90 degrees WoS\n",
      "2024-03-07 23:52:23,972 - INFO - *******************\n",
      "2024-03-07 23:52:23,972 - INFO - Solar PV model simulations for Paris completed.\n",
      "2024-03-07 23:52:24,001 - INFO - Solar PV model data aggregated.\n",
      "2024-03-07 23:52:24,010 - INFO - Solar PV model data summary for Paris complete.\n",
      "2024-03-07 23:52:24,010 - INFO -       SUCCESS!      \n",
      "2024-03-07 23:52:24,011 - INFO - *******************\n",
      "2024-03-07 23:52:24,011 - INFO - Starting Solar PV model simulations for Paris.\n",
      "2024-03-07 23:52:24,012 - INFO - *******************\n",
      "2024-03-07 23:52:24,012 - INFO - Simulating model - PV Size: 1.061kWp, Pitch: 35 degrees, Azimuth 90 degrees WoS\n",
      "2024-03-07 23:52:24,020 - INFO - Simulating model - PV Size: 1.061kWp, Pitch: 35 degrees, Azimuth 0 degrees WoS\n",
      "2024-03-07 23:52:24,027 - INFO - Simulating model - PV Size: 1.061kWp, Pitch: 35 degrees, Azimuth -90 degrees WoS\n",
      "2024-03-07 23:52:24,033 - INFO - *******************\n",
      "2024-03-07 23:52:24,034 - INFO - Solar PV model simulations for Paris completed.\n",
      "2024-03-07 23:52:24,056 - INFO - Solar PV model data aggregated.\n",
      "2024-03-07 23:52:24,063 - INFO - Solar PV model data summary for Paris complete.\n",
      "2024-03-07 23:52:24,063 - INFO -       SUCCESS!      \n",
      "2024-03-07 23:52:24,064 - INFO - *******************\n",
      "2024-03-07 23:52:24,064 - INFO - Starting Solar PV model simulations for Madrid.\n",
      "2024-03-07 23:52:24,065 - INFO - *******************\n",
      "2024-03-07 23:52:24,065 - INFO - Simulating model - PV Size: 1.061kWp, Pitch: 35 degrees, Azimuth -90 degrees WoS\n",
      "2024-03-07 23:52:24,073 - INFO - Simulating model - PV Size: 1.061kWp, Pitch: 35 degrees, Azimuth -45 degrees WoS\n",
      "2024-03-07 23:52:24,080 - INFO - Simulating model - PV Size: 1.061kWp, Pitch: 35 degrees, Azimuth 0 degrees WoS\n",
      "2024-03-07 23:52:24,088 - INFO - Simulating model - PV Size: 1.061kWp, Pitch: 35 degrees, Azimuth 45 degrees WoS\n",
      "2024-03-07 23:52:24,095 - INFO - Simulating model - PV Size: 1.061kWp, Pitch: 35 degrees, Azimuth 90 degrees WoS\n",
      "2024-03-07 23:52:24,101 - INFO - *******************\n",
      "2024-03-07 23:52:24,102 - INFO - Solar PV model simulations for Madrid completed.\n",
      "2024-03-07 23:52:24,129 - INFO - Solar PV model data aggregated.\n",
      "2024-03-07 23:52:24,138 - INFO - Solar PV model data summary for Madrid complete.\n",
      "2024-03-07 23:52:24,139 - INFO -       SUCCESS!      \n",
      "2024-03-07 23:52:24,139 - INFO - *******************\n",
      "2024-03-07 23:52:24,139 - INFO - Starting Solar PV model simulations for Madrid.\n",
      "2024-03-07 23:52:24,140 - INFO - *******************\n",
      "2024-03-07 23:52:24,140 - INFO - Simulating model - PV Size: 1.061kWp, Pitch: 35 degrees, Azimuth 90 degrees WoS\n",
      "2024-03-07 23:52:24,147 - INFO - Simulating model - PV Size: 1.061kWp, Pitch: 35 degrees, Azimuth 0 degrees WoS\n",
      "2024-03-07 23:52:24,156 - INFO - Simulating model - PV Size: 1.061kWp, Pitch: 35 degrees, Azimuth -90 degrees WoS\n",
      "2024-03-07 23:52:24,164 - INFO - *******************\n",
      "2024-03-07 23:52:24,165 - INFO - Solar PV model simulations for Madrid completed.\n",
      "2024-03-07 23:52:24,195 - INFO - Solar PV model data aggregated.\n",
      "2024-03-07 23:52:24,204 - INFO - Solar PV model data summary for Madrid complete.\n",
      "2024-03-07 23:52:24,205 - INFO -       SUCCESS!      \n",
      "2024-03-07 23:52:24,206 - INFO - *******************\n",
      "2024-03-07 23:52:24,206 - INFO - Starting Solar PV model simulations for Cairo.\n",
      "2024-03-07 23:52:24,207 - INFO - *******************\n",
      "2024-03-07 23:52:24,207 - INFO - Simulating model - PV Size: 1.061kWp, Pitch: 35 degrees, Azimuth -90 degrees WoS\n",
      "2024-03-07 23:52:24,215 - INFO - Simulating model - PV Size: 1.061kWp, Pitch: 35 degrees, Azimuth -45 degrees WoS\n",
      "2024-03-07 23:52:24,223 - INFO - Simulating model - PV Size: 1.061kWp, Pitch: 35 degrees, Azimuth 0 degrees WoS\n",
      "2024-03-07 23:52:24,230 - INFO - Simulating model - PV Size: 1.061kWp, Pitch: 35 degrees, Azimuth 45 degrees WoS\n",
      "2024-03-07 23:52:24,237 - INFO - Simulating model - PV Size: 1.061kWp, Pitch: 35 degrees, Azimuth 90 degrees WoS\n",
      "2024-03-07 23:52:24,243 - INFO - *******************\n",
      "2024-03-07 23:52:24,244 - INFO - Solar PV model simulations for Cairo completed.\n",
      "2024-03-07 23:52:24,273 - INFO - Solar PV model data aggregated.\n",
      "2024-03-07 23:52:24,282 - INFO - Solar PV model data summary for Cairo complete.\n",
      "2024-03-07 23:52:24,283 - INFO -       SUCCESS!      \n",
      "2024-03-07 23:52:24,283 - INFO - *******************\n",
      "2024-03-07 23:52:24,284 - INFO - Starting Solar PV model simulations for Cairo.\n",
      "2024-03-07 23:52:24,284 - INFO - *******************\n",
      "2024-03-07 23:52:24,285 - INFO - Simulating model - PV Size: 1.061kWp, Pitch: 35 degrees, Azimuth 90 degrees WoS\n",
      "2024-03-07 23:52:24,291 - INFO - Simulating model - PV Size: 1.061kWp, Pitch: 35 degrees, Azimuth 0 degrees WoS\n",
      "2024-03-07 23:52:24,299 - INFO - Simulating model - PV Size: 1.061kWp, Pitch: 35 degrees, Azimuth -90 degrees WoS\n",
      "2024-03-07 23:52:24,306 - INFO - *******************\n",
      "2024-03-07 23:52:24,307 - INFO - Solar PV model simulations for Cairo completed.\n",
      "2024-03-07 23:52:24,329 - INFO - Solar PV model data aggregated.\n",
      "2024-03-07 23:52:24,337 - INFO - Solar PV model data summary for Cairo complete.\n",
      "2024-03-07 23:52:24,337 - INFO -       SUCCESS!      \n",
      "2024-03-07 23:52:24,338 - INFO - *******************\n",
      "2024-03-07 23:52:24,338 - INFO - Starting Solar PV model simulations for Abuja.\n",
      "2024-03-07 23:52:24,338 - INFO - *******************\n",
      "2024-03-07 23:52:24,339 - INFO - Simulating model - PV Size: 1.061kWp, Pitch: 35 degrees, Azimuth -90 degrees WoS\n",
      "2024-03-07 23:52:24,346 - INFO - Simulating model - PV Size: 1.061kWp, Pitch: 35 degrees, Azimuth -45 degrees WoS\n",
      "2024-03-07 23:52:24,353 - INFO - Simulating model - PV Size: 1.061kWp, Pitch: 35 degrees, Azimuth 0 degrees WoS\n",
      "2024-03-07 23:52:24,360 - INFO - Simulating model - PV Size: 1.061kWp, Pitch: 35 degrees, Azimuth 45 degrees WoS\n",
      "2024-03-07 23:52:24,367 - INFO - Simulating model - PV Size: 1.061kWp, Pitch: 35 degrees, Azimuth 90 degrees WoS\n",
      "2024-03-07 23:52:24,374 - INFO - *******************\n",
      "2024-03-07 23:52:24,375 - INFO - Solar PV model simulations for Abuja completed.\n",
      "2024-03-07 23:52:24,402 - INFO - Solar PV model data aggregated.\n",
      "2024-03-07 23:52:24,411 - INFO - Solar PV model data summary for Abuja complete.\n",
      "2024-03-07 23:52:24,412 - INFO -       SUCCESS!      \n",
      "2024-03-07 23:52:24,412 - INFO - *******************\n",
      "2024-03-07 23:52:24,413 - INFO - Starting Solar PV model simulations for Abuja.\n",
      "2024-03-07 23:52:24,413 - INFO - *******************\n",
      "2024-03-07 23:52:24,414 - INFO - Simulating model - PV Size: 1.061kWp, Pitch: 35 degrees, Azimuth 90 degrees WoS\n",
      "2024-03-07 23:52:24,421 - INFO - Simulating model - PV Size: 1.061kWp, Pitch: 35 degrees, Azimuth 0 degrees WoS\n",
      "2024-03-07 23:52:24,428 - INFO - Simulating model - PV Size: 1.061kWp, Pitch: 35 degrees, Azimuth -90 degrees WoS\n",
      "2024-03-07 23:52:24,435 - INFO - *******************\n",
      "2024-03-07 23:52:24,436 - INFO - Solar PV model simulations for Abuja completed.\n",
      "2024-03-07 23:52:24,459 - INFO - Solar PV model data aggregated.\n",
      "2024-03-07 23:52:24,465 - INFO - Solar PV model data summary for Abuja complete.\n",
      "2024-03-07 23:52:24,466 - INFO -       SUCCESS!      \n",
      "2024-03-07 23:52:24,466 - INFO - Generating Solar PV model statistical analysis for Belfast.\n",
      "2024-03-07 23:52:24,468 - INFO - Solar PV model statistical analysis for Belfast completed.\n",
      "2024-03-07 23:52:24,469 - INFO - *******************\n",
      "2024-03-07 23:52:24,469 - INFO - Generating Solar PV model statistical analysis for Paris.\n",
      "2024-03-07 23:52:24,471 - INFO - Solar PV model statistical analysis for Paris completed.\n",
      "2024-03-07 23:52:24,472 - INFO - *******************\n",
      "2024-03-07 23:52:24,472 - INFO - Generating Solar PV model statistical analysis for Madrid.\n",
      "2024-03-07 23:52:24,475 - INFO - Solar PV model statistical analysis for Madrid completed.\n",
      "2024-03-07 23:52:24,475 - INFO - *******************\n",
      "2024-03-07 23:52:24,475 - INFO - Generating Solar PV model statistical analysis for Cairo.\n",
      "2024-03-07 23:52:24,477 - INFO - Solar PV model statistical analysis for Cairo completed.\n",
      "2024-03-07 23:52:24,477 - INFO - *******************\n",
      "2024-03-07 23:52:24,478 - INFO - Generating Solar PV model statistical analysis for Abuja.\n",
      "2024-03-07 23:52:24,479 - INFO - Solar PV model statistical analysis for Abuja completed.\n",
      "2024-03-07 23:52:24,480 - INFO - *******************\n"
     ]
    },
    {
     "name": "stdout",
     "output_type": "stream",
     "text": [
      "\n",
      "4741.066 kWh annually - Belfast\n",
      "6158.238 kWh annually - Paris\n",
      "8960.507 kWh annually - Madrid\n",
      "10541.141 kWh annually - Cairo\n",
      "8977.115 kWh annually - Abuja\n"
     ]
    }
   ],
   "source": [
    "from ww_models.PVOnly import Site, SolarPVPanel, SolarPVArray, PV_Only\n",
    "from misc.log_config import configure_logging\n",
    "configure_logging()\n",
    "\n",
    "# Initialise sites to be modelled\n",
    "site_1 = Site(name=\"Belfast\")\n",
    "site_2 = Site(name=\"Paris\", latitude=48.8562, longitude=2.3477)\n",
    "site_3 = Site(name=\"Madrid\", latitude=40.4202, longitude=-3.6988)\n",
    "site_4 = Site(name=\"Cairo\", latitude=30.1098, longitude=-3.6988)\n",
    "site_5 = Site(name=\"Abuja\", latitude=9.0591, longitude=31.2235)\n",
    "\n",
    "sites = [site_1, site_2, site_3, site_4, site_5]\n",
    "\n",
    "# Configure Solar Panels to be used in arrays\n",
    "pv_panel = SolarPVPanel()\n",
    "pv_panel_2 = SolarPVPanel()\n",
    "\n",
    "# Configure Solar Arrays from panels and system characteristics\n",
    "pv_array_1 = SolarPVArray(pv_panel, 3, 35, -90)\n",
    "pv_array_2 = SolarPVArray(pv_panel, 3, 35, -45)\n",
    "pv_array_3 = SolarPVArray(pv_panel, 3, 35, 0)\n",
    "pv_array_4 = SolarPVArray(pv_panel, 3, 35, 45)\n",
    "pv_array_5 = SolarPVArray(pv_panel, 3, 35, 90)\n",
    "\n",
    "pv_array_6 = SolarPVArray(pv_panel_2, 3, 35, 90)\n",
    "pv_array_7 = SolarPVArray(pv_panel_2, 3, 35, 0)\n",
    "pv_array_8 = SolarPVArray(pv_panel_2, 3, 35, -90)\n",
    "\n",
    "# Combine solar arrays into individual systems to be modelled\n",
    "pv_arrays_1 = [pv_array_1, pv_array_2, pv_array_3, pv_array_4, pv_array_5]\n",
    "pv_arrays_2 = [pv_array_6, pv_array_7, pv_array_8]\n",
    "\n",
    "# Add to Project class for further work.\n",
    "project = PV_Only(sites, [pv_arrays_1, pv_arrays_2])\n",
    "\n",
    "print()\n",
    "print(f\"{project.pv_models.Belfast['Belfast_1'].summary.PV_Gen_kWh_Annual:.3f} kWh annually - Belfast\")\n",
    "print(f\"{project.pv_models.Paris['Paris_1'].summary.PV_Gen_kWh_Annual:.3f} kWh annually - Paris\")\n",
    "print(f\"{project.pv_models.Madrid['Madrid_1'].summary.PV_Gen_kWh_Annual:.3f} kWh annually - Madrid\")\n",
    "print(f\"{project.pv_models.Cairo['Cairo_1'].summary.PV_Gen_kWh_Annual:.3f} kWh annually - Cairo\")\n",
    "print(f\"{project.pv_models.Abuja['Abuja_1'].summary.PV_Gen_kWh_Annual:.3f} kWh annually - Abuja\")\n"
   ]
  },
  {
   "cell_type": "code",
   "execution_count": null,
   "metadata": {},
   "outputs": [
    {
     "name": "stdout",
     "output_type": "stream",
     "text": [
      "943.7153500000001\n",
      "1233.6499\n",
      "1826.7363500000001\n",
      "2271.17575\n",
      "2109.4402\n"
     ]
    }
   ],
   "source": [
    "for site in project.site:\n",
    "    print(site.tmy_data[\"G(h)\"].sum()/1000)"
   ]
  },
  {
   "cell_type": "code",
   "execution_count": 24,
   "metadata": {},
   "outputs": [
    {
     "name": "stdout",
     "output_type": "stream",
     "text": [
      "Site Name: Belfast\n",
      "Site Models: ['Belfast_1', 'Belfast_2']\n",
      "Site Name: Paris\n",
      "Site Models: ['Paris_1', 'Paris_2']\n",
      "Site Name: Madrid\n",
      "Site Models: ['Madrid_1', 'Madrid_2']\n",
      "Site Name: Cairo\n",
      "Site Models: ['Cairo_1', 'Cairo_2']\n",
      "Site Name: Abuja\n",
      "Site Models: ['Abuja_1', 'Abuja_2']\n"
     ]
    }
   ],
   "source": [
    "for site in project.pv_models.keys():\n",
    "    print(f\"Site Name: {site}\")\n",
    "    model_indices = project.pv_models[site].keys()\n",
    "    print(f\"Site Models: {list(model_indices)}\")"
   ]
  },
  {
   "cell_type": "code",
   "execution_count": null,
   "metadata": {},
   "outputs": [],
   "source": [
    "project.pv_models.Belfast_1.summary_grouped.daily"
   ]
  },
  {
   "cell_type": "code",
   "execution_count": null,
   "metadata": {},
   "outputs": [],
   "source": [
    "project.pv_models.Belfast_1.summary"
   ]
  },
  {
   "cell_type": "code",
   "execution_count": null,
   "metadata": {},
   "outputs": [],
   "source": [
    "project.pv_models.Abuja_1.summary"
   ]
  },
  {
   "cell_type": "code",
   "execution_count": null,
   "metadata": {},
   "outputs": [],
   "source": []
  },
  {
   "cell_type": "markdown",
   "metadata": {},
   "source": [
    "# ***Example Running Model with variable inputs***"
   ]
  },
  {
   "cell_type": "code",
   "execution_count": null,
   "metadata": {},
   "outputs": [],
   "source": [
    "# Most direct implementation using mainly default values, setting coordinates, and allocating 3 panels @ 35 degrees pitch\n",
    "from solar.SolarPVModel import Site, SolarPVPanel, SolarPVArray, SolarPVModel\n",
    "from misc.log_config import configure_logging\n",
    "\n",
    "configure_logging()\n",
    "site = Site(latitude=54.60452, longitude=-5.92860, size=100)\n",
    "pv_panel = SolarPVPanel()\n",
    "pv_array = SolarPVArray(pv_panel, 3, 35, 83)\n",
    "pv_model = SolarPVModel(site, pv_array)\n",
    "pv_model.summary"
   ]
  },
  {
   "cell_type": "code",
   "execution_count": null,
   "metadata": {},
   "outputs": [],
   "source": [
    "import plotly.express as px\n",
    "\n",
    "px.bar(pv_model.summary_grouped.monthly[[\"E_Beam_kWm2_Avg\", \"E_Diffuse_kWm2_Avg\", \"E_Ground_kWm2_Avg\"]])"
   ]
  },
  {
   "cell_type": "code",
   "execution_count": null,
   "metadata": {},
   "outputs": [],
   "source": [
    "px.bar(pv_model.summary_grouped.weekly[[\"PV_Gen_kWh_Total\", \"IAM_Loss_kWh_Total\", \"PV_Thermal_Loss_kWh_Total\", \"Low_Light_Loss_kWh_Total\"]])"
   ]
  },
  {
   "cell_type": "code",
   "execution_count": null,
   "metadata": {},
   "outputs": [],
   "source": []
  },
  {
   "cell_type": "code",
   "execution_count": null,
   "metadata": {},
   "outputs": [],
   "source": [
    "# More directed implementation\n",
    "# %%timeit\n",
    "\n",
    "import pandas as pd\n",
    "import plotly.express as px\n",
    "import seaborn as sns\n",
    "\n",
    "from meteo.Site import Site\n",
    "from solar.SolarPVPanel import SolarPVPanel\n",
    "from solar.SolarPVArray import SolarPVArray\n",
    "from solar.SolarPVModel import SolarPVModel\n",
    "\n",
    "from misc.log_config import configure_logging\n",
    "\n",
    "configure_logging()\n",
    "pd.options.display.float_format = '{:.3f}'.format\n",
    "\n",
    "# Set up site location and get TMY data\n",
    "name = \"\"\n",
    "address = \"York St, Belfast, BT15 1ED\"\n",
    "client = \"Ulster University\"\n",
    "\n",
    "site = Site(name=name, \n",
    "            address=address, \n",
    "            client=client, \n",
    "            latitude=54.60452, \n",
    "            longitude=-5.92860, \n",
    "            size=100)"
   ]
  },
  {
   "cell_type": "code",
   "execution_count": null,
   "metadata": {},
   "outputs": [],
   "source": [
    "# %%timeit\n",
    "import time\n",
    "import logging\n",
    "start_time = time.time()\n",
    "\n",
    "# Set up PV panel being used\n",
    "pv_panel = SolarPVPanel()\n",
    "\n",
    "# Set up PV arrays\n",
    "num_pv_panels = 4\n",
    "surface_pitch = 35\n",
    "surface_azimuth = -90\n",
    "albedo = 0.2\n",
    "cost_per_kWp = 1250\n",
    "\n",
    "pv_array_1 = SolarPVArray(pv_panel, num_pv_panels, surface_pitch, surface_azimuth, albedo, cost_per_kWp)\n",
    "pv_array_2 = SolarPVArray(pv_panel, num_pv_panels, surface_pitch, -45)\n",
    "pv_array_3 = SolarPVArray(pv_panel, num_pv_panels, surface_pitch, 0)\n",
    "pv_array_4 = SolarPVArray(pv_panel, num_pv_panels, surface_pitch, 45)\n",
    "pv_array_5 = SolarPVArray(pv_panel, num_pv_panels, surface_pitch, 90)\n",
    "\n",
    "pv_arrays = [pv_array_1, pv_array_2, pv_array_3, pv_array_4, pv_array_5]\n",
    "\n",
    "# Run the model\n",
    "pv_model = SolarPVModel(site, pv_arrays)\n",
    "\n",
    "print(\"\")\n",
    "print(f\"{sum(array.pv_kwp for array in pv_model.arrays)}kWp Solar PV modelled\")\n",
    "\n",
    "elapsed_time = time.time() - start_time\n",
    "logging.info(f\"Solar PV model simulations completed in {elapsed_time:.4f} seconds.\")\n"
   ]
  },
  {
   "cell_type": "code",
   "execution_count": null,
   "metadata": {},
   "outputs": [],
   "source": [
    "import plotly.express as px\n",
    "\n",
    "px.bar(pv_model.summary_grouped.hourly[[\"PV_Gen_kWh_Total\", \"IAM_Loss_kWh_Total\", \"PV_Thermal_Loss_kWh_Total\"]])"
   ]
  },
  {
   "cell_type": "code",
   "execution_count": null,
   "metadata": {},
   "outputs": [],
   "source": [
    "px.bar(pv_model.summary_grouped.monthly[[\"E_Beam_kWm2_Avg\", \"E_Diffuse_kWm2_Avg\", \"E_Ground_kWm2_Avg\"]])"
   ]
  },
  {
   "cell_type": "code",
   "execution_count": null,
   "metadata": {},
   "outputs": [],
   "source": [
    "px.line(pv_model.models[0][\"model_result\"][[\"Array_Temp_C\", \"Ambient_Temperature_C\"]])"
   ]
  },
  {
   "cell_type": "code",
   "execution_count": null,
   "metadata": {},
   "outputs": [],
   "source": [
    "px.line(pv_model.summary_grouped.monthly[[\"ET_HRad_kWm2_Avg\", \"E_POA_kWm2_Avg\", \"Panel_POA_kWm2_Avg\"]])"
   ]
  },
  {
   "cell_type": "code",
   "execution_count": null,
   "metadata": {},
   "outputs": [],
   "source": [
    "pv_model.summary"
   ]
  },
  {
   "cell_type": "code",
   "execution_count": null,
   "metadata": {},
   "outputs": [],
   "source": [
    "pv_model.combined_model"
   ]
  },
  {
   "cell_type": "markdown",
   "metadata": {},
   "source": [
    "# ***Visualisation***"
   ]
  },
  {
   "cell_type": "code",
   "execution_count": null,
   "metadata": {},
   "outputs": [],
   "source": [
    "import plotly.express as px\n",
    "import seaborn as sns"
   ]
  },
  {
   "cell_type": "code",
   "execution_count": null,
   "metadata": {},
   "outputs": [],
   "source": [
    "print(f\"PV Gen: {round(pv_model.all_models.PV_Gen_kWh_Array_1.sum(), 3)}kWh\")\n",
    "print(f\"E POA: {round(pv_model.all_models.E_POA_kWm2_Array_1.sum(), 3)}Whm2\")"
   ]
  },
  {
   "cell_type": "code",
   "execution_count": null,
   "metadata": {},
   "outputs": [],
   "source": [
    "px.bar(pv_model.summary_grouped.hourly[[\"PV_Gen_kWh_Total\", \"IAM_Loss_kWh_Total\", \"PV_Thermal_Loss_kWh_Total\", \"Low_Light_Loss_kWh_Total\"]])"
   ]
  },
  {
   "cell_type": "code",
   "execution_count": null,
   "metadata": {},
   "outputs": [],
   "source": [
    "px.bar(pv_model.summary_grouped.monthly[[\"PV_Gen_kWh_Total\", \"IAM_Loss_kWh_Total\", \"PV_Thermal_Loss_kWh_Total\", \"Low_Light_Loss_kWh_Total\"]])"
   ]
  },
  {
   "cell_type": "code",
   "execution_count": null,
   "metadata": {},
   "outputs": [],
   "source": [
    "px.bar(pv_model.summary_grouped.weekly[[\"PV_Gen_kWh_Total\", \"IAM_Loss_kWh_Total\", \"PV_Thermal_Loss_kWh_Total\", \"Low_Light_Loss_kWh_Total\"]])"
   ]
  },
  {
   "cell_type": "code",
   "execution_count": null,
   "metadata": {},
   "outputs": [],
   "source": [
    "px.bar(pv_model.summary_grouped.daily[[\"PV_Gen_kWh_Total\", \"IAM_Loss_kWh_Total\", \"PV_Thermal_Loss_kWh_Total\", \"Low_Light_Loss_kWh_Total\"]])"
   ]
  },
  {
   "cell_type": "code",
   "execution_count": null,
   "metadata": {},
   "outputs": [],
   "source": [
    "px.line(pv_model.models[0][\"model_result\"][[\"Array_Temp_C\", \"Ambient_Temperature_C\"]])\n"
   ]
  },
  {
   "cell_type": "code",
   "execution_count": null,
   "metadata": {},
   "outputs": [],
   "source": [
    "sns.lineplot(pv_model.models[0][\"model_result\"][[\"Array_Temp_C\", \"Ambient_Temperature_C\"]])"
   ]
  },
  {
   "cell_type": "code",
   "execution_count": null,
   "metadata": {},
   "outputs": [],
   "source": [
    "px.line(pv_model.models[0][\"model_result\"][[\"ET_HRad_kWm2\", \"E_POA_kWm2\"]])"
   ]
  },
  {
   "cell_type": "code",
   "execution_count": null,
   "metadata": {},
   "outputs": [],
   "source": [
    "sns.lineplot(pv_model.models[0][\"model_result\"][[\"ET_HRad_kWm2\", \"E_POA_kWm2\"]])"
   ]
  },
  {
   "cell_type": "code",
   "execution_count": null,
   "metadata": {},
   "outputs": [],
   "source": []
  },
  {
   "cell_type": "markdown",
   "metadata": {},
   "source": [
    "# ***VISUAL TESTING***"
   ]
  },
  {
   "cell_type": "code",
   "execution_count": null,
   "metadata": {},
   "outputs": [],
   "source": [
    "variables = ['E_Beam_kWm2', 'E_Diffuse_kWm2', 'E_Ground_kWm2', 'E_POA_kWm2', 'ET_HRad_kWm2', \n",
    "            'Array_Temp_C', 'PV_Gen_kWh', 'AOI', 'Zenith_Angle']\n",
    "\n",
    "testy = pv_model.all_models\n",
    "\n",
    "variable = \"PV_Gen_kWh\"\n",
    "\n",
    "variable_1 = f\"{variable}_Array_1\"\n",
    "variable_2 = f\"{variable}_Array_2\"\n",
    "variable_3 = f\"{variable}_Array_3\"\n",
    "variable_4 = f\"{variable}_Array_4\"\n",
    "variable_7 = f\"{variable}_Total\"\n",
    "variable_8 = f\"{variable}_Avg\"\n",
    "\n",
    "if variable_1 in testy:\n",
    "    sns.lineplot(testy.groupby(\"Hour_of_Day\")[variable_1].mean())\n",
    "if variable_2 in testy:\n",
    "    sns.lineplot(testy.groupby(\"Hour_of_Day\")[variable_2].mean())\n",
    "if variable_3 in testy:\n",
    "    sns.lineplot(testy.groupby(\"Hour_of_Day\")[variable_3].mean())\n",
    "if variable_4 in testy:\n",
    "    sns.lineplot(testy.groupby(\"Hour_of_Day\")[variable_4].mean())\n",
    "if variable_7 in testy:\n",
    "    sns.lineplot(testy.groupby(\"Hour_of_Day\")[variable_7].mean(), alpha=0.4, ls=\"--\")\n",
    "if variable_8 in testy:\n",
    "    sns.lineplot(testy.groupby(\"Hour_of_Day\")[variable_8].mean(), alpha=0.4, ls=\"--\")"
   ]
  },
  {
   "cell_type": "code",
   "execution_count": null,
   "metadata": {},
   "outputs": [],
   "source": [
    "sns.lineplot(pv_model.combined_model[\"Array_Temp_C_Avg\"], alpha = 0.2, ls = \"--\", color = \"orange\")\n",
    "sns.lineplot(pv_model.combined_model[\"Ambient_Temperature_C\"])"
   ]
  },
  {
   "cell_type": "code",
   "execution_count": null,
   "metadata": {},
   "outputs": [],
   "source": [
    "sns.barplot(pv_model.summary_grouped.hourly.Array_Temp_C_Avg)"
   ]
  },
  {
   "cell_type": "code",
   "execution_count": null,
   "metadata": {},
   "outputs": [],
   "source": [
    "sns.lineplot(pv_model.combined_model.groupby(\"Hour_of_Day\")[\"PV_Gen_kWh_Total\"].mean())"
   ]
  },
  {
   "cell_type": "code",
   "execution_count": null,
   "metadata": {},
   "outputs": [],
   "source": [
    "pv_model.all_models[\"PV_Gen_kWh_Total\"].sum()"
   ]
  },
  {
   "cell_type": "code",
   "execution_count": null,
   "metadata": {},
   "outputs": [],
   "source": [
    "pv_model.all_models.columns"
   ]
  },
  {
   "cell_type": "code",
   "execution_count": null,
   "metadata": {},
   "outputs": [],
   "source": [
    "sns.lineplot(pv_model.all_models[\"PV_Thermal_Loss_kWh_Total\"])"
   ]
  },
  {
   "cell_type": "code",
   "execution_count": null,
   "metadata": {},
   "outputs": [],
   "source": [
    "temp_losses = (pv_model.all_models[\"PV_Thermal_Loss_kWh_Total\"].sum() / pv_model.all_models[\"PV_Gen_kWh_Total\"].sum() * 100)\n",
    "\n",
    "print(f\"{round(temp_losses, 3)}% change to power due to temperature losses\")"
   ]
  },
  {
   "cell_type": "code",
   "execution_count": null,
   "metadata": {},
   "outputs": [],
   "source": [
    "pv_model.models[0][\"model_result\"]"
   ]
  },
  {
   "cell_type": "code",
   "execution_count": null,
   "metadata": {},
   "outputs": [],
   "source": [
    "pv_model.all_models"
   ]
  },
  {
   "cell_type": "code",
   "execution_count": null,
   "metadata": {},
   "outputs": [],
   "source": [
    "pv_model.summary"
   ]
  },
  {
   "cell_type": "code",
   "execution_count": null,
   "metadata": {},
   "outputs": [],
   "source": [
    "pv_model.summary_grouped.daily"
   ]
  },
  {
   "cell_type": "code",
   "execution_count": null,
   "metadata": {},
   "outputs": [],
   "source": [
    "pv_model.summary"
   ]
  },
  {
   "cell_type": "code",
   "execution_count": null,
   "metadata": {},
   "outputs": [],
   "source": [
    "pv_model.summary_grouped.monthly"
   ]
  },
  {
   "cell_type": "code",
   "execution_count": null,
   "metadata": {},
   "outputs": [],
   "source": []
  },
  {
   "cell_type": "code",
   "execution_count": null,
   "metadata": {},
   "outputs": [],
   "source": []
  },
  {
   "cell_type": "code",
   "execution_count": null,
   "metadata": {},
   "outputs": [],
   "source": []
  },
  {
   "cell_type": "markdown",
   "metadata": {},
   "source": [
    "# ***EXPERIMENTAL***"
   ]
  },
  {
   "cell_type": "markdown",
   "metadata": {},
   "source": [
    "# Low Light Losses Visualisation Test"
   ]
  },
  {
   "cell_type": "code",
   "execution_count": null,
   "metadata": {},
   "outputs": [],
   "source": [
    "import numpy as np\n",
    "import plotly.express as px\n",
    "\n",
    "# Define the modified logistic function\n",
    "def calc_low_light_losses(pv_kwp, e_poa, k=0.0075, midpoint=25):\n",
    "    \"\"\"\n",
    "    Modified logistic function to calculate efficiency based on irradiance,\n",
    "    with a minimum efficiency level.\n",
    "\n",
    "    Parameters:\n",
    "    pv_kwp (float): The rated solar PV size (kWp).\n",
    "    e_poa (float): The irradiance incident on array (W/m2).\n",
    "    k (float): The steepness of the curve.\n",
    "    midpoint (float): The irradiance at which the efficiency is at its midpoint.\n",
    "\n",
    "    Returns:\n",
    "    float: The calculated efficiency at the given irradiance.\n",
    "    \"\"\"\n",
    "    pv_kwp_min = pv_kwp * 0.6\n",
    "    eff = pv_kwp_min + (pv_kwp - pv_kwp_min) / (1 + np.exp(-k * (e_poa - midpoint)))\n",
    "    return eff\n",
    "\n",
    "\n",
    "# Generate a range of irradiance values from 0 to 1000 W/m2 and set L to 1 kWp\n",
    "L = 1\n",
    "irradiance_range = np.linspace(0, 1000, 1001)\n",
    "efficiencies = calc_low_light_losses(L, irradiance_range)\n",
    "\n",
    "# Plot Graph of results\n",
    "fig = px.line(efficiencies[:], y=efficiencies[:], x = irradiance_range[:])\n",
    "\n",
    "fig.update_layout(xaxis_title=\"Irradiation (W/m2)\", yaxis_title=\"kWp Output\",\n",
    "                  title = \"Line graph showing PV kWp output due to low irradiance losses\")"
   ]
  },
  {
   "cell_type": "code",
   "execution_count": null,
   "metadata": {},
   "outputs": [],
   "source": [
    "calc_low_light_losses(1, 200)"
   ]
  },
  {
   "cell_type": "code",
   "execution_count": null,
   "metadata": {},
   "outputs": [],
   "source": [
    "px.bar(pv_model.summary_grouped.monthly[[\"PV_Gen_kWh_Total\", \"IAM_Loss_kWh_Total\", \n",
    "                                         \"PV_Thermal_Loss_kWh_Total\", \"Low_Light_Loss_kWh_Total\"]])"
   ]
  },
  {
   "cell_type": "code",
   "execution_count": null,
   "metadata": {},
   "outputs": [],
   "source": [
    "pv_model.summary_grouped.hourly.columns"
   ]
  },
  {
   "cell_type": "code",
   "execution_count": null,
   "metadata": {},
   "outputs": [],
   "source": []
  },
  {
   "cell_type": "code",
   "execution_count": null,
   "metadata": {},
   "outputs": [],
   "source": []
  },
  {
   "cell_type": "markdown",
   "metadata": {},
   "source": [
    "# Temperature Tests"
   ]
  },
  {
   "cell_type": "code",
   "execution_count": null,
   "metadata": {},
   "outputs": [],
   "source": [
    "import math\n",
    "\n",
    "def calc_array_temp_homer(\n",
    "    e_poa,\n",
    "    ambient_temp,\n",
    "    cell_temp_coeff=-0.0035,\n",
    "    electrical_eff=0.21,\n",
    "    cell_NOCT=42,\n",
    "    ambient_NOCT=20,\n",
    "    e_poa_NOCT=800,\n",
    "    cell_temp_STC=25,\n",
    "    transmittance_absorptance=0.9,\n",
    "):\n",
    "    \"\"\"Calculates the cell temperature of a PV panel.\n",
    "\n",
    "    Parameters:\n",
    "    - e_poa: Plane of array irradiance in kW/m^2.\n",
    "    - ambient_temp: Ambient temperature in degrees Celsius.\n",
    "    - cell_temp_coeff: Temperature coefficient of the PV cell.\n",
    "    - electrical_eff: Electrical efficiency of the PV panel.\n",
    "    - cell_NOCT, ambient_NOCT: Nominal operating cell temperature and the corresponding ambient temperature.\n",
    "    - e_poa_NOCT: Irradiance at NOCT conditions in W/m^2.\n",
    "    - cell_temp_STC: Cell temperature at standard test conditions in degrees Celsius.\n",
    "    - transmittance_absorptance: Transmittance and absorptance product of the PV panel.\n",
    "\n",
    "    Returns:\n",
    "    - Cell temperature of the PV panel.\n",
    "    \"\"\"\n",
    "    temp_factor = (cell_NOCT - ambient_NOCT) * ((e_poa * 1000) / e_poa_NOCT)\n",
    "    numerator = ambient_temp + temp_factor * (\n",
    "        1\n",
    "        - (electrical_eff * (1 - cell_temp_coeff * cell_temp_STC))\n",
    "        / transmittance_absorptance\n",
    "    )\n",
    "    denominator = 1 + temp_factor * (\n",
    "        cell_temp_coeff * electrical_eff / transmittance_absorptance\n",
    "    )\n",
    "\n",
    "    return numerator / denominator\n",
    "\n",
    "\n",
    "def calc_array_temp_pvsyst(e_poa, ambient_temp, windspeed, uc=29, uv=1.2):\n",
    "    u = uc + (uv * windspeed)\n",
    "    tcell = ambient_temp + (1/u) * (0.9 * e_poa * 1000 * (1-0.21))\n",
    "    return tcell\n",
    "\n",
    "def calc_array_temp_sandia(e_poa: float, ambient_temp: float, wind_speed: float, \n",
    "                           a: float = -3.47, b: float = -0.0594) -> float:\n",
    "    \"\"\"\n",
    "    Calculate the temperature of a photovoltaic (PV) array based on the Sandia method.\n",
    "    \n",
    "    Parameters:\n",
    "    - e_poa (float): Plane of array irradiance in kW/m^2. Represents the solar irradiance incident on the PV array.\n",
    "    - ambient_temp (float): Ambient temperature in degrees Celsius.\n",
    "    - wind_speed (float): Wind speed in m/s at the site of the PV array.\n",
    "    - a (float): Coefficient a in the exponential model, defaulting to -3.47.\n",
    "    - b (float): Coefficient b in the exponential model, defaulting to -0.0594.\n",
    "    \n",
    "    Returns:\n",
    "    - float: Estimated temperature of the PV array in degrees Celsius.\n",
    "    \"\"\"\n",
    "    array_temp = e_poa * 1000 * math.exp(a + b * wind_speed) + ambient_temp\n",
    "    return array_temp\n",
    "\n",
    "def calc_array_temp_faiman(e_poa, ambient_temp, wind_speed, U_0=25, U_1=6.84):\n",
    "    array_temp = ambient_temp + (e_poa * 1000 / (U_0 + U_1 * wind_speed))\n",
    "    return array_temp\n",
    "\n",
    "\n",
    "# Example usage:\n",
    "e_poa=0.5\n",
    "ambient_temp=25\n",
    "wind_speed=1\n",
    "\n",
    "list_1 = []\n",
    "list_2 = []\n",
    "list_3 = []\n",
    "list_4 = []\n",
    "list_5 = []\n",
    "\n",
    "\n",
    "print(\"\")\n",
    "wind_speed=10\n",
    "for i in range(1):\n",
    "    cell_temperature = calc_array_temp_homer(e_poa, ambient_temp)\n",
    "    print(f\"The cell temperature is {cell_temperature:.2f}°C from the Homer model with {wind_speed}m/s windspeed\")\n",
    "    list_2.append(cell_temperature)\n",
    "    wind_speed += 1\n",
    "\n",
    "print(\"\")\n",
    "wind_speed=0\n",
    "for i in range(26):\n",
    "    cell_temperature = calc_array_temp_pvsyst(e_poa, ambient_temp, wind_speed)\n",
    "    print(f\"The cell temperature is {cell_temperature:.2f}°C from the PVSyst model with {wind_speed}m/s windspeed\")\n",
    "    list_3.append(cell_temperature)\n",
    "    wind_speed += 1\n",
    "\n",
    "print(\"\")\n",
    "wind_speed=0\n",
    "for i in range(26):\n",
    "    cell_temperature = calc_array_temp_sandia(e_poa, ambient_temp, wind_speed)\n",
    "    print(f\"The cell temperature is {cell_temperature:.2f}°C from the Sandia model with {wind_speed}m/s windspeed\")\n",
    "    list_4.append(cell_temperature)\n",
    "    wind_speed += 1\n",
    "\n",
    "print(\"\")\n",
    "wind_speed=0\n",
    "for i in range(26):\n",
    "    cell_temperature = calc_array_temp_faiman(e_poa, ambient_temp, wind_speed)\n",
    "    print(f\"The cell temperature is {cell_temperature:.2f}°C from the Faiman model with {wind_speed}m/s windspeed\")\n",
    "    list_5.append(cell_temperature)\n",
    "    wind_speed += 1"
   ]
  },
  {
   "cell_type": "code",
   "execution_count": null,
   "metadata": {},
   "outputs": [],
   "source": [
    "%%timeit\n",
    "cell_temperature = calc_array_temp_homer(e_poa, ambient_temp)"
   ]
  },
  {
   "cell_type": "code",
   "execution_count": null,
   "metadata": {},
   "outputs": [],
   "source": [
    "%%timeit\n",
    "cell_temperature = calc_array_temp_faiman(e_poa, ambient_temp, wind_speed)"
   ]
  },
  {
   "cell_type": "code",
   "execution_count": null,
   "metadata": {},
   "outputs": [],
   "source": [
    "%%timeit\n",
    "cell_temperature = calc_array_temp_sandia(e_poa, ambient_temp, wind_speed)"
   ]
  },
  {
   "cell_type": "code",
   "execution_count": null,
   "metadata": {},
   "outputs": [],
   "source": [
    "%%timeit\n",
    "cell_temperature = calc_array_temp_pvsyst(e_poa, ambient_temp, wind_speed)"
   ]
  },
  {
   "cell_type": "code",
   "execution_count": null,
   "metadata": {},
   "outputs": [],
   "source": []
  }
 ],
 "metadata": {
  "kernelspec": {
   "display_name": "Python 3",
   "language": "python",
   "name": "python3"
  },
  "language_info": {
   "codemirror_mode": {
    "name": "ipython",
    "version": 3
   },
   "file_extension": ".py",
   "mimetype": "text/x-python",
   "name": "python",
   "nbconvert_exporter": "python",
   "pygments_lexer": "ipython3",
   "version": "3.11.8"
  }
 },
 "nbformat": 4,
 "nbformat_minor": 2
}
