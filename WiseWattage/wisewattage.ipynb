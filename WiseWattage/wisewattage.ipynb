{
 "cells": [
  {
   "cell_type": "markdown",
   "metadata": {},
   "source": [
    "# ***MAIN FUNCTIONALITY***"
   ]
  },
  {
   "cell_type": "code",
   "execution_count": 1,
   "metadata": {},
   "outputs": [],
   "source": [
    "from dataclasses import dataclass, field\n",
    "from typing import List, Dict\n",
    "from functools import lru_cache\n",
    "import logging\n",
    "\n",
    "import pandas as pd\n",
    "import plotly.express as px\n",
    "import plotly.io as pio\n",
    "\n",
    "from meteo.jrc_tmy import get_jrc_tmy\n",
    "from solar.solar_pv_model import calc_solar_model, combine_array_results\n",
    "from solar.solar_pv_model import total_array_results, pv_stats, pv_stats_grouped, SummaryGrouped\n",
    "\n",
    "import matplotlib.pyplot as plt\n",
    "import seaborn as sns\n",
    "\n",
    "# Configure logging\n",
    "logger = logging.getLogger()  # Get the root logger\n",
    "logger.setLevel(logging.INFO)  # Set the default log level\n",
    "\n",
    "# Create a file handler for writing logs to a file\n",
    "file_handler = logging.FileHandler('WattSunandHomes.log', mode='a')\n",
    "file_handler.setFormatter(logging.Formatter('%(asctime)s - %(levelname)s - %(message)s'))\n",
    "\n",
    "# Create a stream handler for writing logs to the terminal\n",
    "stream_handler = logging.StreamHandler()\n",
    "stream_handler.setFormatter(logging.Formatter('%(asctime)s - %(levelname)s - %(message)s'))\n",
    "\n",
    "# Add both handlers to the logger\n",
    "logger.addHandler(file_handler)\n",
    "logger.addHandler(stream_handler)\n",
    "\n",
    "\n",
    "def main():\n",
    "    pass\n",
    "\n",
    "@dataclass\n",
    "class Site:\n",
    "    name: str = \"\"\n",
    "    address: str = \"\"\n",
    "    client: str = \"\"\n",
    "    latitude: float = 54.60452\n",
    "    longitude: float = -5.92860\n",
    "    tmz_hrs_east: int = 0\n",
    "    tmy_data: pd.DataFrame = field(default=None, init=False)\n",
    "\n",
    "    def __post_init__(self):\n",
    "        self.tmy_data = get_jrc_tmy_cached(self.latitude, self.longitude)\n",
    "        logging.info(f'TMY data obtained for: {self.latitude}, longitude: {self.longitude}')\n",
    "        logging.info(\"*******************\")\n",
    "\n",
    "@lru_cache(maxsize=None)  # Cache TMY results\n",
    "def get_jrc_tmy_cached(latitude, longitude):\n",
    "    logging.info(f'Fetching TMY data for latitude: {latitude}, longitude: {longitude}')\n",
    "    return get_jrc_tmy(latitude, longitude)\n",
    "\n",
    "\n",
    "@dataclass\n",
    "class SolarPVArray:\n",
    "    pv_kwp: float = 1\n",
    "    surface_pitch: float = 35\n",
    "    surface_azimuth: float = 0\n",
    "    lifespan: float = 25\n",
    "    pv_eol_derating: float = 0.88\n",
    "    cost_per_kWp: float = 1250\n",
    "    electrical_eff: float = 0.21\n",
    "    cell_temp_coeff: float = -0.0035\n",
    "    transmittance_absorptance: float = 0.9\n",
    "    refraction_index: float = 0.1\n",
    "    cell_NOCT: float = 42\n",
    "    ambient_NOCT: float = 20\n",
    "    e_poa_NOCT: float = 800\n",
    "    e_poa_STC: float = 1000\n",
    "    cell_temp_STC: float = 25\n",
    "\n",
    "\n",
    "@dataclass\n",
    "class SolarPVModel:\n",
    "    site: Site\n",
    "    arrays: List[SolarPVArray]\n",
    "    models: List[Dict] = field(default_factory=list)\n",
    "    all_models: pd.DataFrame = field(default=None, init=False)\n",
    "    combined_model: pd.DataFrame = field(default=None, init=False)\n",
    "    summary: pd.DataFrame = field(default=None, init=False)\n",
    "    summary_grouped: SummaryGrouped = field(default=None, init=False)\n",
    "    albedo: float = 0.2\n",
    "    timestep: int = 60\n",
    "\n",
    "    def __post_init__(self):\n",
    "        self.model_solar_pv()\n",
    "        self.summary = pv_stats(self.all_models, self.arrays)\n",
    "        logging.info(\"Model statistical analysis completed.\")\n",
    "        self.summary_grouped = pv_stats_grouped(self.all_models)\n",
    "        logging.info(\"Model statistical grouping completed.\")\n",
    "        logging.info(\"*******************\")\n",
    "\n",
    "    # Function to run solar PV model and save to results, all_models and combined_model\n",
    "    def model_solar_pv(self):\n",
    "        logging.info(\"*******************\")\n",
    "        logging.info(\"Starting model calculations for SolarPVModel.\")\n",
    "        logging.info(\"*******************\")\n",
    "        models = []\n",
    "        for array in self.arrays:\n",
    "            log_message = (f\"Simulating model for {array.pv_kwp}kWp, {array.surface_pitch} degrees pitch \"\n",
    "               f\"& azimuth at {array.surface_azimuth} degrees WoS\")\n",
    "            logging.info(log_message)\n",
    "            result = calc_solar_model(self.site.tmy_data, self.site.latitude, self.site.longitude,\n",
    "                                      array.pv_kwp, array.surface_pitch, array.surface_azimuth,\n",
    "                                      array.lifespan, array.pv_eol_derating, array.electrical_eff,\n",
    "                                      self.albedo, array.cell_temp_coeff, array.transmittance_absorptance,\n",
    "                                      array.refraction_index, array.cell_NOCT, array.ambient_NOCT,\n",
    "                                      array.e_poa_NOCT, array.e_poa_STC, array.cell_temp_STC, self.timestep,\n",
    "                                      self.site.tmz_hrs_east)\n",
    "            models.append({\"array_specs\": array, \"model_result\": result})\n",
    "        logging.info(\"*******************\")\n",
    "        logging.info(\"Model calculations completed.\")\n",
    "        self.models = models\n",
    "        self.all_models = combine_array_results(models)\n",
    "        logging.info(\"Model data aggregated.\")\n",
    "        self.combined_model = total_array_results(models)\n",
    "        logging.info(\"Model data summary complete.\")\n",
    "        logging.info(\"*******************\")\n",
    "\n",
    "    def save_model_csv(self):\n",
    "        if self.all_models is not None:\n",
    "            self.all_models.to_csv(f\"Solar_Modelling_{self.site.name}_Combined.csv\")\n",
    "            logging.info(\"Model data saved to csv file completed.\")\n",
    "        logging.info(\"*******************\")\n",
    "\n",
    "    # Returns model for # array at # index location in results\n",
    "    def array_model(self, n):\n",
    "        try:\n",
    "            return self.models[n][\"model_result\"]\n",
    "        except IndexError:\n",
    "            return f\"There was no model at index {n}, check the number of arrays modelled and try again.\"\n",
    "\n",
    "\n",
    "    def model_summary_html_export(self, freq=None, grouped=True):\n",
    "        org_col_grouped = [\"PV_Gen_kWh_Total\", \"Panel_POA_kWm2_Total\", \"IAM_Loss_kWm2_Total\", \"PV_Thermal_Loss_kWh_Total\",\n",
    "                            \"ET_HRad_kWm2_Total\", \"E_Beam_kWm2_Total\", \"E_Diffuse_kWm2_Total\", \"E_Ground_kWm2_Total\",\n",
    "                            \"Cell_Temp_C_Avg\", \"T2m\"]\n",
    "        new_col_grouped = [\"PV Generation (kWh)\", \"POA Radiation (kWh)\", \"AOI Losses (kWh)\", \"Thermal Losses (kWh)\",\n",
    "                   \"ET Horizontal Radiation\", \"Beam Radiation (kWh)\", \"Diffuse Radiation (kWh)\", \"Ground Radiation (kWh)\",\n",
    "                   \"Average Cell Temperature (C)\", \"Average Ambient Temp (C)\"]\n",
    "\n",
    "        org_col_summary = [\"PV_Gen_kWh_Annual\", \"PV_Gen_kWh_Lifetime\", \"E_POA_kWm2_Annual\", \"Panel_POA_kWm2_Annual\",\n",
    "                           \"IAM_Loss_kWm2_Annual\", \"PV_Thermal_Loss_kWh_Annual\", \"E_Beam_kWm2_Annual\", \"E_Diffuse_kWm2_Annual\",\n",
    "                           \"E_Ground_kWm2_Annual\", \"ET_HRad_kWm2_Annual\", \"Cell_Temp_C_Avg\", \"T2m_Avg\"]\n",
    "        new_col_summary = [\"PV Generation (kWh)\", \"Lifetime PV Generation (kWh)\", \"E POA (kWhm2)\", \"Panel POA (kWhm2)\",\n",
    "                   \"AOI Reflected Loss (kWhm2)\", \"PV Thermal Loss (kWh)\", \"Beam Radiation (kWhm2)\", \"Diffuse Radiation (kWhm2)\",\n",
    "                   \"Ground Radiation (kWhm2)\",\"Average Cell Temperature (C)\", \"Average Ambient Temp (C)\"]\n",
    "\n",
    "        if grouped==True:\n",
    "            data = getattr(self.summary_grouped, freq, None)\n",
    "            data_new = data[org_col_grouped].copy()\n",
    "            data_new.columns = new_col_grouped\n",
    "            data_html = data_new.to_html()\n",
    "            return data_html\n",
    "        else:\n",
    "            data = self.summary\n",
    "            data_new = data[org_col_summary].copy()\n",
    "            index_mapping = dict(zip(org_col_summary, new_col_summary))\n",
    "            data_new = data_new.rename(index=index_mapping)\n",
    "            data_dict = data_new.to_dict()\n",
    "            return data_dict\n",
    "\n",
    "\n",
    "\n",
    "    def plot_model(self, params, model_index=0, plot_type=\"line\"):\n",
    "        model_df = self.models[model_index][\"model_result\"]\n",
    "\n",
    "        if params and all(param in model_df.columns for param in params):\n",
    "            # Dynamically select the Plotly Express plotting function based on plot_type\n",
    "            plot_func = getattr(px, plot_type.lower(), None)\n",
    "\n",
    "            if plot_func:\n",
    "                # Call the plotting function dynamically\n",
    "                fig = plot_func(model_df, x=model_df.index, y=params[:],\n",
    "                                title=f\"Chart showing modelled value for {params} over a year.\")\n",
    "                return fig\n",
    "            else:\n",
    "                print(f\"Plot type '{plot_type}' is not supported. Please define a valid plot type e.g., 'line', 'bar'.\")\n",
    "        else:\n",
    "            print(\"Error: Invalid parameters or parameters not found in DataFrame columns.\")\n",
    "\n",
    "\n",
    "    def plot_combined(self, params, plot_type=\"line\"):\n",
    "        # Ensure the DataFrame 'combined_model' has the columns specified in 'params'\n",
    "        if params and all(param in self.combined_model.columns for param in params):\n",
    "            # Dynamically select the Plotly Express plotting fuction based on plot_type\n",
    "            plot_func = getattr(px, plot_type.lower(), None)\n",
    "\n",
    "            if plot_func:\n",
    "                # Call the plotting function dynamically\n",
    "                fig = plot_func(self.combined_model, x=self.combined_model.index, y=params[:],\n",
    "                                title=f\"Chart showing aggregated modelled {params} over a year.\")\n",
    "                return fig\n",
    "            else:\n",
    "                print(f\"Plot type '{plot_type}' is not supported. Please define a valid plot type e.g., 'line', 'bar'.\")\n",
    "        else:\n",
    "            print(\"Error: Invalid parameters or parameters not found in DataFrame columns.\")\n",
    "\n",
    "\n",
    "    def plot_sum(self, params, group=\"daily\", plot_type=\"line\"):\n",
    "        # Dynamically get the group DataFrame based on the 'group' string parameter\n",
    "        group_df = getattr(self.summary_grouped, group, None)\n",
    "\n",
    "        # Check if the group DataFrame exists and has the specified columns\n",
    "        if group_df is not None and params and all(param in group_df.columns for param in params):\n",
    "            # Dynamically select the Plotly Express plotting function based on plot_type\n",
    "            plot_func = getattr(px, plot_type, None)\n",
    "\n",
    "            if plot_func:\n",
    "                # Call the plotting function dynamically\n",
    "                fig = plot_func(group_df, x=group_df.index, y=params[:],\n",
    "                                title=f\"Chart showing modelled {params} grouped by {group} values.\")\n",
    "                return fig\n",
    "            else:\n",
    "                print(f\"Plot type '{plot_type}' is not supported. Please define a valid plot type e.g., 'line', 'bar'.\")\n",
    "        else:\n",
    "            print(\"Error: Invalid parameters, group not found, or parameters not found in DataFrame columns.\")\n",
    "\n",
    "\n",
    "if __name__ == \"__main__\":\n",
    "    main()\n"
   ]
  },
  {
   "cell_type": "markdown",
   "metadata": {},
   "source": [
    "# **Example of running model with minimal input**"
   ]
  },
  {
   "cell_type": "code",
   "execution_count": 2,
   "metadata": {},
   "outputs": [
    {
     "name": "stderr",
     "output_type": "stream",
     "text": [
      "2024-02-15 19:47:57,164 - INFO - Fetching TMY data for latitude: 54.60452, longitude: -5.9286\n",
      "2024-02-15 19:47:58,345 - INFO - HTTP Request: GET https://re.jrc.ec.europa.eu/api/tmy?lat=54.60452&lon=-5.9286&startyear=2005&endyear=2015&outputformat=json \"HTTP/1.1 200 OK\"\n",
      "2024-02-15 19:47:59,131 - INFO - TMY data obtained for: 54.60452, longitude: -5.9286\n",
      "2024-02-15 19:47:59,131 - INFO - *******************\n",
      "2024-02-15 19:47:59,132 - INFO - *******************\n",
      "2024-02-15 19:47:59,132 - INFO - Starting model calculations for SolarPVModel.\n",
      "2024-02-15 19:47:59,132 - INFO - *******************\n",
      "2024-02-15 19:47:59,133 - INFO - Simulating model for 3.2kWp, 35 degrees pitch & azimuth at 83 degrees WoS\n",
      "2024-02-15 19:47:59,163 - INFO - *******************\n",
      "2024-02-15 19:47:59,164 - INFO - Model calculations completed.\n",
      "2024-02-15 19:47:59,182 - INFO - Model data aggregated.\n",
      "2024-02-15 19:47:59,187 - INFO - Model data summary complete.\n",
      "2024-02-15 19:47:59,188 - INFO - *******************\n",
      "2024-02-15 19:47:59,189 - INFO - Model statistical analysis completed.\n",
      "2024-02-15 19:47:59,204 - INFO - Model statistical grouping completed.\n",
      "2024-02-15 19:47:59,205 - INFO - *******************\n"
     ]
    },
    {
     "data": {
      "text/plain": [
       "Text(0.5, 1.0, 'PV Cell Temperature VS Air Temperature')"
      ]
     },
     "execution_count": 2,
     "metadata": {},
     "output_type": "execute_result"
    },
    {
     "data": {
      "image/png": "[encoded data removed]",
      "text/plain": [
       "<Figure size 640x480 with 1 Axes>"
      ]
     },
     "metadata": {},
     "output_type": "display_data"
    }
   ],
   "source": [
    "# Initialize the site object and obtain TMY data\n",
    "testy_site = Site(latitude=54.60452, longitude=-5.92860)\n",
    "testy_array_1 = [SolarPVArray(3.2, 35, 83)]\n",
    "testy_pv_model = SolarPVModel(site=testy_site, arrays=testy_array_1)\n",
    "\n",
    "sns.lineplot(testy_pv_model.models[0][\"model_result\"][[\"Cell_Temp_C\", \"T2m\"]]).set_title(\"PV Cell Temperature VS Air Temperature\")"
   ]
  },
  {
   "cell_type": "markdown",
   "metadata": {},
   "source": [
    "# ***Example Running Model with variable inputs***"
   ]
  },
  {
   "cell_type": "code",
   "execution_count": null,
   "metadata": {},
   "outputs": [],
   "source": [
    "# Initialize the site object and obtain TMY data\n",
    "site = Site(name=\"Test Site\", address = \"123 Test Street\", client = \"Big Gerry\", \n",
    "            latitude=54.60452, longitude=-5.92860, tmz_hrs_east = 0)"
   ]
  },
  {
   "cell_type": "code",
   "execution_count": null,
   "metadata": {},
   "outputs": [],
   "source": [
    "# %%timeit\n",
    "\n",
    "\"\"\"\n",
    "    Current Hierarchy: Site --> SolarPVArray --> SolarPVModel\n",
    "\"\"\"\n",
    "pv_kwp = 1\n",
    "surface_pitch = 35\n",
    "surface_azimuth = 83\n",
    "\n",
    "surface_azimuth_2 = -45\n",
    "surface_azimuth_3 = 0\n",
    "surface_azimuth_4 = 45\n",
    "\n",
    "lifespan = 25\n",
    "pv_eol_derating = 0.88\n",
    "cost_per_kWp: float = 1250\n",
    "electrical_eff: float = 0.21\n",
    "cell_temp_coeff: float = -0.0035\n",
    "transmittance_absorptance: float = 0.9\n",
    "\n",
    "refraction_index:float = 0.1\n",
    "cell_NOCT: float = 42\n",
    "ambient_NOCT: float = 20\n",
    "e_poa_NOCT: float = 800\n",
    "e_poa_STC: float = 1000\n",
    "cell_temp_STC: float = 25\n",
    "\n",
    "\n",
    "# Initialize multiple PV array objects for more than one surface plane. First array is typical example\n",
    "array_1 = SolarPVArray(pv_kwp, surface_pitch, surface_azimuth, lifespan, pv_eol_derating,\n",
    "                       cost_per_kWp, electrical_eff, cell_temp_coeff, transmittance_absorptance)\n",
    "\n",
    "array_2 = SolarPVArray(pv_kwp, surface_pitch, surface_azimuth_2)\n",
    "array_3 = SolarPVArray(pv_kwp, surface_pitch, surface_azimuth_3)\n",
    "array_4 = SolarPVArray(pv_kwp, surface_pitch, surface_azimuth_4)\n",
    "\n",
    "\n",
    "# [array_1, array_2, array_3, array_4] , [array_1]\n",
    "# Initialize and run the SolarPVModel with all arrays\n",
    "arrays = [array_1, array_2, array_3, array_4]           \n",
    "pv_model = SolarPVModel(site=site, arrays=arrays)\n",
    "\n",
    "# pv_model.combined_results\n",
    "# pv_model.save_model_csv()\n",
    "# pv_model.array_model(3)\n",
    "# pv_model.models\n",
    "# pv_model.all_models\n",
    "# pv_model.combined_models\n",
    "# pv_models.summary\n",
    "# pv_model.summary_grouped.daily"
   ]
  },
  {
   "cell_type": "code",
   "execution_count": null,
   "metadata": {},
   "outputs": [],
   "source": [
    "from plotly.offline import plot\n",
    "\n",
    "pv_model.plot_sum([\"T2m\", \"Cell_Temp_C_Avg\"], group=\"daily\", plot_type=\"bar\")\n"
   ]
  },
  {
   "cell_type": "code",
   "execution_count": null,
   "metadata": {},
   "outputs": [],
   "source": [
    "pv_model.array_model(1).head()"
   ]
  },
  {
   "cell_type": "code",
   "execution_count": null,
   "metadata": {},
   "outputs": [],
   "source": [
    "pv_model.all_models.PV_Gen_kWh_Array_1.sum()"
   ]
  },
  {
   "cell_type": "code",
   "execution_count": null,
   "metadata": {},
   "outputs": [],
   "source": [
    "pv_model.all_models.E_POA_kWm2_Array_1.sum()"
   ]
  },
  {
   "cell_type": "code",
   "execution_count": null,
   "metadata": {},
   "outputs": [],
   "source": [
    "pv_model.summary_grouped.hourly.columns"
   ]
  },
  {
   "cell_type": "code",
   "execution_count": null,
   "metadata": {},
   "outputs": [],
   "source": [
    "px.bar(pv_model.summary_grouped.hourly[[\"PV_Gen_kWh_Total\", \"IAM_Loss_kWm2_Total\", \"PV_Thermal_Loss_kWh_Total\"]])"
   ]
  },
  {
   "cell_type": "code",
   "execution_count": null,
   "metadata": {},
   "outputs": [],
   "source": [
    "px.bar(pv_model.summary_grouped.monthly[[\"PV_Gen_kWh_Total\", \"IAM_Loss_kWm2_Total\", \"PV_Thermal_Loss_kWh_Total\"]])"
   ]
  },
  {
   "cell_type": "code",
   "execution_count": null,
   "metadata": {},
   "outputs": [],
   "source": [
    "px.bar(pv_model.summary_grouped.weekly[[\"PV_Gen_kWh_Total\", \"IAM_Loss_kWm2_Total\", \"PV_Thermal_Loss_kWh_Total\"]])"
   ]
  },
  {
   "cell_type": "code",
   "execution_count": null,
   "metadata": {},
   "outputs": [],
   "source": [
    "px.bar(pv_model.summary_grouped.daily[[\"PV_Gen_kWh_Total\", \"IAM_Loss_kWm2_Total\", \"PV_Thermal_Loss_kWh_Total\"]])"
   ]
  },
  {
   "cell_type": "code",
   "execution_count": null,
   "metadata": {},
   "outputs": [],
   "source": [
    "px.bar(pv_model.summary_grouped.hourly[[\"E_POA_kWm2_Total\", \"Panel_POA_kWm2_Total\", \"PV_Gen_kWh_Total\", \"IAM_Loss_kWm2_Total\", \"PV_Thermal_Loss_kWh_Total\"]])"
   ]
  },
  {
   "cell_type": "code",
   "execution_count": null,
   "metadata": {},
   "outputs": [],
   "source": [
    "px.bar(pv_model.summary_grouped.monthly[[\"E_POA_kWm2_Total\", \"Panel_POA_kWm2_Total\", \"PV_Gen_kWh_Total\", \"IAM_Loss_kWm2_Total\", \"PV_Thermal_Loss_kWh_Total\"]])"
   ]
  },
  {
   "cell_type": "code",
   "execution_count": null,
   "metadata": {},
   "outputs": [],
   "source": [
    "px.line(pv_model.models[0][\"model_result\"][[\"Cell_Temp_C\", \"T2m\"]])\n"
   ]
  },
  {
   "cell_type": "code",
   "execution_count": null,
   "metadata": {},
   "outputs": [],
   "source": [
    "px.line(pv_model.models[0][\"model_result\"][[\"ET_HRad_kWm2\", \"E_POA_kWm2\"]])"
   ]
  },
  {
   "cell_type": "code",
   "execution_count": null,
   "metadata": {},
   "outputs": [],
   "source": []
  },
  {
   "cell_type": "markdown",
   "metadata": {},
   "source": [
    "# ***Mass Model Testing***"
   ]
  },
  {
   "cell_type": "code",
   "execution_count": null,
   "metadata": {},
   "outputs": [],
   "source": [
    "# %%timeit\n",
    "import random\n",
    "\n",
    "# Assuming the Site, SolarPVArray, and SolarPVModel classes are defined elsewhere\n",
    "site = Site(name=\"Test Site\", address=\"123 Test Street\", client=\"Big Gerry\", \n",
    "            latitude=54.60452, longitude=-5.92860, tmz_hrs_east=0)\n",
    "\n",
    "surface_pitch = 35\n",
    "azimuth_list = [90, 45, 0, -45, -90]\n",
    "pv_eol = 0.88\n",
    "cost = 1250\n",
    "lifespan = 25\n",
    "eff = 0.21\n",
    "temp_coeff = -0.0048\n",
    "t_ab = 0.9\n",
    "\n",
    "max_pv = 7.5\n",
    "min_pv = 2.5\n",
    "pv_step_size = 0.25\n",
    "pv_list = []\n",
    "pv_models = {}\n",
    "\n",
    "for i in range(int((max_pv - min_pv) / pv_step_size)):\n",
    "    pv_list.append(min_pv + (i * pv_step_size))\n",
    "\n",
    "for pv_size in pv_list:\n",
    "    pv_kwp = pv_size\n",
    "\n",
    "    array_1 = SolarPVArray(pv_kwp, surface_pitch, azimuth_list[0], lifespan, pv_eol, cost, eff, temp_coeff, t_ab)\n",
    "    array_2 = SolarPVArray(pv_kwp, surface_pitch, azimuth_list[1], lifespan, pv_eol, cost, eff, temp_coeff, t_ab)\n",
    "    array_3 = SolarPVArray(pv_kwp, surface_pitch, azimuth_list[2], lifespan, pv_eol, cost, eff, temp_coeff, t_ab)\n",
    "    array_4 = SolarPVArray(pv_kwp, surface_pitch, azimuth_list[3], lifespan, pv_eol, cost, eff, temp_coeff, t_ab)\n",
    "    array_5 = SolarPVArray(pv_kwp, surface_pitch, azimuth_list[4], lifespan, pv_eol, cost, eff, temp_coeff, t_ab)\n",
    "\n",
    "    # Initialize and run the SolarPVModel with all arrays\n",
    "    arrays = [array_1, array_2, array_3, array_4, array_5]\n",
    "    pv_model = SolarPVModel(site=site, arrays=arrays)\n",
    "\n",
    "    pv_models[pv_size] = pv_model  # Store the model with pv_size as the key\n",
    "\n",
    "Total_gen = 0\n",
    "\n",
    "for model in pv_models.values():\n",
    "    Total_gen += model.summary.PV_Gen_kWh_Annual\n",
    "\n",
    "print(\"\")\n",
    "print(\"***************************************************\")\n",
    "print(f\"{round(Total_gen / 1000, 3)} MWh from {len(pv_list)} models simulating {len(pv_list) * 5} PV arrays in total.\")\n"
   ]
  },
  {
   "cell_type": "code",
   "execution_count": null,
   "metadata": {},
   "outputs": [],
   "source": [
    "pv_models.get(2.5).models[0][\"model_result\"]"
   ]
  },
  {
   "cell_type": "code",
   "execution_count": null,
   "metadata": {},
   "outputs": [],
   "source": [
    "# Access values from dictionary\n",
    "pv_models.get(2.5).summary_grouped.daily.PV_Gen_kWh_Total.sum()"
   ]
  },
  {
   "cell_type": "code",
   "execution_count": null,
   "metadata": {},
   "outputs": [],
   "source": [
    "sns.barplot(pv_models.get(2.5).summary_grouped.monthly.Cell_Temp_C_Avg - pv_models.get(2.5).summary_grouped.monthly.T2m)"
   ]
  },
  {
   "cell_type": "code",
   "execution_count": null,
   "metadata": {},
   "outputs": [],
   "source": [
    "sns.barplot(pv_models.get(2.5).summary_grouped.weekly.PV_Gen_kWh_Total)\n",
    "plt.gcf().set_size_inches(15, 8)"
   ]
  },
  {
   "cell_type": "code",
   "execution_count": null,
   "metadata": {},
   "outputs": [],
   "source": [
    "sns.barplot(data=pv_models.get(2.5).summary_grouped.daily, x=\"Day_of_Year\", y=\"PV_Gen_kWh_Total\", \n",
    "            hue=\"PV_Gen_kWh_Total\", palette=\"viridis\")\n",
    "\n",
    "plt.gcf().set_size_inches(15, 8)"
   ]
  },
  {
   "cell_type": "code",
   "execution_count": null,
   "metadata": {},
   "outputs": [],
   "source": [
    "for pv_size in pv_list:\n",
    "    print(f\"{round(pv_models.get(pv_size).summary_grouped.daily.PV_Gen_kWh_Total.sum() / 1000, 3)} MWh/yr\")"
   ]
  },
  {
   "cell_type": "markdown",
   "metadata": {},
   "source": [
    "# ***VISUAL TESTING***"
   ]
  },
  {
   "cell_type": "code",
   "execution_count": null,
   "metadata": {},
   "outputs": [],
   "source": [
    "variables = ['E_Beam_Wm2', 'E_Diffuse_Wm2', 'E_Ground_Wm2', 'E_POA_Wm2', 'ET_HRad_Wm2', \n",
    "            'Cell_Temp_C', 'PV_Gen_kWh', 'AOI', 'Zenith_Angle']\n",
    "\n",
    "testy = pv_model.all_models\n",
    "\n",
    "variable = \"PV_Gen_kWh\"\n",
    "\n",
    "variable_1 = f\"{variable}_Array_1\"\n",
    "variable_2 = f\"{variable}_Array_2\"\n",
    "variable_3 = f\"{variable}_Array_3\"\n",
    "variable_4 = f\"{variable}_Array_4\"\n",
    "variable_7 = f\"{variable}_Total\"\n",
    "variable_8 = f\"{variable}_Avg\"\n",
    "\n",
    "if variable_1 in testy:\n",
    "    sns.lineplot(testy.groupby(\"Hour_of_Day\")[variable_1].mean())\n",
    "if variable_2 in testy:\n",
    "    sns.lineplot(testy.groupby(\"Hour_of_Day\")[variable_2].mean())\n",
    "if variable_3 in testy:\n",
    "    sns.lineplot(testy.groupby(\"Hour_of_Day\")[variable_3].mean())\n",
    "if variable_4 in testy:\n",
    "    sns.lineplot(testy.groupby(\"Hour_of_Day\")[variable_4].mean())\n",
    "if variable_7 in testy:\n",
    "    sns.lineplot(testy.groupby(\"Hour_of_Day\")[variable_7].mean(), alpha=0.4, ls=\"--\")\n",
    "if variable_8 in testy:\n",
    "    sns.lineplot(testy.groupby(\"Hour_of_Day\")[variable_8].mean(), alpha=0.4, ls=\"--\")"
   ]
  },
  {
   "cell_type": "code",
   "execution_count": null,
   "metadata": {},
   "outputs": [],
   "source": [
    "sns.lineplot(pv_model.combined_model[\"Cell_Temp_C_Avg\"], alpha = 0.2, ls = \"--\", color = \"orange\")\n",
    "sns.lineplot(pv_model.combined_model[\"T2m\"])"
   ]
  },
  {
   "cell_type": "code",
   "execution_count": null,
   "metadata": {},
   "outputs": [],
   "source": [
    "sns.barplot(pv_model.summary_grouped.daily.T2m)"
   ]
  },
  {
   "cell_type": "code",
   "execution_count": null,
   "metadata": {},
   "outputs": [],
   "source": [
    "sns.lineplot(pv_model.combined_model.groupby(\"Hour_of_Day\")[\"PV_Gen_kWh_Total\"].mean())"
   ]
  },
  {
   "cell_type": "code",
   "execution_count": null,
   "metadata": {},
   "outputs": [],
   "source": [
    "pv_model.all_models[\"PV_Gen_kWh_Total\"].sum()"
   ]
  },
  {
   "cell_type": "code",
   "execution_count": null,
   "metadata": {},
   "outputs": [],
   "source": [
    "testytest = pv_model.all_models\n"
   ]
  },
  {
   "cell_type": "code",
   "execution_count": null,
   "metadata": {},
   "outputs": [],
   "source": [
    "filtered_columns = [col for col in testytest.columns if col.startswith('PV_Gen_kWh_Array_')]"
   ]
  },
  {
   "cell_type": "code",
   "execution_count": null,
   "metadata": {},
   "outputs": [],
   "source": [
    "testytesty = testytest[filtered_columns].sum()"
   ]
  },
  {
   "cell_type": "code",
   "execution_count": null,
   "metadata": {},
   "outputs": [],
   "source": [
    "testytesty[testytesty == testytesty.min()]"
   ]
  },
  {
   "cell_type": "code",
   "execution_count": null,
   "metadata": {},
   "outputs": [],
   "source": [
    "pv_model.all_models.columns"
   ]
  },
  {
   "cell_type": "code",
   "execution_count": null,
   "metadata": {},
   "outputs": [],
   "source": [
    "pv_model.all_models[\"PV_Gen_kWh_Total\"].sum()"
   ]
  },
  {
   "cell_type": "code",
   "execution_count": null,
   "metadata": {},
   "outputs": [],
   "source": [
    "sns.lineplot(pv_model.all_models[\"PV_Thermal_Loss_kWh_Total\"])"
   ]
  },
  {
   "cell_type": "code",
   "execution_count": null,
   "metadata": {},
   "outputs": [],
   "source": [
    "temp_losses = (pv_model.all_models[\"PV_Thermal_Loss_kWh_Total\"].sum() / pv_model.all_models[\"PV_Thermal_Loss_kWh_Total\"].sum() * 100)\n",
    "\n",
    "print(f\"{round(temp_losses, 3)}% change to power due to temperature losses\")"
   ]
  },
  {
   "cell_type": "code",
   "execution_count": null,
   "metadata": {},
   "outputs": [],
   "source": [
    "pv_model.all_models"
   ]
  },
  {
   "cell_type": "markdown",
   "metadata": {},
   "source": [
    "# ***MODEL ANALYSIS***"
   ]
  },
  {
   "cell_type": "code",
   "execution_count": null,
   "metadata": {},
   "outputs": [],
   "source": []
  },
  {
   "cell_type": "markdown",
   "metadata": {},
   "source": [
    "# ***PLOTLY***"
   ]
  },
  {
   "cell_type": "code",
   "execution_count": null,
   "metadata": {},
   "outputs": [],
   "source": []
  }
 ],
 "metadata": {
  "kernelspec": {
   "display_name": "Python 3",
   "language": "python",
   "name": "python3"
  },
  "language_info": {
   "codemirror_mode": {
    "name": "ipython",
    "version": 3
   },
   "file_extension": ".py",
   "mimetype": "text/x-python",
   "name": "python",
   "nbconvert_exporter": "python",
   "pygments_lexer": "ipython3",
   "version": "3.11.8"
  }
 },
 "nbformat": 4,
 "nbformat_minor": 2
}
